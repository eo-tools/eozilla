{
 "cells": [
  {
   "cell_type": "markdown",
   "id": "2dd538ba1caa48f6",
   "metadata": {},
   "source": [
    "# Airflow\n",
    "\n",
    "This section demonstrates the use of [Apache Airflow](https://airflow.apache.org/) as backend.\n",
    "\n",
    "Start by running a local Airflow instance with some generated test DAGs:\n",
    "\n",
    "```commandline\n",
    "cd eozilla-airflow\n",
    "pixi install\n",
    "pixi run airflow standalone\n",
    "```\n",
    "\n",
    "Then run the S2GOS gateway server with the local Airflow instance (assuming\n",
    "the local Airflow webserver runs on http://localhost:8080):\n",
    "\n",
    "```commandline\n",
    "pixi shell\n",
    "wraptile run -- wraptile.services.airflow:service --airflow-password=a8e7f4bb230\n",
    "```\n",
    "\n",
    "Get the airflow user password from `eozilla-airflow/.airflow/simple_auth_manager_passwords.json.generated`."
   ]
  },
  {
   "cell_type": "code",
   "execution_count": 1,
   "id": "5344cc3b44dbcef0",
   "metadata": {},
   "outputs": [],
   "source": [
    "from cuiman import Client\n",
    "from gavicore.models import ProcessRequest"
   ]
  },
  {
   "cell_type": "code",
   "execution_count": 2,
   "id": "ee384aba03475413",
   "metadata": {},
   "outputs": [
    {
     "data": {
      "application/json": {
       "access_token": null,
       "server_url": "http://127.0.0.1:8008",
       "user_name": null
      },
      "text/plain": [
       "<s2gos_client.api.client.Client at 0x7f2430dd7380>"
      ]
     },
     "execution_count": 2,
     "metadata": {
      "application/json": {
       "root": "Client configuration:"
      }
     },
     "output_type": "execute_result"
    }
   ],
   "source": [
    "client = Client(server_url=\"http://127.0.0.1:8008\")\n",
    "client"
   ]
  },
  {
   "cell_type": "code",
   "execution_count": 3,
   "id": "ce2d1aaa1852ea09",
   "metadata": {},
   "outputs": [
    {
     "data": {
      "application/json": {
       "description": "A gateway API compliant with OGC API - Processes that uses an Airflow backend.",
       "links": [
        {
         "href": "http://127.0.0.1:8008/",
         "hreflang": "en",
         "rel": "self",
         "title": "get_capabilities",
         "type": "application/json"
        },
        {
         "href": "http://127.0.0.1:8008/openapi.json",
         "hreflang": "en",
         "rel": "service",
         "title": "openapi",
         "type": "application/json"
        },
        {
         "href": "http://127.0.0.1:8008/docs",
         "hreflang": "en",
         "rel": "service",
         "title": "swagger_ui_html",
         "type": "text/html"
        },
        {
         "href": "http://127.0.0.1:8008/docs/oauth2-redirect",
         "hreflang": "en",
         "rel": "service",
         "title": "swagger_ui_redirect",
         "type": "text/html"
        },
        {
         "href": "http://127.0.0.1:8008/redoc",
         "hreflang": "en",
         "rel": "service",
         "title": "redoc_html",
         "type": "text/html"
        },
        {
         "href": "http://127.0.0.1:8008/",
         "hreflang": "en",
         "rel": "service",
         "title": "get_capabilities",
         "type": "application/json"
        },
        {
         "href": "http://127.0.0.1:8008/conformance",
         "hreflang": "en",
         "rel": "service",
         "title": "get_conformance",
         "type": "application/json"
        },
        {
         "href": "http://127.0.0.1:8008/processes",
         "hreflang": "en",
         "rel": "service",
         "title": "get_processes",
         "type": "application/json"
        },
        {
         "href": "http://127.0.0.1:8008/processes/{processID}",
         "hreflang": "en",
         "rel": "service",
         "title": "get_process",
         "type": "application/json"
        },
        {
         "href": "http://127.0.0.1:8008/processes/{processID}/execution",
         "hreflang": "en",
         "rel": "service",
         "title": "execute_process",
         "type": "application/json"
        },
        {
         "href": "http://127.0.0.1:8008/jobs",
         "hreflang": "en",
         "rel": "service",
         "title": "get_jobs",
         "type": "application/json"
        },
        {
         "href": "http://127.0.0.1:8008/jobs/{jobId}",
         "hreflang": "en",
         "rel": "service",
         "title": "get_job",
         "type": "application/json"
        },
        {
         "href": "http://127.0.0.1:8008/jobs/{jobId}",
         "hreflang": "en",
         "rel": "service",
         "title": "dismiss_job",
         "type": "application/json"
        },
        {
         "href": "http://127.0.0.1:8008/jobs/{jobId}/results",
         "hreflang": "en",
         "rel": "service",
         "title": "get_job_results",
         "type": "application/json"
        }
       ],
       "title": "Airflow Service"
      },
      "text/plain": [
       "Capabilities(title='Airflow Service', description='A gateway API compliant with OGC API - Processes that uses an Airflow backend.', links=[Link(href='http://127.0.0.1:8008/', rel='self', type='application/json', hreflang='en', title='get_capabilities'), Link(href='http://127.0.0.1:8008/openapi.json', rel='service', type='application/json', hreflang='en', title='openapi'), Link(href='http://127.0.0.1:8008/docs', rel='service', type='text/html', hreflang='en', title='swagger_ui_html'), Link(href='http://127.0.0.1:8008/docs/oauth2-redirect', rel='service', type='text/html', hreflang='en', title='swagger_ui_redirect'), Link(href='http://127.0.0.1:8008/redoc', rel='service', type='text/html', hreflang='en', title='redoc_html'), Link(href='http://127.0.0.1:8008/', rel='service', type='application/json', hreflang='en', title='get_capabilities'), Link(href='http://127.0.0.1:8008/conformance', rel='service', type='application/json', hreflang='en', title='get_conformance'), Link(href='http://127.0.0.1:8008/processes', rel='service', type='application/json', hreflang='en', title='get_processes'), Link(href='http://127.0.0.1:8008/processes/{processID}', rel='service', type='application/json', hreflang='en', title='get_process'), Link(href='http://127.0.0.1:8008/processes/{processID}/execution', rel='service', type='application/json', hreflang='en', title='execute_process'), Link(href='http://127.0.0.1:8008/jobs', rel='service', type='application/json', hreflang='en', title='get_jobs'), Link(href='http://127.0.0.1:8008/jobs/{jobId}', rel='service', type='application/json', hreflang='en', title='get_job'), Link(href='http://127.0.0.1:8008/jobs/{jobId}', rel='service', type='application/json', hreflang='en', title='dismiss_job'), Link(href='http://127.0.0.1:8008/jobs/{jobId}/results', rel='service', type='application/json', hreflang='en', title='get_job_results')])"
      ]
     },
     "execution_count": 3,
     "metadata": {
      "application/json": {
       "root": "Capabilities object:"
      }
     },
     "output_type": "execute_result"
    }
   ],
   "source": [
    "client.get_capabilities()"
   ]
  },
  {
   "cell_type": "code",
   "execution_count": 4,
   "id": "976ef2e8c4a725d4",
   "metadata": {},
   "outputs": [
    {
     "data": {
      "application/json": {
       "conformsTo": [
        "http://www.opengis.net/spec/ogcapi-processes-1/1.0/conf/core",
        "http://www.opengis.net/spec/ogcapi-processes-1/1.0/conf/ogc-process-description",
        "http://www.opengis.net/spec/ogcapi-processes-1/1.0/conf/json",
        "http://www.opengis.net/spec/ogcapi-processes-1/1.0/conf/oas30",
        "http://www.opengis.net/spec/ogcapi-processes-1/1.0/conf/job-list",
        "http://www.opengis.net/spec/ogcapi-processes-1/1.0/conf/dismiss"
       ]
      },
      "text/plain": [
       "ConformanceDeclaration(conformsTo=['http://www.opengis.net/spec/ogcapi-processes-1/1.0/conf/core', 'http://www.opengis.net/spec/ogcapi-processes-1/1.0/conf/ogc-process-description', 'http://www.opengis.net/spec/ogcapi-processes-1/1.0/conf/json', 'http://www.opengis.net/spec/ogcapi-processes-1/1.0/conf/oas30', 'http://www.opengis.net/spec/ogcapi-processes-1/1.0/conf/job-list', 'http://www.opengis.net/spec/ogcapi-processes-1/1.0/conf/dismiss'])"
      ]
     },
     "execution_count": 4,
     "metadata": {
      "application/json": {
       "root": "ConformanceDeclaration object:"
      }
     },
     "output_type": "execute_result"
    }
   ],
   "source": [
    "client.get_conformance()"
   ]
  },
  {
   "cell_type": "code",
   "execution_count": 5,
   "id": "c37d3dc6ccb818dc",
   "metadata": {},
   "outputs": [
    {
     "data": {
      "application/json": {
       "links": [
        {
         "href": "http://127.0.0.1:8008/processes",
         "hreflang": "en",
         "rel": "self",
         "title": "get_processes",
         "type": "application/json"
        }
       ],
       "processes": [
        {
         "description": "Returns the list of prime numbers between a `min_val` and `max_val`. ",
         "id": "primes_between",
         "title": "Prime Processor",
         "version": "0.0.0"
        },
        {
         "id": "return_base_model",
         "title": "BaseModel Test",
         "version": "0.0.0"
        },
        {
         "description": "Simulate a set scene images slices for testing. Creates an xarray dataset with `periodicity` time slices and writes it as Zarr into a temporary location. Requires installed `dask`, `xarray`, and `zarr` packages.",
         "id": "simulate_scene",
         "title": "Generate scene for testing",
         "version": "0.0.0"
        },
        {
         "description": "Sleeps for `duration` seconds. Fails on purpose if `fail` is `True`. Returns the effective amount of sleep in seconds.",
         "id": "sleep_a_while",
         "title": "Sleep Processor",
         "version": "0.0.0"
        }
       ]
      },
      "text/plain": [
       "ProcessList(processes=[ProcessSummary(title='Prime Processor', description='Returns the list of prime numbers between a `min_val` and `max_val`. ', keywords=None, metadata=None, additionalParameters=None, id='primes_between', version='0.0.0', jobControlOptions=None, outputTransmission=None, links=None), ProcessSummary(title='BaseModel Test', description=None, keywords=None, metadata=None, additionalParameters=None, id='return_base_model', version='0.0.0', jobControlOptions=None, outputTransmission=None, links=None), ProcessSummary(title='Generate scene for testing', description='Simulate a set scene images slices for testing. Creates an xarray dataset with `periodicity` time slices and writes it as Zarr into a temporary location. Requires installed `dask`, `xarray`, and `zarr` packages.', keywords=None, metadata=None, additionalParameters=None, id='simulate_scene', version='0.0.0', jobControlOptions=None, outputTransmission=None, links=None), ProcessSummary(title='Sleep Processor', description='Sleeps for `duration` seconds. Fails on purpose if `fail` is `True`. Returns the effective amount of sleep in seconds.', keywords=None, metadata=None, additionalParameters=None, id='sleep_a_while', version='0.0.0', jobControlOptions=None, outputTransmission=None, links=None)], links=[Link(href='http://127.0.0.1:8008/processes', rel='self', type='application/json', hreflang='en', title='get_processes')])"
      ]
     },
     "execution_count": 5,
     "metadata": {
      "application/json": {
       "root": "ProcessList object:"
      }
     },
     "output_type": "execute_result"
    }
   ],
   "source": [
    "client.get_processes()"
   ]
  },
  {
   "cell_type": "code",
   "execution_count": 6,
   "id": "d0588c1c8746074e",
   "metadata": {},
   "outputs": [
    {
     "data": {
      "application/json": {
       "description": "Sleeps for `duration` seconds. Fails on purpose if `fail` is `True`. Returns the effective amount of sleep in seconds.",
       "id": "sleep_a_while",
       "inputs": {},
       "outputs": {},
       "title": "Sleep Processor",
       "version": "0.0.0"
      },
      "text/plain": [
       "ProcessDescription(title='Sleep Processor', description='Sleeps for `duration` seconds. Fails on purpose if `fail` is `True`. Returns the effective amount of sleep in seconds.', keywords=None, metadata=None, additionalParameters=None, id='sleep_a_while', version='0.0.0', jobControlOptions=None, outputTransmission=None, links=None, inputs={}, outputs={})"
      ]
     },
     "execution_count": 6,
     "metadata": {
      "application/json": {
       "root": "ProcessDescription object:"
      }
     },
     "output_type": "execute_result"
    }
   ],
   "source": [
    "client.get_process(process_id=\"sleep_a_while\")"
   ]
  },
  {
   "cell_type": "code",
   "execution_count": 7,
   "id": "4a52bc89af429f9f",
   "metadata": {},
   "outputs": [
    {
     "data": {
      "application/json": {
       "jobs": [
        {
         "created": "2025-07-15T11:12:09.501829Z",
         "finished": "2025-07-15T11:12:13.599646Z",
         "jobID": "manual__2025-07-15T11:12:09.473432+00:00",
         "processID": "primes_between",
         "started": "2025-07-15T11:12:09.689505Z",
         "status": "successful",
         "type": "process",
         "updated": "2025-07-15T11:12:13.592815Z"
        },
        {
         "created": "2025-09-09T13:31:19.770932Z",
         "finished": "2025-09-09T13:31:24.008108Z",
         "jobID": "primes_between__20250909133119_1",
         "processID": "primes_between",
         "started": "2025-09-09T13:31:20.451716Z",
         "status": "successful",
         "type": "process",
         "updated": "2025-09-09T13:31:24.003845Z"
        },
        {
         "created": "2025-09-09T14:00:46.601700Z",
         "finished": "2025-09-09T14:00:49.218611Z",
         "jobID": "primes_between__20250909140046_1",
         "processID": "primes_between",
         "started": "2025-09-09T14:00:47.320271Z",
         "status": "successful",
         "type": "process",
         "updated": "2025-09-09T14:00:49.212736Z"
        },
        {
         "created": "2025-09-09T14:08:20.775729Z",
         "finished": "2025-09-09T14:08:23.296110Z",
         "jobID": "primes_between__20250909140820_1",
         "processID": "primes_between",
         "started": "2025-09-09T14:08:22.043965Z",
         "status": "successful",
         "type": "process",
         "updated": "2025-09-09T14:08:23.292599Z"
        },
        {
         "created": "2025-09-09T14:12:53.830201Z",
         "finished": "2025-09-09T14:12:55.669104Z",
         "jobID": "primes_between__20250909141253_1",
         "processID": "primes_between",
         "started": "2025-09-09T14:12:54.336515Z",
         "status": "successful",
         "type": "process",
         "updated": "2025-09-09T14:12:55.662957Z"
        },
        {
         "created": "2025-07-15T12:43:21.762728Z",
         "finished": "2025-07-15T12:44:15.335494Z",
         "jobID": "manual__2025-07-15T12:43:21.705839+00:00",
         "processID": "sleep_a_while",
         "started": "2025-07-15T12:43:23.054525Z",
         "status": "failed",
         "type": "process",
         "updated": "2025-07-15T12:44:15.329219Z"
        },
        {
         "created": "2025-09-09T13:31:22.836061Z",
         "finished": "2025-09-09T13:31:35.360842Z",
         "jobID": "sleep_a_while__20250909133121_2",
         "processID": "sleep_a_while",
         "started": "2025-09-09T13:31:23.950645Z",
         "status": "successful",
         "type": "process",
         "updated": "2025-09-09T13:31:35.356595Z"
        },
        {
         "created": "2025-09-09T14:00:46.708624Z",
         "finished": "2025-09-09T14:00:59.371320Z",
         "jobID": "sleep_a_while__20250909140046_2",
         "processID": "sleep_a_while",
         "started": "2025-09-09T14:00:47.325045Z",
         "status": "successful",
         "type": "process",
         "updated": "2025-09-09T14:00:59.367748Z"
        },
        {
         "created": "2025-09-09T14:08:20.863568Z",
         "finished": "2025-09-09T14:08:32.877437Z",
         "jobID": "sleep_a_while__20250909140820_2",
         "processID": "sleep_a_while",
         "started": "2025-09-09T14:08:22.045075Z",
         "status": "successful",
         "type": "process",
         "updated": "2025-09-09T14:08:32.873613Z"
        },
        {
         "created": "2025-09-09T14:12:53.960935Z",
         "finished": "2025-09-09T14:13:07.991002Z",
         "jobID": "sleep_a_while__20250909141253_2",
         "processID": "sleep_a_while",
         "started": "2025-09-09T14:12:54.338449Z",
         "status": "successful",
         "type": "process",
         "updated": "2025-09-09T14:13:07.986703Z"
        }
       ],
       "links": [
        {
         "href": "http://127.0.0.1:8008/jobs",
         "hreflang": "en",
         "rel": "self",
         "title": "get_jobs",
         "type": "application/json"
        }
       ]
      },
      "text/plain": [
       "JobList(jobs=[JobInfo(processID='primes_between', type=<JobType.process: 'process'>, jobID='manual__2025-07-15T11:12:09.473432+00:00', status=<JobStatus.successful: 'successful'>, message=None, created=datetime.datetime(2025, 7, 15, 11, 12, 9, 501829, tzinfo=TzInfo(UTC)), started=datetime.datetime(2025, 7, 15, 11, 12, 9, 689505, tzinfo=TzInfo(UTC)), finished=datetime.datetime(2025, 7, 15, 11, 12, 13, 599646, tzinfo=TzInfo(UTC)), updated=datetime.datetime(2025, 7, 15, 11, 12, 13, 592815, tzinfo=TzInfo(UTC)), progress=None, links=None, traceback=None), JobInfo(processID='primes_between', type=<JobType.process: 'process'>, jobID='primes_between__20250909133119_1', status=<JobStatus.successful: 'successful'>, message=None, created=datetime.datetime(2025, 9, 9, 13, 31, 19, 770932, tzinfo=TzInfo(UTC)), started=datetime.datetime(2025, 9, 9, 13, 31, 20, 451716, tzinfo=TzInfo(UTC)), finished=datetime.datetime(2025, 9, 9, 13, 31, 24, 8108, tzinfo=TzInfo(UTC)), updated=datetime.datetime(2025, 9, 9, 13, 31, 24, 3845, tzinfo=TzInfo(UTC)), progress=None, links=None, traceback=None), JobInfo(processID='primes_between', type=<JobType.process: 'process'>, jobID='primes_between__20250909140046_1', status=<JobStatus.successful: 'successful'>, message=None, created=datetime.datetime(2025, 9, 9, 14, 0, 46, 601700, tzinfo=TzInfo(UTC)), started=datetime.datetime(2025, 9, 9, 14, 0, 47, 320271, tzinfo=TzInfo(UTC)), finished=datetime.datetime(2025, 9, 9, 14, 0, 49, 218611, tzinfo=TzInfo(UTC)), updated=datetime.datetime(2025, 9, 9, 14, 0, 49, 212736, tzinfo=TzInfo(UTC)), progress=None, links=None, traceback=None), JobInfo(processID='primes_between', type=<JobType.process: 'process'>, jobID='primes_between__20250909140820_1', status=<JobStatus.successful: 'successful'>, message=None, created=datetime.datetime(2025, 9, 9, 14, 8, 20, 775729, tzinfo=TzInfo(UTC)), started=datetime.datetime(2025, 9, 9, 14, 8, 22, 43965, tzinfo=TzInfo(UTC)), finished=datetime.datetime(2025, 9, 9, 14, 8, 23, 296110, tzinfo=TzInfo(UTC)), updated=datetime.datetime(2025, 9, 9, 14, 8, 23, 292599, tzinfo=TzInfo(UTC)), progress=None, links=None, traceback=None), JobInfo(processID='primes_between', type=<JobType.process: 'process'>, jobID='primes_between__20250909141253_1', status=<JobStatus.successful: 'successful'>, message=None, created=datetime.datetime(2025, 9, 9, 14, 12, 53, 830201, tzinfo=TzInfo(UTC)), started=datetime.datetime(2025, 9, 9, 14, 12, 54, 336515, tzinfo=TzInfo(UTC)), finished=datetime.datetime(2025, 9, 9, 14, 12, 55, 669104, tzinfo=TzInfo(UTC)), updated=datetime.datetime(2025, 9, 9, 14, 12, 55, 662957, tzinfo=TzInfo(UTC)), progress=None, links=None, traceback=None), JobInfo(processID='sleep_a_while', type=<JobType.process: 'process'>, jobID='manual__2025-07-15T12:43:21.705839+00:00', status=<JobStatus.failed: 'failed'>, message=None, created=datetime.datetime(2025, 7, 15, 12, 43, 21, 762728, tzinfo=TzInfo(UTC)), started=datetime.datetime(2025, 7, 15, 12, 43, 23, 54525, tzinfo=TzInfo(UTC)), finished=datetime.datetime(2025, 7, 15, 12, 44, 15, 335494, tzinfo=TzInfo(UTC)), updated=datetime.datetime(2025, 7, 15, 12, 44, 15, 329219, tzinfo=TzInfo(UTC)), progress=None, links=None, traceback=None), JobInfo(processID='sleep_a_while', type=<JobType.process: 'process'>, jobID='sleep_a_while__20250909133121_2', status=<JobStatus.successful: 'successful'>, message=None, created=datetime.datetime(2025, 9, 9, 13, 31, 22, 836061, tzinfo=TzInfo(UTC)), started=datetime.datetime(2025, 9, 9, 13, 31, 23, 950645, tzinfo=TzInfo(UTC)), finished=datetime.datetime(2025, 9, 9, 13, 31, 35, 360842, tzinfo=TzInfo(UTC)), updated=datetime.datetime(2025, 9, 9, 13, 31, 35, 356595, tzinfo=TzInfo(UTC)), progress=None, links=None, traceback=None), JobInfo(processID='sleep_a_while', type=<JobType.process: 'process'>, jobID='sleep_a_while__20250909140046_2', status=<JobStatus.successful: 'successful'>, message=None, created=datetime.datetime(2025, 9, 9, 14, 0, 46, 708624, tzinfo=TzInfo(UTC)), started=datetime.datetime(2025, 9, 9, 14, 0, 47, 325045, tzinfo=TzInfo(UTC)), finished=datetime.datetime(2025, 9, 9, 14, 0, 59, 371320, tzinfo=TzInfo(UTC)), updated=datetime.datetime(2025, 9, 9, 14, 0, 59, 367748, tzinfo=TzInfo(UTC)), progress=None, links=None, traceback=None), JobInfo(processID='sleep_a_while', type=<JobType.process: 'process'>, jobID='sleep_a_while__20250909140820_2', status=<JobStatus.successful: 'successful'>, message=None, created=datetime.datetime(2025, 9, 9, 14, 8, 20, 863568, tzinfo=TzInfo(UTC)), started=datetime.datetime(2025, 9, 9, 14, 8, 22, 45075, tzinfo=TzInfo(UTC)), finished=datetime.datetime(2025, 9, 9, 14, 8, 32, 877437, tzinfo=TzInfo(UTC)), updated=datetime.datetime(2025, 9, 9, 14, 8, 32, 873613, tzinfo=TzInfo(UTC)), progress=None, links=None, traceback=None), JobInfo(processID='sleep_a_while', type=<JobType.process: 'process'>, jobID='sleep_a_while__20250909141253_2', status=<JobStatus.successful: 'successful'>, message=None, created=datetime.datetime(2025, 9, 9, 14, 12, 53, 960935, tzinfo=TzInfo(UTC)), started=datetime.datetime(2025, 9, 9, 14, 12, 54, 338449, tzinfo=TzInfo(UTC)), finished=datetime.datetime(2025, 9, 9, 14, 13, 7, 991002, tzinfo=TzInfo(UTC)), updated=datetime.datetime(2025, 9, 9, 14, 13, 7, 986703, tzinfo=TzInfo(UTC)), progress=None, links=None, traceback=None)], links=[Link(href='http://127.0.0.1:8008/jobs', rel='self', type='application/json', hreflang='en', title='get_jobs')])"
      ]
     },
     "execution_count": 7,
     "metadata": {
      "application/json": {
       "root": "JobList object:"
      }
     },
     "output_type": "execute_result"
    }
   ],
   "source": [
    "client.get_jobs()"
   ]
  },
  {
   "cell_type": "code",
   "execution_count": 8,
   "id": "102d4669babef639",
   "metadata": {},
   "outputs": [
    {
     "data": {
      "application/json": {
       "created": "2025-09-09T14:27:49.355547Z",
       "jobID": "primes_between__20250909142749_1",
       "processID": "primes_between",
       "status": "accepted",
       "type": "process"
      },
      "text/plain": [
       "JobInfo(processID='primes_between', type=<JobType.process: 'process'>, jobID='primes_between__20250909142749_1', status=<JobStatus.accepted: 'accepted'>, message=None, created=datetime.datetime(2025, 9, 9, 14, 27, 49, 355547, tzinfo=TzInfo(UTC)), started=None, finished=None, updated=None, progress=None, links=None, traceback=None)"
      ]
     },
     "execution_count": 8,
     "metadata": {
      "application/json": {
       "root": "JobInfo object:"
      }
     },
     "output_type": "execute_result"
    }
   ],
   "source": [
    "client.execute_process(process_id=\"primes_between\", request=ProcessRequest())"
   ]
  },
  {
   "cell_type": "code",
   "execution_count": 9,
   "id": "ee5c45a5-5642-4119-b783-ea72cc022c18",
   "metadata": {},
   "outputs": [
    {
     "data": {
      "application/json": {
       "created": "2025-09-09T14:27:49.520012Z",
       "jobID": "sleep_a_while__20250909142749_2",
       "processID": "sleep_a_while",
       "status": "accepted",
       "type": "process"
      },
      "text/plain": [
       "JobInfo(processID='sleep_a_while', type=<JobType.process: 'process'>, jobID='sleep_a_while__20250909142749_2', status=<JobStatus.accepted: 'accepted'>, message=None, created=datetime.datetime(2025, 9, 9, 14, 27, 49, 520012, tzinfo=TzInfo(UTC)), started=None, finished=None, updated=None, progress=None, links=None, traceback=None)"
      ]
     },
     "execution_count": 9,
     "metadata": {
      "application/json": {
       "root": "JobInfo object:"
      }
     },
     "output_type": "execute_result"
    }
   ],
   "source": [
    "client.execute_process(process_id=\"sleep_a_while\", request=ProcessRequest())"
   ]
  },
  {
   "cell_type": "code",
   "execution_count": 10,
   "id": "c093c714bbff3984",
   "metadata": {},
   "outputs": [
    {
     "data": {
      "application/json": {
       "jobs": [
        {
         "created": "2025-07-15T11:12:09.501829Z",
         "finished": "2025-07-15T11:12:13.599646Z",
         "jobID": "manual__2025-07-15T11:12:09.473432+00:00",
         "processID": "primes_between",
         "started": "2025-07-15T11:12:09.689505Z",
         "status": "successful",
         "type": "process",
         "updated": "2025-07-15T11:12:13.592815Z"
        },
        {
         "created": "2025-09-09T13:31:19.770932Z",
         "finished": "2025-09-09T13:31:24.008108Z",
         "jobID": "primes_between__20250909133119_1",
         "processID": "primes_between",
         "started": "2025-09-09T13:31:20.451716Z",
         "status": "successful",
         "type": "process",
         "updated": "2025-09-09T13:31:24.003845Z"
        },
        {
         "created": "2025-09-09T14:00:46.601700Z",
         "finished": "2025-09-09T14:00:49.218611Z",
         "jobID": "primes_between__20250909140046_1",
         "processID": "primes_between",
         "started": "2025-09-09T14:00:47.320271Z",
         "status": "successful",
         "type": "process",
         "updated": "2025-09-09T14:00:49.212736Z"
        },
        {
         "created": "2025-09-09T14:08:20.775729Z",
         "finished": "2025-09-09T14:08:23.296110Z",
         "jobID": "primes_between__20250909140820_1",
         "processID": "primes_between",
         "started": "2025-09-09T14:08:22.043965Z",
         "status": "successful",
         "type": "process",
         "updated": "2025-09-09T14:08:23.292599Z"
        },
        {
         "created": "2025-09-09T14:12:53.830201Z",
         "finished": "2025-09-09T14:12:55.669104Z",
         "jobID": "primes_between__20250909141253_1",
         "processID": "primes_between",
         "started": "2025-09-09T14:12:54.336515Z",
         "status": "successful",
         "type": "process",
         "updated": "2025-09-09T14:12:55.662957Z"
        },
        {
         "created": "2025-09-09T14:27:49.355547Z",
         "jobID": "primes_between__20250909142749_1",
         "processID": "primes_between",
         "status": "accepted",
         "type": "process"
        },
        {
         "created": "2025-07-15T12:43:21.762728Z",
         "finished": "2025-07-15T12:44:15.335494Z",
         "jobID": "manual__2025-07-15T12:43:21.705839+00:00",
         "processID": "sleep_a_while",
         "started": "2025-07-15T12:43:23.054525Z",
         "status": "failed",
         "type": "process",
         "updated": "2025-07-15T12:44:15.329219Z"
        },
        {
         "created": "2025-09-09T13:31:22.836061Z",
         "finished": "2025-09-09T13:31:35.360842Z",
         "jobID": "sleep_a_while__20250909133121_2",
         "processID": "sleep_a_while",
         "started": "2025-09-09T13:31:23.950645Z",
         "status": "successful",
         "type": "process",
         "updated": "2025-09-09T13:31:35.356595Z"
        },
        {
         "created": "2025-09-09T14:00:46.708624Z",
         "finished": "2025-09-09T14:00:59.371320Z",
         "jobID": "sleep_a_while__20250909140046_2",
         "processID": "sleep_a_while",
         "started": "2025-09-09T14:00:47.325045Z",
         "status": "successful",
         "type": "process",
         "updated": "2025-09-09T14:00:59.367748Z"
        },
        {
         "created": "2025-09-09T14:08:20.863568Z",
         "finished": "2025-09-09T14:08:32.877437Z",
         "jobID": "sleep_a_while__20250909140820_2",
         "processID": "sleep_a_while",
         "started": "2025-09-09T14:08:22.045075Z",
         "status": "successful",
         "type": "process",
         "updated": "2025-09-09T14:08:32.873613Z"
        },
        {
         "created": "2025-09-09T14:12:53.960935Z",
         "finished": "2025-09-09T14:13:07.991002Z",
         "jobID": "sleep_a_while__20250909141253_2",
         "processID": "sleep_a_while",
         "started": "2025-09-09T14:12:54.338449Z",
         "status": "successful",
         "type": "process",
         "updated": "2025-09-09T14:13:07.986703Z"
        },
        {
         "created": "2025-09-09T14:27:49.520012Z",
         "jobID": "sleep_a_while__20250909142749_2",
         "processID": "sleep_a_while",
         "status": "accepted",
         "type": "process"
        }
       ],
       "links": [
        {
         "href": "http://127.0.0.1:8008/jobs",
         "hreflang": "en",
         "rel": "self",
         "title": "get_jobs",
         "type": "application/json"
        }
       ]
      },
      "text/plain": [
       "JobList(jobs=[JobInfo(processID='primes_between', type=<JobType.process: 'process'>, jobID='manual__2025-07-15T11:12:09.473432+00:00', status=<JobStatus.successful: 'successful'>, message=None, created=datetime.datetime(2025, 7, 15, 11, 12, 9, 501829, tzinfo=TzInfo(UTC)), started=datetime.datetime(2025, 7, 15, 11, 12, 9, 689505, tzinfo=TzInfo(UTC)), finished=datetime.datetime(2025, 7, 15, 11, 12, 13, 599646, tzinfo=TzInfo(UTC)), updated=datetime.datetime(2025, 7, 15, 11, 12, 13, 592815, tzinfo=TzInfo(UTC)), progress=None, links=None, traceback=None), JobInfo(processID='primes_between', type=<JobType.process: 'process'>, jobID='primes_between__20250909133119_1', status=<JobStatus.successful: 'successful'>, message=None, created=datetime.datetime(2025, 9, 9, 13, 31, 19, 770932, tzinfo=TzInfo(UTC)), started=datetime.datetime(2025, 9, 9, 13, 31, 20, 451716, tzinfo=TzInfo(UTC)), finished=datetime.datetime(2025, 9, 9, 13, 31, 24, 8108, tzinfo=TzInfo(UTC)), updated=datetime.datetime(2025, 9, 9, 13, 31, 24, 3845, tzinfo=TzInfo(UTC)), progress=None, links=None, traceback=None), JobInfo(processID='primes_between', type=<JobType.process: 'process'>, jobID='primes_between__20250909140046_1', status=<JobStatus.successful: 'successful'>, message=None, created=datetime.datetime(2025, 9, 9, 14, 0, 46, 601700, tzinfo=TzInfo(UTC)), started=datetime.datetime(2025, 9, 9, 14, 0, 47, 320271, tzinfo=TzInfo(UTC)), finished=datetime.datetime(2025, 9, 9, 14, 0, 49, 218611, tzinfo=TzInfo(UTC)), updated=datetime.datetime(2025, 9, 9, 14, 0, 49, 212736, tzinfo=TzInfo(UTC)), progress=None, links=None, traceback=None), JobInfo(processID='primes_between', type=<JobType.process: 'process'>, jobID='primes_between__20250909140820_1', status=<JobStatus.successful: 'successful'>, message=None, created=datetime.datetime(2025, 9, 9, 14, 8, 20, 775729, tzinfo=TzInfo(UTC)), started=datetime.datetime(2025, 9, 9, 14, 8, 22, 43965, tzinfo=TzInfo(UTC)), finished=datetime.datetime(2025, 9, 9, 14, 8, 23, 296110, tzinfo=TzInfo(UTC)), updated=datetime.datetime(2025, 9, 9, 14, 8, 23, 292599, tzinfo=TzInfo(UTC)), progress=None, links=None, traceback=None), JobInfo(processID='primes_between', type=<JobType.process: 'process'>, jobID='primes_between__20250909141253_1', status=<JobStatus.successful: 'successful'>, message=None, created=datetime.datetime(2025, 9, 9, 14, 12, 53, 830201, tzinfo=TzInfo(UTC)), started=datetime.datetime(2025, 9, 9, 14, 12, 54, 336515, tzinfo=TzInfo(UTC)), finished=datetime.datetime(2025, 9, 9, 14, 12, 55, 669104, tzinfo=TzInfo(UTC)), updated=datetime.datetime(2025, 9, 9, 14, 12, 55, 662957, tzinfo=TzInfo(UTC)), progress=None, links=None, traceback=None), JobInfo(processID='primes_between', type=<JobType.process: 'process'>, jobID='primes_between__20250909142749_1', status=<JobStatus.accepted: 'accepted'>, message=None, created=datetime.datetime(2025, 9, 9, 14, 27, 49, 355547, tzinfo=TzInfo(UTC)), started=None, finished=None, updated=None, progress=None, links=None, traceback=None), JobInfo(processID='sleep_a_while', type=<JobType.process: 'process'>, jobID='manual__2025-07-15T12:43:21.705839+00:00', status=<JobStatus.failed: 'failed'>, message=None, created=datetime.datetime(2025, 7, 15, 12, 43, 21, 762728, tzinfo=TzInfo(UTC)), started=datetime.datetime(2025, 7, 15, 12, 43, 23, 54525, tzinfo=TzInfo(UTC)), finished=datetime.datetime(2025, 7, 15, 12, 44, 15, 335494, tzinfo=TzInfo(UTC)), updated=datetime.datetime(2025, 7, 15, 12, 44, 15, 329219, tzinfo=TzInfo(UTC)), progress=None, links=None, traceback=None), JobInfo(processID='sleep_a_while', type=<JobType.process: 'process'>, jobID='sleep_a_while__20250909133121_2', status=<JobStatus.successful: 'successful'>, message=None, created=datetime.datetime(2025, 9, 9, 13, 31, 22, 836061, tzinfo=TzInfo(UTC)), started=datetime.datetime(2025, 9, 9, 13, 31, 23, 950645, tzinfo=TzInfo(UTC)), finished=datetime.datetime(2025, 9, 9, 13, 31, 35, 360842, tzinfo=TzInfo(UTC)), updated=datetime.datetime(2025, 9, 9, 13, 31, 35, 356595, tzinfo=TzInfo(UTC)), progress=None, links=None, traceback=None), JobInfo(processID='sleep_a_while', type=<JobType.process: 'process'>, jobID='sleep_a_while__20250909140046_2', status=<JobStatus.successful: 'successful'>, message=None, created=datetime.datetime(2025, 9, 9, 14, 0, 46, 708624, tzinfo=TzInfo(UTC)), started=datetime.datetime(2025, 9, 9, 14, 0, 47, 325045, tzinfo=TzInfo(UTC)), finished=datetime.datetime(2025, 9, 9, 14, 0, 59, 371320, tzinfo=TzInfo(UTC)), updated=datetime.datetime(2025, 9, 9, 14, 0, 59, 367748, tzinfo=TzInfo(UTC)), progress=None, links=None, traceback=None), JobInfo(processID='sleep_a_while', type=<JobType.process: 'process'>, jobID='sleep_a_while__20250909140820_2', status=<JobStatus.successful: 'successful'>, message=None, created=datetime.datetime(2025, 9, 9, 14, 8, 20, 863568, tzinfo=TzInfo(UTC)), started=datetime.datetime(2025, 9, 9, 14, 8, 22, 45075, tzinfo=TzInfo(UTC)), finished=datetime.datetime(2025, 9, 9, 14, 8, 32, 877437, tzinfo=TzInfo(UTC)), updated=datetime.datetime(2025, 9, 9, 14, 8, 32, 873613, tzinfo=TzInfo(UTC)), progress=None, links=None, traceback=None), JobInfo(processID='sleep_a_while', type=<JobType.process: 'process'>, jobID='sleep_a_while__20250909141253_2', status=<JobStatus.successful: 'successful'>, message=None, created=datetime.datetime(2025, 9, 9, 14, 12, 53, 960935, tzinfo=TzInfo(UTC)), started=datetime.datetime(2025, 9, 9, 14, 12, 54, 338449, tzinfo=TzInfo(UTC)), finished=datetime.datetime(2025, 9, 9, 14, 13, 7, 991002, tzinfo=TzInfo(UTC)), updated=datetime.datetime(2025, 9, 9, 14, 13, 7, 986703, tzinfo=TzInfo(UTC)), progress=None, links=None, traceback=None), JobInfo(processID='sleep_a_while', type=<JobType.process: 'process'>, jobID='sleep_a_while__20250909142749_2', status=<JobStatus.accepted: 'accepted'>, message=None, created=datetime.datetime(2025, 9, 9, 14, 27, 49, 520012, tzinfo=TzInfo(UTC)), started=None, finished=None, updated=None, progress=None, links=None, traceback=None)], links=[Link(href='http://127.0.0.1:8008/jobs', rel='self', type='application/json', hreflang='en', title='get_jobs')])"
      ]
     },
     "execution_count": 10,
     "metadata": {
      "application/json": {
       "root": "JobList object:"
      }
     },
     "output_type": "execute_result"
    }
   ],
   "source": [
    "client.get_jobs()"
   ]
  },
  {
   "cell_type": "code",
   "execution_count": 11,
   "id": "20fe880ecfc57eac",
   "metadata": {},
   "outputs": [
    {
     "data": {
      "application/json": {
       "return_value": 10.069934606552124
      },
      "text/plain": [
       "JobResults(root={'return_value': InlineOrRefValue(root=InlineValue(root=10.069934606552124))})"
      ]
     },
     "execution_count": 11,
     "metadata": {
      "application/json": {
       "root": "JobResults object:"
      }
     },
     "output_type": "execute_result"
    }
   ],
   "source": [
    "client.get_job_results(\"sleep_a_while__20250909140046_2\")"
   ]
  },
  {
   "cell_type": "code",
   "execution_count": 15,
   "id": "f0d4638e-c072-4ebe-9b60-95be618ee5c9",
   "metadata": {},
   "outputs": [
    {
     "data": {
      "application/json": {
       "return_value": [
        2,
        3,
        5,
        7,
        11,
        13,
        17,
        19,
        23,
        29,
        31,
        37,
        41,
        43,
        47,
        53,
        59,
        61,
        67,
        71,
        73,
        79,
        83,
        89,
        97
       ]
      },
      "text/plain": [
       "JobResults(root={'return_value': InlineOrRefValue(root=InlineValue(root=[2, 3, 5, 7, 11, 13, 17, 19, 23, 29, 31, 37, 41, 43, 47, 53, 59, 61, 67, 71, 73, 79, 83, 89, 97]))})"
      ]
     },
     "execution_count": 15,
     "metadata": {
      "application/json": {
       "root": "JobResults object:"
      }
     },
     "output_type": "execute_result"
    }
   ],
   "source": [
    "client.get_job_results(\"primes_between__20250909142749_1\")"
   ]
  },
  {
   "cell_type": "code",
   "execution_count": 12,
   "id": "630a20e7cbd661e2",
   "metadata": {},
   "outputs": [],
   "source": [
    "# for job in client.get_jobs().jobs:\n",
    "#     client.dismiss_job(job.jobID)"
   ]
  },
  {
   "cell_type": "code",
   "execution_count": 13,
   "id": "7bbc5e8830473fb2",
   "metadata": {},
   "outputs": [
    {
     "data": {
      "application/json": {
       "jobs": [
        {
         "created": "2025-07-15T11:12:09.501829Z",
         "finished": "2025-07-15T11:12:13.599646Z",
         "jobID": "manual__2025-07-15T11:12:09.473432+00:00",
         "processID": "primes_between",
         "started": "2025-07-15T11:12:09.689505Z",
         "status": "successful",
         "type": "process",
         "updated": "2025-07-15T11:12:13.592815Z"
        },
        {
         "created": "2025-09-09T13:31:19.770932Z",
         "finished": "2025-09-09T13:31:24.008108Z",
         "jobID": "primes_between__20250909133119_1",
         "processID": "primes_between",
         "started": "2025-09-09T13:31:20.451716Z",
         "status": "successful",
         "type": "process",
         "updated": "2025-09-09T13:31:24.003845Z"
        },
        {
         "created": "2025-09-09T14:00:46.601700Z",
         "finished": "2025-09-09T14:00:49.218611Z",
         "jobID": "primes_between__20250909140046_1",
         "processID": "primes_between",
         "started": "2025-09-09T14:00:47.320271Z",
         "status": "successful",
         "type": "process",
         "updated": "2025-09-09T14:00:49.212736Z"
        },
        {
         "created": "2025-09-09T14:08:20.775729Z",
         "finished": "2025-09-09T14:08:23.296110Z",
         "jobID": "primes_between__20250909140820_1",
         "processID": "primes_between",
         "started": "2025-09-09T14:08:22.043965Z",
         "status": "successful",
         "type": "process",
         "updated": "2025-09-09T14:08:23.292599Z"
        },
        {
         "created": "2025-09-09T14:12:53.830201Z",
         "finished": "2025-09-09T14:12:55.669104Z",
         "jobID": "primes_between__20250909141253_1",
         "processID": "primes_between",
         "started": "2025-09-09T14:12:54.336515Z",
         "status": "successful",
         "type": "process",
         "updated": "2025-09-09T14:12:55.662957Z"
        },
        {
         "created": "2025-09-09T14:27:49.355547Z",
         "jobID": "primes_between__20250909142749_1",
         "processID": "primes_between",
         "status": "accepted",
         "type": "process"
        },
        {
         "created": "2025-07-15T12:43:21.762728Z",
         "finished": "2025-07-15T12:44:15.335494Z",
         "jobID": "manual__2025-07-15T12:43:21.705839+00:00",
         "processID": "sleep_a_while",
         "started": "2025-07-15T12:43:23.054525Z",
         "status": "failed",
         "type": "process",
         "updated": "2025-07-15T12:44:15.329219Z"
        },
        {
         "created": "2025-09-09T13:31:22.836061Z",
         "finished": "2025-09-09T13:31:35.360842Z",
         "jobID": "sleep_a_while__20250909133121_2",
         "processID": "sleep_a_while",
         "started": "2025-09-09T13:31:23.950645Z",
         "status": "successful",
         "type": "process",
         "updated": "2025-09-09T13:31:35.356595Z"
        },
        {
         "created": "2025-09-09T14:00:46.708624Z",
         "finished": "2025-09-09T14:00:59.371320Z",
         "jobID": "sleep_a_while__20250909140046_2",
         "processID": "sleep_a_while",
         "started": "2025-09-09T14:00:47.325045Z",
         "status": "successful",
         "type": "process",
         "updated": "2025-09-09T14:00:59.367748Z"
        },
        {
         "created": "2025-09-09T14:08:20.863568Z",
         "finished": "2025-09-09T14:08:32.877437Z",
         "jobID": "sleep_a_while__20250909140820_2",
         "processID": "sleep_a_while",
         "started": "2025-09-09T14:08:22.045075Z",
         "status": "successful",
         "type": "process",
         "updated": "2025-09-09T14:08:32.873613Z"
        },
        {
         "created": "2025-09-09T14:12:53.960935Z",
         "finished": "2025-09-09T14:13:07.991002Z",
         "jobID": "sleep_a_while__20250909141253_2",
         "processID": "sleep_a_while",
         "started": "2025-09-09T14:12:54.338449Z",
         "status": "successful",
         "type": "process",
         "updated": "2025-09-09T14:13:07.986703Z"
        },
        {
         "created": "2025-09-09T14:27:49.520012Z",
         "jobID": "sleep_a_while__20250909142749_2",
         "processID": "sleep_a_while",
         "status": "accepted",
         "type": "process"
        }
       ],
       "links": [
        {
         "href": "http://127.0.0.1:8008/jobs",
         "hreflang": "en",
         "rel": "self",
         "title": "get_jobs",
         "type": "application/json"
        }
       ]
      },
      "text/plain": [
       "JobList(jobs=[JobInfo(processID='primes_between', type=<JobType.process: 'process'>, jobID='manual__2025-07-15T11:12:09.473432+00:00', status=<JobStatus.successful: 'successful'>, message=None, created=datetime.datetime(2025, 7, 15, 11, 12, 9, 501829, tzinfo=TzInfo(UTC)), started=datetime.datetime(2025, 7, 15, 11, 12, 9, 689505, tzinfo=TzInfo(UTC)), finished=datetime.datetime(2025, 7, 15, 11, 12, 13, 599646, tzinfo=TzInfo(UTC)), updated=datetime.datetime(2025, 7, 15, 11, 12, 13, 592815, tzinfo=TzInfo(UTC)), progress=None, links=None, traceback=None), JobInfo(processID='primes_between', type=<JobType.process: 'process'>, jobID='primes_between__20250909133119_1', status=<JobStatus.successful: 'successful'>, message=None, created=datetime.datetime(2025, 9, 9, 13, 31, 19, 770932, tzinfo=TzInfo(UTC)), started=datetime.datetime(2025, 9, 9, 13, 31, 20, 451716, tzinfo=TzInfo(UTC)), finished=datetime.datetime(2025, 9, 9, 13, 31, 24, 8108, tzinfo=TzInfo(UTC)), updated=datetime.datetime(2025, 9, 9, 13, 31, 24, 3845, tzinfo=TzInfo(UTC)), progress=None, links=None, traceback=None), JobInfo(processID='primes_between', type=<JobType.process: 'process'>, jobID='primes_between__20250909140046_1', status=<JobStatus.successful: 'successful'>, message=None, created=datetime.datetime(2025, 9, 9, 14, 0, 46, 601700, tzinfo=TzInfo(UTC)), started=datetime.datetime(2025, 9, 9, 14, 0, 47, 320271, tzinfo=TzInfo(UTC)), finished=datetime.datetime(2025, 9, 9, 14, 0, 49, 218611, tzinfo=TzInfo(UTC)), updated=datetime.datetime(2025, 9, 9, 14, 0, 49, 212736, tzinfo=TzInfo(UTC)), progress=None, links=None, traceback=None), JobInfo(processID='primes_between', type=<JobType.process: 'process'>, jobID='primes_between__20250909140820_1', status=<JobStatus.successful: 'successful'>, message=None, created=datetime.datetime(2025, 9, 9, 14, 8, 20, 775729, tzinfo=TzInfo(UTC)), started=datetime.datetime(2025, 9, 9, 14, 8, 22, 43965, tzinfo=TzInfo(UTC)), finished=datetime.datetime(2025, 9, 9, 14, 8, 23, 296110, tzinfo=TzInfo(UTC)), updated=datetime.datetime(2025, 9, 9, 14, 8, 23, 292599, tzinfo=TzInfo(UTC)), progress=None, links=None, traceback=None), JobInfo(processID='primes_between', type=<JobType.process: 'process'>, jobID='primes_between__20250909141253_1', status=<JobStatus.successful: 'successful'>, message=None, created=datetime.datetime(2025, 9, 9, 14, 12, 53, 830201, tzinfo=TzInfo(UTC)), started=datetime.datetime(2025, 9, 9, 14, 12, 54, 336515, tzinfo=TzInfo(UTC)), finished=datetime.datetime(2025, 9, 9, 14, 12, 55, 669104, tzinfo=TzInfo(UTC)), updated=datetime.datetime(2025, 9, 9, 14, 12, 55, 662957, tzinfo=TzInfo(UTC)), progress=None, links=None, traceback=None), JobInfo(processID='primes_between', type=<JobType.process: 'process'>, jobID='primes_between__20250909142749_1', status=<JobStatus.accepted: 'accepted'>, message=None, created=datetime.datetime(2025, 9, 9, 14, 27, 49, 355547, tzinfo=TzInfo(UTC)), started=None, finished=None, updated=None, progress=None, links=None, traceback=None), JobInfo(processID='sleep_a_while', type=<JobType.process: 'process'>, jobID='manual__2025-07-15T12:43:21.705839+00:00', status=<JobStatus.failed: 'failed'>, message=None, created=datetime.datetime(2025, 7, 15, 12, 43, 21, 762728, tzinfo=TzInfo(UTC)), started=datetime.datetime(2025, 7, 15, 12, 43, 23, 54525, tzinfo=TzInfo(UTC)), finished=datetime.datetime(2025, 7, 15, 12, 44, 15, 335494, tzinfo=TzInfo(UTC)), updated=datetime.datetime(2025, 7, 15, 12, 44, 15, 329219, tzinfo=TzInfo(UTC)), progress=None, links=None, traceback=None), JobInfo(processID='sleep_a_while', type=<JobType.process: 'process'>, jobID='sleep_a_while__20250909133121_2', status=<JobStatus.successful: 'successful'>, message=None, created=datetime.datetime(2025, 9, 9, 13, 31, 22, 836061, tzinfo=TzInfo(UTC)), started=datetime.datetime(2025, 9, 9, 13, 31, 23, 950645, tzinfo=TzInfo(UTC)), finished=datetime.datetime(2025, 9, 9, 13, 31, 35, 360842, tzinfo=TzInfo(UTC)), updated=datetime.datetime(2025, 9, 9, 13, 31, 35, 356595, tzinfo=TzInfo(UTC)), progress=None, links=None, traceback=None), JobInfo(processID='sleep_a_while', type=<JobType.process: 'process'>, jobID='sleep_a_while__20250909140046_2', status=<JobStatus.successful: 'successful'>, message=None, created=datetime.datetime(2025, 9, 9, 14, 0, 46, 708624, tzinfo=TzInfo(UTC)), started=datetime.datetime(2025, 9, 9, 14, 0, 47, 325045, tzinfo=TzInfo(UTC)), finished=datetime.datetime(2025, 9, 9, 14, 0, 59, 371320, tzinfo=TzInfo(UTC)), updated=datetime.datetime(2025, 9, 9, 14, 0, 59, 367748, tzinfo=TzInfo(UTC)), progress=None, links=None, traceback=None), JobInfo(processID='sleep_a_while', type=<JobType.process: 'process'>, jobID='sleep_a_while__20250909140820_2', status=<JobStatus.successful: 'successful'>, message=None, created=datetime.datetime(2025, 9, 9, 14, 8, 20, 863568, tzinfo=TzInfo(UTC)), started=datetime.datetime(2025, 9, 9, 14, 8, 22, 45075, tzinfo=TzInfo(UTC)), finished=datetime.datetime(2025, 9, 9, 14, 8, 32, 877437, tzinfo=TzInfo(UTC)), updated=datetime.datetime(2025, 9, 9, 14, 8, 32, 873613, tzinfo=TzInfo(UTC)), progress=None, links=None, traceback=None), JobInfo(processID='sleep_a_while', type=<JobType.process: 'process'>, jobID='sleep_a_while__20250909141253_2', status=<JobStatus.successful: 'successful'>, message=None, created=datetime.datetime(2025, 9, 9, 14, 12, 53, 960935, tzinfo=TzInfo(UTC)), started=datetime.datetime(2025, 9, 9, 14, 12, 54, 338449, tzinfo=TzInfo(UTC)), finished=datetime.datetime(2025, 9, 9, 14, 13, 7, 991002, tzinfo=TzInfo(UTC)), updated=datetime.datetime(2025, 9, 9, 14, 13, 7, 986703, tzinfo=TzInfo(UTC)), progress=None, links=None, traceback=None), JobInfo(processID='sleep_a_while', type=<JobType.process: 'process'>, jobID='sleep_a_while__20250909142749_2', status=<JobStatus.accepted: 'accepted'>, message=None, created=datetime.datetime(2025, 9, 9, 14, 27, 49, 520012, tzinfo=TzInfo(UTC)), started=None, finished=None, updated=None, progress=None, links=None, traceback=None)], links=[Link(href='http://127.0.0.1:8008/jobs', rel='self', type='application/json', hreflang='en', title='get_jobs')])"
      ]
     },
     "execution_count": 13,
     "metadata": {
      "application/json": {
       "root": "JobList object:"
      }
     },
     "output_type": "execute_result"
    }
   ],
   "source": [
    "client.get_jobs()"
   ]
  },
  {
   "cell_type": "code",
   "execution_count": 14,
   "id": "902061560ad826ab",
   "metadata": {},
   "outputs": [
    {
     "data": {
      "application/json": {
       "created": "2025-09-09T13:31:19.770932Z",
       "finished": "2025-09-09T13:31:24.008108Z",
       "jobID": "primes_between__20250909133119_1",
       "processID": "primes_between",
       "started": "2025-09-09T13:31:20.451716Z",
       "status": "successful",
       "type": "process",
       "updated": "2025-09-09T13:31:24.003845Z"
      },
      "text/plain": [
       "JobInfo(processID='primes_between', type=<JobType.process: 'process'>, jobID='primes_between__20250909133119_1', status=<JobStatus.successful: 'successful'>, message=None, created=datetime.datetime(2025, 9, 9, 13, 31, 19, 770932, tzinfo=TzInfo(UTC)), started=datetime.datetime(2025, 9, 9, 13, 31, 20, 451716, tzinfo=TzInfo(UTC)), finished=datetime.datetime(2025, 9, 9, 13, 31, 24, 8108, tzinfo=TzInfo(UTC)), updated=datetime.datetime(2025, 9, 9, 13, 31, 24, 3845, tzinfo=TzInfo(UTC)), progress=None, links=None, traceback=None)"
      ]
     },
     "execution_count": 14,
     "metadata": {
      "application/json": {
       "root": "JobInfo object:"
      }
     },
     "output_type": "execute_result"
    }
   ],
   "source": [
    "client.get_job(\"primes_between__20250909133119_1\")"
   ]
  },
  {
   "cell_type": "code",
   "execution_count": null,
   "id": "cf8031779ed7c039",
   "metadata": {},
   "outputs": [],
   "source": []
  }
 ],
 "metadata": {
  "kernelspec": {
   "display_name": "Python 3 (ipykernel)",
   "language": "python",
   "name": "python3"
  },
  "language_info": {
   "codemirror_mode": {
    "name": "ipython",
    "version": 3
   },
   "file_extension": ".py",
   "mimetype": "text/x-python",
   "name": "python",
   "nbconvert_exporter": "python",
   "pygments_lexer": "ipython3",
   "version": "3.13.5"
  }
 },
 "nbformat": 4,
 "nbformat_minor": 5
}
