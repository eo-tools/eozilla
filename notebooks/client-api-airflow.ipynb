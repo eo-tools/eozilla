{
 "cells": [
  {
   "cell_type": "markdown",
   "id": "2dd538ba1caa48f6",
   "metadata": {},
   "source": [
    "# Client API with Airflow\n",
    "\n",
    "Start by running a local Airflow instance with some test DAGs:\n",
    "```commandline\n",
    "cd s2gos-airflow\n",
    "pixi install\n",
    "pixi run airflow standalone\n",
    "```\n",
    "\n",
    "Then run the S2GOS gateway server with the local Airflow instance (assuming\n",
    "the local Airflow webserver runs on http://localhost:8080):\n",
    "\n",
    "```commandline\n",
    "pixi shell\n",
    "export AIRFLOW_USERNAME admin\n",
    "export AIRFLOW_PASSWORD ***********\n",
    "s2gos-server run --service=s2gos_server.services.airflow.testing:service\n",
    "```\n",
    "\n",
    "Get the airflow user password from `s2gos-airflow/.airflow/simple_auth_manager_passwords.json.generated`."
   ]
  },
  {
   "cell_type": "code",
   "execution_count": 1,
   "id": "5344cc3b44dbcef0",
   "metadata": {},
   "outputs": [],
   "source": [
    "from s2gos_client import Client\n",
    "from s2gos_common.models import ProcessRequest"
   ]
  },
  {
   "cell_type": "code",
   "execution_count": 2,
   "id": "ee384aba03475413",
   "metadata": {},
   "outputs": [
    {
     "data": {
      "application/json": {
       "access_token": "1234",
       "server_url": "http://127.0.0.1:8008",
       "user_name": "bibo"
      },
      "text/plain": [
       "<s2gos_client.api.client.Client at 0x20d6b9a9550>"
      ]
     },
     "execution_count": 2,
     "metadata": {
      "application/json": {
       "root": "Client configuration:"
      }
     },
     "output_type": "execute_result"
    }
   ],
   "source": [
    "client = Client(server_url=\"http://127.0.0.1:8008\")\n",
    "client"
   ]
  },
  {
   "cell_type": "code",
   "execution_count": 3,
   "id": "ce2d1aaa1852ea09",
   "metadata": {},
   "outputs": [
    {
     "data": {
      "application/json": {
       "links": [
        {
         "href": "http://127.0.0.1:8008/",
         "hreflang": "en",
         "rel": "self",
         "title": "get_capabilities",
         "type": "application/json"
        },
        {
         "href": "http://127.0.0.1:8008/openapi.json",
         "hreflang": "en",
         "rel": "service",
         "title": "openapi",
         "type": "application/json"
        },
        {
         "href": "http://127.0.0.1:8008/docs",
         "hreflang": "en",
         "rel": "service",
         "title": "swagger_ui_html",
         "type": "text/html"
        },
        {
         "href": "http://127.0.0.1:8008/docs/oauth2-redirect",
         "hreflang": "en",
         "rel": "service",
         "title": "swagger_ui_redirect",
         "type": "text/html"
        },
        {
         "href": "http://127.0.0.1:8008/redoc",
         "hreflang": "en",
         "rel": "service",
         "title": "redoc_html",
         "type": "text/html"
        },
        {
         "href": "http://127.0.0.1:8008/",
         "hreflang": "en",
         "rel": "service",
         "title": "get_capabilities",
         "type": "application/json"
        },
        {
         "href": "http://127.0.0.1:8008/conformance",
         "hreflang": "en",
         "rel": "service",
         "title": "get_conformance",
         "type": "application/json"
        },
        {
         "href": "http://127.0.0.1:8008/processes",
         "hreflang": "en",
         "rel": "service",
         "title": "get_processes",
         "type": "application/json"
        },
        {
         "href": "http://127.0.0.1:8008/processes/{processID}",
         "hreflang": "en",
         "rel": "service",
         "title": "get_process",
         "type": "application/json"
        },
        {
         "href": "http://127.0.0.1:8008/processes/{processID}/execution",
         "hreflang": "en",
         "rel": "service",
         "title": "execute_process",
         "type": "application/json"
        },
        {
         "href": "http://127.0.0.1:8008/jobs",
         "hreflang": "en",
         "rel": "service",
         "title": "get_jobs",
         "type": "application/json"
        },
        {
         "href": "http://127.0.0.1:8008/jobs/{jobId}",
         "hreflang": "en",
         "rel": "service",
         "title": "get_job",
         "type": "application/json"
        },
        {
         "href": "http://127.0.0.1:8008/jobs/{jobId}",
         "hreflang": "en",
         "rel": "service",
         "title": "dismiss_job",
         "type": "application/json"
        },
        {
         "href": "http://127.0.0.1:8008/jobs/{jobId}/results",
         "hreflang": "en",
         "rel": "service",
         "title": "get_job_results",
         "type": "application/json"
        }
       ],
       "title": "Airflow Dev Service"
      },
      "text/plain": [
       "Capabilities(title='Airflow Dev Service', description=None, links=[Link(href='http://127.0.0.1:8008/', rel='self', type='application/json', hreflang='en', title='get_capabilities'), Link(href='http://127.0.0.1:8008/openapi.json', rel='service', type='application/json', hreflang='en', title='openapi'), Link(href='http://127.0.0.1:8008/docs', rel='service', type='text/html', hreflang='en', title='swagger_ui_html'), Link(href='http://127.0.0.1:8008/docs/oauth2-redirect', rel='service', type='text/html', hreflang='en', title='swagger_ui_redirect'), Link(href='http://127.0.0.1:8008/redoc', rel='service', type='text/html', hreflang='en', title='redoc_html'), Link(href='http://127.0.0.1:8008/', rel='service', type='application/json', hreflang='en', title='get_capabilities'), Link(href='http://127.0.0.1:8008/conformance', rel='service', type='application/json', hreflang='en', title='get_conformance'), Link(href='http://127.0.0.1:8008/processes', rel='service', type='application/json', hreflang='en', title='get_processes'), Link(href='http://127.0.0.1:8008/processes/{processID}', rel='service', type='application/json', hreflang='en', title='get_process'), Link(href='http://127.0.0.1:8008/processes/{processID}/execution', rel='service', type='application/json', hreflang='en', title='execute_process'), Link(href='http://127.0.0.1:8008/jobs', rel='service', type='application/json', hreflang='en', title='get_jobs'), Link(href='http://127.0.0.1:8008/jobs/{jobId}', rel='service', type='application/json', hreflang='en', title='get_job'), Link(href='http://127.0.0.1:8008/jobs/{jobId}', rel='service', type='application/json', hreflang='en', title='dismiss_job'), Link(href='http://127.0.0.1:8008/jobs/{jobId}/results', rel='service', type='application/json', hreflang='en', title='get_job_results')])"
      ]
     },
     "execution_count": 3,
     "metadata": {
      "application/json": {
       "root": "Capabilities object:"
      }
     },
     "output_type": "execute_result"
    }
   ],
   "source": [
    "client.get_capabilities()"
   ]
  },
  {
   "cell_type": "code",
   "execution_count": 4,
   "id": "976ef2e8c4a725d4",
   "metadata": {},
   "outputs": [
    {
     "data": {
      "application/json": {
       "conformsTo": [
        "http://www.opengis.net/spec/ogcapi-processes-1/1.0/conf/core",
        "http://www.opengis.net/spec/ogcapi-processes-1/1.0/conf/ogc-process-description",
        "http://www.opengis.net/spec/ogcapi-processes-1/1.0/conf/json",
        "http://www.opengis.net/spec/ogcapi-processes-1/1.0/conf/oas30",
        "http://www.opengis.net/spec/ogcapi-processes-1/1.0/conf/job-list",
        "http://www.opengis.net/spec/ogcapi-processes-1/1.0/conf/dismiss"
       ]
      },
      "text/plain": [
       "ConformanceDeclaration(conformsTo=['http://www.opengis.net/spec/ogcapi-processes-1/1.0/conf/core', 'http://www.opengis.net/spec/ogcapi-processes-1/1.0/conf/ogc-process-description', 'http://www.opengis.net/spec/ogcapi-processes-1/1.0/conf/json', 'http://www.opengis.net/spec/ogcapi-processes-1/1.0/conf/oas30', 'http://www.opengis.net/spec/ogcapi-processes-1/1.0/conf/job-list', 'http://www.opengis.net/spec/ogcapi-processes-1/1.0/conf/dismiss'])"
      ]
     },
     "execution_count": 4,
     "metadata": {
      "application/json": {
       "root": "ConformanceDeclaration object:"
      }
     },
     "output_type": "execute_result"
    }
   ],
   "source": [
    "client.get_conformance()"
   ]
  },
  {
   "cell_type": "code",
   "execution_count": 5,
   "id": "c37d3dc6ccb818dc",
   "metadata": {},
   "outputs": [
    {
     "data": {
      "application/json": {
       "links": [
        {
         "href": "http://127.0.0.1:8008/processes",
         "hreflang": "en",
         "rel": "self",
         "title": "get_processes",
         "type": "application/json"
        }
       ],
       "processes": [
        {
         "description": "Returns the list of prime numbers between a `min_val` and `max_val`. ",
         "id": "primes_between",
         "title": "Prime Processor",
         "version": "0.0.0"
        },
        {
         "id": "return_base_model",
         "title": "BaseModel Test",
         "version": "0.0.0"
        },
        {
         "description": "Simulate a set scene images slices for testing. Creates an xarray dataset with `periodicity` time slices and writes it as Zarr into a temporary location. Requires installed `dask`, `xarray`, and `zarr` packages.",
         "id": "simulate_scene",
         "title": "Generate scene for testing",
         "version": "0.0.0"
        },
        {
         "description": "Sleeps for `duration` seconds. Fails on purpose if `fail` is `True`. Returns the effective amount of sleep in seconds.",
         "id": "sleep_a_while",
         "title": "Sleep Processor",
         "version": "0.0.0"
        }
       ]
      },
      "text/plain": [
       "ProcessList(processes=[ProcessSummary(title='Prime Processor', description='Returns the list of prime numbers between a `min_val` and `max_val`. ', keywords=None, metadata=None, additionalParameters=None, id='primes_between', version='0.0.0', jobControlOptions=None, outputTransmission=None, links=None), ProcessSummary(title='BaseModel Test', description=None, keywords=None, metadata=None, additionalParameters=None, id='return_base_model', version='0.0.0', jobControlOptions=None, outputTransmission=None, links=None), ProcessSummary(title='Generate scene for testing', description='Simulate a set scene images slices for testing. Creates an xarray dataset with `periodicity` time slices and writes it as Zarr into a temporary location. Requires installed `dask`, `xarray`, and `zarr` packages.', keywords=None, metadata=None, additionalParameters=None, id='simulate_scene', version='0.0.0', jobControlOptions=None, outputTransmission=None, links=None), ProcessSummary(title='Sleep Processor', description='Sleeps for `duration` seconds. Fails on purpose if `fail` is `True`. Returns the effective amount of sleep in seconds.', keywords=None, metadata=None, additionalParameters=None, id='sleep_a_while', version='0.0.0', jobControlOptions=None, outputTransmission=None, links=None)], links=[Link(href='http://127.0.0.1:8008/processes', rel='self', type='application/json', hreflang='en', title='get_processes')])"
      ]
     },
     "execution_count": 5,
     "metadata": {
      "application/json": {
       "root": "ProcessList object:"
      }
     },
     "output_type": "execute_result"
    }
   ],
   "source": [
    "client.get_processes()"
   ]
  },
  {
   "cell_type": "code",
   "execution_count": 6,
   "id": "d0588c1c8746074e",
   "metadata": {},
   "outputs": [
    {
     "data": {
      "application/json": {
       "description": "Sleeps for `duration` seconds. Fails on purpose if `fail` is `True`. Returns the effective amount of sleep in seconds.",
       "id": "sleep_a_while",
       "inputs": {},
       "outputs": {},
       "title": "Sleep Processor",
       "version": "0.0.0"
      },
      "text/plain": [
       "ProcessDescription(title='Sleep Processor', description='Sleeps for `duration` seconds. Fails on purpose if `fail` is `True`. Returns the effective amount of sleep in seconds.', keywords=None, metadata=None, additionalParameters=None, id='sleep_a_while', version='0.0.0', jobControlOptions=None, outputTransmission=None, links=None, inputs={}, outputs={})"
      ]
     },
     "execution_count": 6,
     "metadata": {
      "application/json": {
       "root": "ProcessDescription object:"
      }
     },
     "output_type": "execute_result"
    }
   ],
   "source": [
    "client.get_process(process_id=\"sleep_a_while\")"
   ]
  },
  {
   "cell_type": "code",
   "execution_count": 7,
   "id": "4a52bc89af429f9f",
   "metadata": {},
   "outputs": [
    {
     "data": {
      "application/json": {
       "jobs": [
        {
         "created": "2025-07-24T12:17:42.063941Z",
         "jobID": "primes_between__20250724121742_6",
         "processID": "primes_between",
         "status": "accepted",
         "type": "process"
        },
        {
         "created": "2025-07-24T13:55:15.648938Z",
         "jobID": "primes_between__20250724135515_8",
         "processID": "primes_between",
         "status": "accepted",
         "type": "process"
        },
        {
         "created": "2025-07-24T12:17:43.419942Z",
         "finished": "2025-07-24T12:17:56.204924Z",
         "jobID": "sleep_a_while__20250724121743_7",
         "processID": "sleep_a_while",
         "started": "2025-07-24T12:17:44.652689Z",
         "status": "successful",
         "type": "process",
         "updated": "2025-07-24T12:17:56.202640Z"
        },
        {
         "created": "2025-07-24T13:55:15.736552Z",
         "finished": "2025-07-24T13:55:27.821187Z",
         "jobID": "sleep_a_while__20250724135515_9",
         "processID": "sleep_a_while",
         "started": "2025-07-24T13:55:16.336759Z",
         "status": "successful",
         "type": "process",
         "updated": "2025-07-24T13:55:27.819246Z"
        }
       ],
       "links": [
        {
         "href": "http://127.0.0.1:8008/jobs",
         "hreflang": "en",
         "rel": "self",
         "title": "get_jobs",
         "type": "application/json"
        }
       ]
      },
      "text/plain": [
       "JobList(jobs=[JobInfo(processID='primes_between', type=<JobType.process: 'process'>, jobID='primes_between__20250724121742_6', status=<JobStatus.accepted: 'accepted'>, message=None, created=datetime.datetime(2025, 7, 24, 12, 17, 42, 63941, tzinfo=TzInfo(UTC)), started=None, finished=None, updated=None, progress=None, links=None, traceback=None), JobInfo(processID='primes_between', type=<JobType.process: 'process'>, jobID='primes_between__20250724135515_8', status=<JobStatus.accepted: 'accepted'>, message=None, created=datetime.datetime(2025, 7, 24, 13, 55, 15, 648938, tzinfo=TzInfo(UTC)), started=None, finished=None, updated=None, progress=None, links=None, traceback=None), JobInfo(processID='sleep_a_while', type=<JobType.process: 'process'>, jobID='sleep_a_while__20250724121743_7', status=<JobStatus.successful: 'successful'>, message=None, created=datetime.datetime(2025, 7, 24, 12, 17, 43, 419942, tzinfo=TzInfo(UTC)), started=datetime.datetime(2025, 7, 24, 12, 17, 44, 652689, tzinfo=TzInfo(UTC)), finished=datetime.datetime(2025, 7, 24, 12, 17, 56, 204924, tzinfo=TzInfo(UTC)), updated=datetime.datetime(2025, 7, 24, 12, 17, 56, 202640, tzinfo=TzInfo(UTC)), progress=None, links=None, traceback=None), JobInfo(processID='sleep_a_while', type=<JobType.process: 'process'>, jobID='sleep_a_while__20250724135515_9', status=<JobStatus.successful: 'successful'>, message=None, created=datetime.datetime(2025, 7, 24, 13, 55, 15, 736552, tzinfo=TzInfo(UTC)), started=datetime.datetime(2025, 7, 24, 13, 55, 16, 336759, tzinfo=TzInfo(UTC)), finished=datetime.datetime(2025, 7, 24, 13, 55, 27, 821187, tzinfo=TzInfo(UTC)), updated=datetime.datetime(2025, 7, 24, 13, 55, 27, 819246, tzinfo=TzInfo(UTC)), progress=None, links=None, traceback=None)], links=[Link(href='http://127.0.0.1:8008/jobs', rel='self', type='application/json', hreflang='en', title='get_jobs')])"
      ]
     },
     "execution_count": 7,
     "metadata": {
      "application/json": {
       "root": "JobList object:"
      }
     },
     "output_type": "execute_result"
    }
   ],
   "source": [
    "client.get_jobs()"
   ]
  },
  {
   "cell_type": "code",
   "execution_count": 8,
   "id": "102d4669babef639",
   "metadata": {},
   "outputs": [
    {
     "data": {
      "application/json": {
       "created": "2025-07-24T13:55:59.202041Z",
       "jobID": "primes_between__20250724135558_10",
       "processID": "primes_between",
       "status": "accepted",
       "type": "process"
      },
      "text/plain": [
       "JobInfo(processID='primes_between', type=<JobType.process: 'process'>, jobID='primes_between__20250724135558_10', status=<JobStatus.accepted: 'accepted'>, message=None, created=datetime.datetime(2025, 7, 24, 13, 55, 59, 202041, tzinfo=TzInfo(UTC)), started=None, finished=None, updated=None, progress=None, links=None, traceback=None)"
      ]
     },
     "execution_count": 8,
     "metadata": {
      "application/json": {
       "root": "JobInfo object:"
      }
     },
     "output_type": "execute_result"
    }
   ],
   "source": [
    "client.execute_process(process_id=\"primes_between\", request=ProcessRequest())"
   ]
  },
  {
   "cell_type": "code",
   "execution_count": 9,
   "id": "ee5c45a5-5642-4119-b783-ea72cc022c18",
   "metadata": {},
   "outputs": [
    {
     "data": {
      "application/json": {
       "created": "2025-07-24T13:55:59.280656Z",
       "jobID": "sleep_a_while__20250724135558_11",
       "processID": "sleep_a_while",
       "status": "accepted",
       "type": "process"
      },
      "text/plain": [
       "JobInfo(processID='sleep_a_while', type=<JobType.process: 'process'>, jobID='sleep_a_while__20250724135558_11', status=<JobStatus.accepted: 'accepted'>, message=None, created=datetime.datetime(2025, 7, 24, 13, 55, 59, 280656, tzinfo=TzInfo(UTC)), started=None, finished=None, updated=None, progress=None, links=None, traceback=None)"
      ]
     },
     "execution_count": 9,
     "metadata": {
      "application/json": {
       "root": "JobInfo object:"
      }
     },
     "output_type": "execute_result"
    }
   ],
   "source": [
    "client.execute_process(process_id=\"sleep_a_while\", request=ProcessRequest())"
   ]
  },
  {
   "cell_type": "code",
   "execution_count": 10,
   "id": "c093c714bbff3984",
   "metadata": {},
   "outputs": [
    {
     "data": {
      "application/json": {
       "jobs": [
        {
         "created": "2025-07-24T12:17:42.063941Z",
         "jobID": "primes_between__20250724121742_6",
         "processID": "primes_between",
         "status": "accepted",
         "type": "process"
        },
        {
         "created": "2025-07-24T13:55:15.648938Z",
         "jobID": "primes_between__20250724135515_8",
         "processID": "primes_between",
         "status": "accepted",
         "type": "process"
        },
        {
         "created": "2025-07-24T13:55:59.202041Z",
         "jobID": "primes_between__20250724135558_10",
         "processID": "primes_between",
         "status": "accepted",
         "type": "process"
        },
        {
         "created": "2025-07-24T12:17:43.419942Z",
         "finished": "2025-07-24T12:17:56.204924Z",
         "jobID": "sleep_a_while__20250724121743_7",
         "processID": "sleep_a_while",
         "started": "2025-07-24T12:17:44.652689Z",
         "status": "successful",
         "type": "process",
         "updated": "2025-07-24T12:17:56.202640Z"
        },
        {
         "created": "2025-07-24T13:55:15.736552Z",
         "finished": "2025-07-24T13:55:27.821187Z",
         "jobID": "sleep_a_while__20250724135515_9",
         "processID": "sleep_a_while",
         "started": "2025-07-24T13:55:16.336759Z",
         "status": "successful",
         "type": "process",
         "updated": "2025-07-24T13:55:27.819246Z"
        },
        {
         "created": "2025-07-24T13:55:59.280656Z",
         "jobID": "sleep_a_while__20250724135558_11",
         "processID": "sleep_a_while",
         "status": "accepted",
         "type": "process"
        }
       ],
       "links": [
        {
         "href": "http://127.0.0.1:8008/jobs",
         "hreflang": "en",
         "rel": "self",
         "title": "get_jobs",
         "type": "application/json"
        }
       ]
      },
      "text/plain": [
       "JobList(jobs=[JobInfo(processID='primes_between', type=<JobType.process: 'process'>, jobID='primes_between__20250724121742_6', status=<JobStatus.accepted: 'accepted'>, message=None, created=datetime.datetime(2025, 7, 24, 12, 17, 42, 63941, tzinfo=TzInfo(UTC)), started=None, finished=None, updated=None, progress=None, links=None, traceback=None), JobInfo(processID='primes_between', type=<JobType.process: 'process'>, jobID='primes_between__20250724135515_8', status=<JobStatus.accepted: 'accepted'>, message=None, created=datetime.datetime(2025, 7, 24, 13, 55, 15, 648938, tzinfo=TzInfo(UTC)), started=None, finished=None, updated=None, progress=None, links=None, traceback=None), JobInfo(processID='primes_between', type=<JobType.process: 'process'>, jobID='primes_between__20250724135558_10', status=<JobStatus.accepted: 'accepted'>, message=None, created=datetime.datetime(2025, 7, 24, 13, 55, 59, 202041, tzinfo=TzInfo(UTC)), started=None, finished=None, updated=None, progress=None, links=None, traceback=None), JobInfo(processID='sleep_a_while', type=<JobType.process: 'process'>, jobID='sleep_a_while__20250724121743_7', status=<JobStatus.successful: 'successful'>, message=None, created=datetime.datetime(2025, 7, 24, 12, 17, 43, 419942, tzinfo=TzInfo(UTC)), started=datetime.datetime(2025, 7, 24, 12, 17, 44, 652689, tzinfo=TzInfo(UTC)), finished=datetime.datetime(2025, 7, 24, 12, 17, 56, 204924, tzinfo=TzInfo(UTC)), updated=datetime.datetime(2025, 7, 24, 12, 17, 56, 202640, tzinfo=TzInfo(UTC)), progress=None, links=None, traceback=None), JobInfo(processID='sleep_a_while', type=<JobType.process: 'process'>, jobID='sleep_a_while__20250724135515_9', status=<JobStatus.successful: 'successful'>, message=None, created=datetime.datetime(2025, 7, 24, 13, 55, 15, 736552, tzinfo=TzInfo(UTC)), started=datetime.datetime(2025, 7, 24, 13, 55, 16, 336759, tzinfo=TzInfo(UTC)), finished=datetime.datetime(2025, 7, 24, 13, 55, 27, 821187, tzinfo=TzInfo(UTC)), updated=datetime.datetime(2025, 7, 24, 13, 55, 27, 819246, tzinfo=TzInfo(UTC)), progress=None, links=None, traceback=None), JobInfo(processID='sleep_a_while', type=<JobType.process: 'process'>, jobID='sleep_a_while__20250724135558_11', status=<JobStatus.accepted: 'accepted'>, message=None, created=datetime.datetime(2025, 7, 24, 13, 55, 59, 280656, tzinfo=TzInfo(UTC)), started=None, finished=None, updated=None, progress=None, links=None, traceback=None)], links=[Link(href='http://127.0.0.1:8008/jobs', rel='self', type='application/json', hreflang='en', title='get_jobs')])"
      ]
     },
     "execution_count": 10,
     "metadata": {
      "application/json": {
       "root": "JobList object:"
      }
     },
     "output_type": "execute_result"
    }
   ],
   "source": [
    "client.get_jobs()"
   ]
  },
  {
   "cell_type": "code",
   "execution_count": 11,
   "id": "20fe880ecfc57eac",
   "metadata": {},
   "outputs": [],
   "source": [
    "# client.get_job_results(\"job_1\")"
   ]
  },
  {
   "cell_type": "code",
   "execution_count": 12,
   "id": "630a20e7cbd661e2",
   "metadata": {},
   "outputs": [],
   "source": [
    "# for job in client.get_jobs().jobs:\n",
    "#     client.dismiss_job(job.jobID)"
   ]
  },
  {
   "cell_type": "code",
   "execution_count": 13,
   "id": "7bbc5e8830473fb2",
   "metadata": {},
   "outputs": [
    {
     "data": {
      "application/json": {
       "jobs": [
        {
         "created": "2025-07-24T12:17:42.063941Z",
         "jobID": "primes_between__20250724121742_6",
         "processID": "primes_between",
         "status": "accepted",
         "type": "process"
        },
        {
         "created": "2025-07-24T13:55:15.648938Z",
         "jobID": "primes_between__20250724135515_8",
         "processID": "primes_between",
         "status": "accepted",
         "type": "process"
        },
        {
         "created": "2025-07-24T13:55:59.202041Z",
         "jobID": "primes_between__20250724135558_10",
         "processID": "primes_between",
         "status": "accepted",
         "type": "process"
        },
        {
         "created": "2025-07-24T12:17:43.419942Z",
         "finished": "2025-07-24T12:17:56.204924Z",
         "jobID": "sleep_a_while__20250724121743_7",
         "processID": "sleep_a_while",
         "started": "2025-07-24T12:17:44.652689Z",
         "status": "successful",
         "type": "process",
         "updated": "2025-07-24T12:17:56.202640Z"
        },
        {
         "created": "2025-07-24T13:55:15.736552Z",
         "finished": "2025-07-24T13:55:27.821187Z",
         "jobID": "sleep_a_while__20250724135515_9",
         "processID": "sleep_a_while",
         "started": "2025-07-24T13:55:16.336759Z",
         "status": "successful",
         "type": "process",
         "updated": "2025-07-24T13:55:27.819246Z"
        },
        {
         "created": "2025-07-24T13:55:59.280656Z",
         "jobID": "sleep_a_while__20250724135558_11",
         "processID": "sleep_a_while",
         "status": "accepted",
         "type": "process"
        }
       ],
       "links": [
        {
         "href": "http://127.0.0.1:8008/jobs",
         "hreflang": "en",
         "rel": "self",
         "title": "get_jobs",
         "type": "application/json"
        }
       ]
      },
      "text/plain": [
       "JobList(jobs=[JobInfo(processID='primes_between', type=<JobType.process: 'process'>, jobID='primes_between__20250724121742_6', status=<JobStatus.accepted: 'accepted'>, message=None, created=datetime.datetime(2025, 7, 24, 12, 17, 42, 63941, tzinfo=TzInfo(UTC)), started=None, finished=None, updated=None, progress=None, links=None, traceback=None), JobInfo(processID='primes_between', type=<JobType.process: 'process'>, jobID='primes_between__20250724135515_8', status=<JobStatus.accepted: 'accepted'>, message=None, created=datetime.datetime(2025, 7, 24, 13, 55, 15, 648938, tzinfo=TzInfo(UTC)), started=None, finished=None, updated=None, progress=None, links=None, traceback=None), JobInfo(processID='primes_between', type=<JobType.process: 'process'>, jobID='primes_between__20250724135558_10', status=<JobStatus.accepted: 'accepted'>, message=None, created=datetime.datetime(2025, 7, 24, 13, 55, 59, 202041, tzinfo=TzInfo(UTC)), started=None, finished=None, updated=None, progress=None, links=None, traceback=None), JobInfo(processID='sleep_a_while', type=<JobType.process: 'process'>, jobID='sleep_a_while__20250724121743_7', status=<JobStatus.successful: 'successful'>, message=None, created=datetime.datetime(2025, 7, 24, 12, 17, 43, 419942, tzinfo=TzInfo(UTC)), started=datetime.datetime(2025, 7, 24, 12, 17, 44, 652689, tzinfo=TzInfo(UTC)), finished=datetime.datetime(2025, 7, 24, 12, 17, 56, 204924, tzinfo=TzInfo(UTC)), updated=datetime.datetime(2025, 7, 24, 12, 17, 56, 202640, tzinfo=TzInfo(UTC)), progress=None, links=None, traceback=None), JobInfo(processID='sleep_a_while', type=<JobType.process: 'process'>, jobID='sleep_a_while__20250724135515_9', status=<JobStatus.successful: 'successful'>, message=None, created=datetime.datetime(2025, 7, 24, 13, 55, 15, 736552, tzinfo=TzInfo(UTC)), started=datetime.datetime(2025, 7, 24, 13, 55, 16, 336759, tzinfo=TzInfo(UTC)), finished=datetime.datetime(2025, 7, 24, 13, 55, 27, 821187, tzinfo=TzInfo(UTC)), updated=datetime.datetime(2025, 7, 24, 13, 55, 27, 819246, tzinfo=TzInfo(UTC)), progress=None, links=None, traceback=None), JobInfo(processID='sleep_a_while', type=<JobType.process: 'process'>, jobID='sleep_a_while__20250724135558_11', status=<JobStatus.accepted: 'accepted'>, message=None, created=datetime.datetime(2025, 7, 24, 13, 55, 59, 280656, tzinfo=TzInfo(UTC)), started=None, finished=None, updated=None, progress=None, links=None, traceback=None)], links=[Link(href='http://127.0.0.1:8008/jobs', rel='self', type='application/json', hreflang='en', title='get_jobs')])"
      ]
     },
     "execution_count": 13,
     "metadata": {
      "application/json": {
       "root": "JobList object:"
      }
     },
     "output_type": "execute_result"
    }
   ],
   "source": [
    "client.get_jobs()"
   ]
  },
  {
   "cell_type": "code",
   "execution_count": 14,
   "id": "902061560ad826ab",
   "metadata": {},
   "outputs": [
    {
     "data": {
      "application/json": {
       "created": "2025-07-24T12:17:43.419942Z",
       "finished": "2025-07-24T12:17:56.204924Z",
       "jobID": "sleep_a_while__20250724121743_7",
       "processID": "sleep_a_while",
       "started": "2025-07-24T12:17:44.652689Z",
       "status": "successful",
       "type": "process",
       "updated": "2025-07-24T12:17:56.202640Z"
      },
      "text/plain": [
       "JobInfo(processID='sleep_a_while', type=<JobType.process: 'process'>, jobID='sleep_a_while__20250724121743_7', status=<JobStatus.successful: 'successful'>, message=None, created=datetime.datetime(2025, 7, 24, 12, 17, 43, 419942, tzinfo=TzInfo(UTC)), started=datetime.datetime(2025, 7, 24, 12, 17, 44, 652689, tzinfo=TzInfo(UTC)), finished=datetime.datetime(2025, 7, 24, 12, 17, 56, 204924, tzinfo=TzInfo(UTC)), updated=datetime.datetime(2025, 7, 24, 12, 17, 56, 202640, tzinfo=TzInfo(UTC)), progress=None, links=None, traceback=None)"
      ]
     },
     "execution_count": 14,
     "metadata": {
      "application/json": {
       "root": "JobInfo object:"
      }
     },
     "output_type": "execute_result"
    }
   ],
   "source": [
    "client.get_job(\"sleep_a_while__20250724121743_7\")"
   ]
  },
  {
   "cell_type": "code",
   "execution_count": null,
   "id": "cf8031779ed7c039",
   "metadata": {},
   "outputs": [],
   "source": []
  }
 ],
 "metadata": {
  "kernelspec": {
   "display_name": "Python 3 (ipykernel)",
   "language": "python",
   "name": "python3"
  },
  "language_info": {
   "codemirror_mode": {
    "name": "ipython",
    "version": 3
   },
   "file_extension": ".py",
   "mimetype": "text/x-python",
   "name": "python",
   "nbconvert_exporter": "python",
   "pygments_lexer": "ipython3",
   "version": "3.13.5"
  }
 },
 "nbformat": 4,
 "nbformat_minor": 5
}
