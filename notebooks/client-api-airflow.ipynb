{
 "cells": [
  {
   "metadata": {},
   "cell_type": "markdown",
   "source": [
    "Before running this notebook, please run\n",
    "\n",
    "```bash\n",
    "s2gos-server run --service=s2gos_server.services.airflow.testing:service\n",
    "```"
   ],
   "id": "2dd538ba1caa48f6"
  },
  {
   "metadata": {},
   "cell_type": "code",
   "outputs": [],
   "execution_count": null,
   "source": [
    "from s2gos_client import Client\n",
    "from s2gos_common.models import ProcessRequest"
   ],
   "id": "5344cc3b44dbcef0"
  },
  {
   "metadata": {},
   "cell_type": "code",
   "outputs": [],
   "execution_count": null,
   "source": [
    "client = Client(server_url=\"http://127.0.0.1:8008\")\n",
    "client"
   ],
   "id": "ee384aba03475413"
  },
  {
   "metadata": {},
   "cell_type": "code",
   "outputs": [],
   "execution_count": null,
   "source": "client.get_capabilities()",
   "id": "ce2d1aaa1852ea09"
  },
  {
   "metadata": {},
   "cell_type": "code",
   "outputs": [],
   "execution_count": null,
   "source": "client.get_conformance()",
   "id": "976ef2e8c4a725d4"
  },
  {
   "metadata": {},
   "cell_type": "code",
   "outputs": [],
   "execution_count": null,
   "source": "client.get_processes()",
   "id": "c37d3dc6ccb818dc"
  },
  {
   "metadata": {},
   "cell_type": "code",
   "outputs": [],
   "execution_count": null,
   "source": "client.get_process(process_id=\"sleep_a_while\")",
   "id": "d0588c1c8746074e"
  },
  {
   "metadata": {},
   "cell_type": "code",
   "outputs": [],
   "execution_count": null,
   "source": "client.get_jobs()",
   "id": "4a52bc89af429f9f"
  },
  {
   "metadata": {},
   "cell_type": "code",
   "outputs": [],
   "execution_count": null,
   "source": "client.execute_process(process_id=\"sleep_a_while\", request=ProcessRequest())",
   "id": "102d4669babef639"
  },
  {
   "metadata": {},
   "cell_type": "code",
   "outputs": [],
   "execution_count": null,
   "source": "client.execute_process(process_id=\"sleep_a_while\", request={})",
   "id": "8bdeba6de9215758"
  },
  {
   "metadata": {},
   "cell_type": "code",
   "outputs": [],
   "execution_count": null,
   "source": "client.execute_process(process_id=\"primes_between\", request={})",
   "id": "d5f713b25cfae47d"
  },
  {
   "metadata": {},
   "cell_type": "code",
   "outputs": [],
   "execution_count": null,
   "source": "client.get_jobs()",
   "id": "c093c714bbff3984"
  },
  {
   "metadata": {},
   "cell_type": "code",
   "outputs": [],
   "execution_count": null,
   "source": "# client.get_job_results(\"job_1\")",
   "id": "20fe880ecfc57eac"
  },
  {
   "metadata": {},
   "cell_type": "code",
   "outputs": [],
   "execution_count": null,
   "source": [
    "for job in client.get_jobs().jobs:\n",
    "    client.dismiss_job(job.jobID)"
   ],
   "id": "630a20e7cbd661e2"
  },
  {
   "metadata": {},
   "cell_type": "code",
   "outputs": [],
   "execution_count": null,
   "source": "client.get_jobs()",
   "id": "7bbc5e8830473fb2"
  },
  {
   "metadata": {},
   "cell_type": "code",
   "outputs": [],
   "execution_count": null,
   "source": "",
   "id": "902061560ad826ab"
  },
  {
   "metadata": {},
   "cell_type": "code",
   "outputs": [],
   "execution_count": null,
   "source": "",
   "id": "cf8031779ed7c039"
  }
 ],
 "metadata": {},
 "nbformat": 4,
 "nbformat_minor": 5
}
