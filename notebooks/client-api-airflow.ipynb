{
 "cells": [
  {
   "cell_type": "markdown",
   "id": "2dd538ba1caa48f6",
   "metadata": {},
   "source": [
    "# Client API with Airflow\n",
    "\n",
    "Start by running a local Airflow instance with some test DAGs:\n",
    "```commandline\n",
    "cd s2gos-airflow\n",
    "pixi install\n",
    "pixi run airflow standalone\n",
    "```\n",
    "\n",
    "Then run the S2GOS gateway server with the local Airflow instance (assuming\n",
    "the local Airflow webserver runs on http://localhost:8080):\n",
    "\n",
    "```commandline\n",
    "pixi shell\n",
    "s2gos-server run -- s2gos_server.services.airflow:service --airflow-password=a8e7f4bb230\n",
    "```\n",
    "\n",
    "Get the airflow user password from `s2gos-airflow/.airflow/simple_auth_manager_passwords.json.generated`."
   ]
  },
  {
   "cell_type": "code",
   "execution_count": 1,
   "id": "5344cc3b44dbcef0",
   "metadata": {},
   "outputs": [],
   "source": [
    "from s2gos_client import Client\n",
    "from s2gos_common.models import ProcessRequest"
   ]
  },
  {
   "cell_type": "code",
   "execution_count": 4,
   "id": "ee384aba03475413",
   "metadata": {},
   "outputs": [
    {
     "data": {
      "application/json": {
       "access_token": null,
       "server_url": "http://127.0.0.1:8008",
       "user_name": null
      },
      "text/plain": [
       "<s2gos_client.api.client.Client at 0x7f88ae084190>"
      ]
     },
     "execution_count": 4,
     "metadata": {
      "application/json": {
       "root": "Client configuration:"
      }
     },
     "output_type": "execute_result"
    }
   ],
   "source": [
    "client = Client(server_url=\"http://127.0.0.1:8008\")\n",
    "client"
   ]
  },
  {
   "cell_type": "code",
   "execution_count": 5,
   "id": "ce2d1aaa1852ea09",
   "metadata": {},
   "outputs": [
    {
     "data": {
      "application/json": {
       "description": "A gateway API compliant with OGC API - Processes that uses an Airflow backend.",
       "links": [
        {
         "href": "http://127.0.0.1:8008/",
         "hreflang": "en",
         "rel": "self",
         "title": "get_capabilities",
         "type": "application/json"
        },
        {
         "href": "http://127.0.0.1:8008/openapi.json",
         "hreflang": "en",
         "rel": "service",
         "title": "openapi",
         "type": "application/json"
        },
        {
         "href": "http://127.0.0.1:8008/docs",
         "hreflang": "en",
         "rel": "service",
         "title": "swagger_ui_html",
         "type": "text/html"
        },
        {
         "href": "http://127.0.0.1:8008/docs/oauth2-redirect",
         "hreflang": "en",
         "rel": "service",
         "title": "swagger_ui_redirect",
         "type": "text/html"
        },
        {
         "href": "http://127.0.0.1:8008/redoc",
         "hreflang": "en",
         "rel": "service",
         "title": "redoc_html",
         "type": "text/html"
        },
        {
         "href": "http://127.0.0.1:8008/",
         "hreflang": "en",
         "rel": "service",
         "title": "get_capabilities",
         "type": "application/json"
        },
        {
         "href": "http://127.0.0.1:8008/conformance",
         "hreflang": "en",
         "rel": "service",
         "title": "get_conformance",
         "type": "application/json"
        },
        {
         "href": "http://127.0.0.1:8008/processes",
         "hreflang": "en",
         "rel": "service",
         "title": "get_processes",
         "type": "application/json"
        },
        {
         "href": "http://127.0.0.1:8008/processes/{processID}",
         "hreflang": "en",
         "rel": "service",
         "title": "get_process",
         "type": "application/json"
        },
        {
         "href": "http://127.0.0.1:8008/processes/{processID}/execution",
         "hreflang": "en",
         "rel": "service",
         "title": "execute_process",
         "type": "application/json"
        },
        {
         "href": "http://127.0.0.1:8008/jobs",
         "hreflang": "en",
         "rel": "service",
         "title": "get_jobs",
         "type": "application/json"
        },
        {
         "href": "http://127.0.0.1:8008/jobs/{jobId}",
         "hreflang": "en",
         "rel": "service",
         "title": "get_job",
         "type": "application/json"
        },
        {
         "href": "http://127.0.0.1:8008/jobs/{jobId}",
         "hreflang": "en",
         "rel": "service",
         "title": "dismiss_job",
         "type": "application/json"
        },
        {
         "href": "http://127.0.0.1:8008/jobs/{jobId}/results",
         "hreflang": "en",
         "rel": "service",
         "title": "get_job_results",
         "type": "application/json"
        }
       ],
       "title": "Airflow Service"
      },
      "text/plain": [
       "Capabilities(title='Airflow Service', description='A gateway API compliant with OGC API - Processes that uses an Airflow backend.', links=[Link(href='http://127.0.0.1:8008/', rel='self', type='application/json', hreflang='en', title='get_capabilities'), Link(href='http://127.0.0.1:8008/openapi.json', rel='service', type='application/json', hreflang='en', title='openapi'), Link(href='http://127.0.0.1:8008/docs', rel='service', type='text/html', hreflang='en', title='swagger_ui_html'), Link(href='http://127.0.0.1:8008/docs/oauth2-redirect', rel='service', type='text/html', hreflang='en', title='swagger_ui_redirect'), Link(href='http://127.0.0.1:8008/redoc', rel='service', type='text/html', hreflang='en', title='redoc_html'), Link(href='http://127.0.0.1:8008/', rel='service', type='application/json', hreflang='en', title='get_capabilities'), Link(href='http://127.0.0.1:8008/conformance', rel='service', type='application/json', hreflang='en', title='get_conformance'), Link(href='http://127.0.0.1:8008/processes', rel='service', type='application/json', hreflang='en', title='get_processes'), Link(href='http://127.0.0.1:8008/processes/{processID}', rel='service', type='application/json', hreflang='en', title='get_process'), Link(href='http://127.0.0.1:8008/processes/{processID}/execution', rel='service', type='application/json', hreflang='en', title='execute_process'), Link(href='http://127.0.0.1:8008/jobs', rel='service', type='application/json', hreflang='en', title='get_jobs'), Link(href='http://127.0.0.1:8008/jobs/{jobId}', rel='service', type='application/json', hreflang='en', title='get_job'), Link(href='http://127.0.0.1:8008/jobs/{jobId}', rel='service', type='application/json', hreflang='en', title='dismiss_job'), Link(href='http://127.0.0.1:8008/jobs/{jobId}/results', rel='service', type='application/json', hreflang='en', title='get_job_results')])"
      ]
     },
     "execution_count": 5,
     "metadata": {
      "application/json": {
       "root": "Capabilities object:"
      }
     },
     "output_type": "execute_result"
    }
   ],
   "source": [
    "client.get_capabilities()"
   ]
  },
  {
   "cell_type": "code",
   "execution_count": 6,
   "id": "976ef2e8c4a725d4",
   "metadata": {},
   "outputs": [
    {
     "data": {
      "application/json": {
       "conformsTo": [
        "http://www.opengis.net/spec/ogcapi-processes-1/1.0/conf/core",
        "http://www.opengis.net/spec/ogcapi-processes-1/1.0/conf/ogc-process-description",
        "http://www.opengis.net/spec/ogcapi-processes-1/1.0/conf/json",
        "http://www.opengis.net/spec/ogcapi-processes-1/1.0/conf/oas30",
        "http://www.opengis.net/spec/ogcapi-processes-1/1.0/conf/job-list",
        "http://www.opengis.net/spec/ogcapi-processes-1/1.0/conf/dismiss"
       ]
      },
      "text/plain": [
       "ConformanceDeclaration(conformsTo=['http://www.opengis.net/spec/ogcapi-processes-1/1.0/conf/core', 'http://www.opengis.net/spec/ogcapi-processes-1/1.0/conf/ogc-process-description', 'http://www.opengis.net/spec/ogcapi-processes-1/1.0/conf/json', 'http://www.opengis.net/spec/ogcapi-processes-1/1.0/conf/oas30', 'http://www.opengis.net/spec/ogcapi-processes-1/1.0/conf/job-list', 'http://www.opengis.net/spec/ogcapi-processes-1/1.0/conf/dismiss'])"
      ]
     },
     "execution_count": 6,
     "metadata": {
      "application/json": {
       "root": "ConformanceDeclaration object:"
      }
     },
     "output_type": "execute_result"
    }
   ],
   "source": [
    "client.get_conformance()"
   ]
  },
  {
   "cell_type": "code",
   "execution_count": 8,
   "id": "c37d3dc6ccb818dc",
   "metadata": {},
   "outputs": [
    {
     "data": {
      "application/json": {
       "links": [
        {
         "href": "http://127.0.0.1:8008/processes",
         "hreflang": "en",
         "rel": "self",
         "title": "get_processes",
         "type": "application/json"
        }
       ],
       "processes": [
        {
         "description": "Returns the list of prime numbers between a `min_val` and `max_val`. ",
         "id": "primes_between",
         "title": "Prime Processor",
         "version": "0.0.0"
        },
        {
         "id": "return_base_model",
         "title": "BaseModel Test",
         "version": "0.0.0"
        },
        {
         "description": "Simulate a set scene images slices for testing. Creates an xarray dataset with `periodicity` time slices and writes it as Zarr into a temporary location. Requires installed `dask`, `xarray`, and `zarr` packages.",
         "id": "simulate_scene",
         "title": "Generate scene for testing",
         "version": "0.0.0"
        },
        {
         "description": "Sleeps for `duration` seconds. Fails on purpose if `fail` is `True`. Returns the effective amount of sleep in seconds.",
         "id": "sleep_a_while",
         "title": "Sleep Processor",
         "version": "0.0.0"
        }
       ]
      },
      "text/plain": [
       "ProcessList(processes=[ProcessSummary(title='Prime Processor', description='Returns the list of prime numbers between a `min_val` and `max_val`. ', keywords=None, metadata=None, additionalParameters=None, id='primes_between', version='0.0.0', jobControlOptions=None, outputTransmission=None, links=None), ProcessSummary(title='BaseModel Test', description=None, keywords=None, metadata=None, additionalParameters=None, id='return_base_model', version='0.0.0', jobControlOptions=None, outputTransmission=None, links=None), ProcessSummary(title='Generate scene for testing', description='Simulate a set scene images slices for testing. Creates an xarray dataset with `periodicity` time slices and writes it as Zarr into a temporary location. Requires installed `dask`, `xarray`, and `zarr` packages.', keywords=None, metadata=None, additionalParameters=None, id='simulate_scene', version='0.0.0', jobControlOptions=None, outputTransmission=None, links=None), ProcessSummary(title='Sleep Processor', description='Sleeps for `duration` seconds. Fails on purpose if `fail` is `True`. Returns the effective amount of sleep in seconds.', keywords=None, metadata=None, additionalParameters=None, id='sleep_a_while', version='0.0.0', jobControlOptions=None, outputTransmission=None, links=None)], links=[Link(href='http://127.0.0.1:8008/processes', rel='self', type='application/json', hreflang='en', title='get_processes')])"
      ]
     },
     "execution_count": 8,
     "metadata": {
      "application/json": {
       "root": "ProcessList object:"
      }
     },
     "output_type": "execute_result"
    }
   ],
   "source": [
    "client.get_processes()"
   ]
  },
  {
   "cell_type": "code",
   "execution_count": 9,
   "id": "d0588c1c8746074e",
   "metadata": {},
   "outputs": [
    {
     "data": {
      "application/json": {
       "description": "Sleeps for `duration` seconds. Fails on purpose if `fail` is `True`. Returns the effective amount of sleep in seconds.",
       "id": "sleep_a_while",
       "inputs": {},
       "outputs": {},
       "title": "Sleep Processor",
       "version": "0.0.0"
      },
      "text/plain": [
       "ProcessDescription(title='Sleep Processor', description='Sleeps for `duration` seconds. Fails on purpose if `fail` is `True`. Returns the effective amount of sleep in seconds.', keywords=None, metadata=None, additionalParameters=None, id='sleep_a_while', version='0.0.0', jobControlOptions=None, outputTransmission=None, links=None, inputs={}, outputs={})"
      ]
     },
     "execution_count": 9,
     "metadata": {
      "application/json": {
       "root": "ProcessDescription object:"
      }
     },
     "output_type": "execute_result"
    }
   ],
   "source": [
    "client.get_process(process_id=\"sleep_a_while\")"
   ]
  },
  {
   "cell_type": "code",
   "execution_count": 10,
   "id": "4a52bc89af429f9f",
   "metadata": {},
   "outputs": [
    {
     "data": {
      "application/json": {
       "jobs": [
        {
         "created": "2025-07-15T11:12:09.501829Z",
         "finished": "2025-07-15T11:12:13.599646Z",
         "jobID": "manual__2025-07-15T11:12:09.473432+00:00",
         "processID": "primes_between",
         "started": "2025-07-15T11:12:09.689505Z",
         "status": "successful",
         "type": "process",
         "updated": "2025-07-15T11:12:13.592815Z"
        },
        {
         "created": "2025-07-15T12:43:21.762728Z",
         "finished": "2025-07-15T12:44:15.335494Z",
         "jobID": "manual__2025-07-15T12:43:21.705839+00:00",
         "processID": "sleep_a_while",
         "started": "2025-07-15T12:43:23.054525Z",
         "status": "failed",
         "type": "process",
         "updated": "2025-07-15T12:44:15.329219Z"
        }
       ],
       "links": [
        {
         "href": "http://127.0.0.1:8008/jobs",
         "hreflang": "en",
         "rel": "self",
         "title": "get_jobs",
         "type": "application/json"
        }
       ]
      },
      "text/plain": [
       "JobList(jobs=[JobInfo(processID='primes_between', type=<JobType.process: 'process'>, jobID='manual__2025-07-15T11:12:09.473432+00:00', status=<JobStatus.successful: 'successful'>, message=None, created=datetime.datetime(2025, 7, 15, 11, 12, 9, 501829, tzinfo=TzInfo(UTC)), started=datetime.datetime(2025, 7, 15, 11, 12, 9, 689505, tzinfo=TzInfo(UTC)), finished=datetime.datetime(2025, 7, 15, 11, 12, 13, 599646, tzinfo=TzInfo(UTC)), updated=datetime.datetime(2025, 7, 15, 11, 12, 13, 592815, tzinfo=TzInfo(UTC)), progress=None, links=None, traceback=None), JobInfo(processID='sleep_a_while', type=<JobType.process: 'process'>, jobID='manual__2025-07-15T12:43:21.705839+00:00', status=<JobStatus.failed: 'failed'>, message=None, created=datetime.datetime(2025, 7, 15, 12, 43, 21, 762728, tzinfo=TzInfo(UTC)), started=datetime.datetime(2025, 7, 15, 12, 43, 23, 54525, tzinfo=TzInfo(UTC)), finished=datetime.datetime(2025, 7, 15, 12, 44, 15, 335494, tzinfo=TzInfo(UTC)), updated=datetime.datetime(2025, 7, 15, 12, 44, 15, 329219, tzinfo=TzInfo(UTC)), progress=None, links=None, traceback=None)], links=[Link(href='http://127.0.0.1:8008/jobs', rel='self', type='application/json', hreflang='en', title='get_jobs')])"
      ]
     },
     "execution_count": 10,
     "metadata": {
      "application/json": {
       "root": "JobList object:"
      }
     },
     "output_type": "execute_result"
    }
   ],
   "source": [
    "client.get_jobs()"
   ]
  },
  {
   "cell_type": "code",
   "execution_count": 11,
   "id": "102d4669babef639",
   "metadata": {},
   "outputs": [
    {
     "data": {
      "application/json": {
       "created": "2025-09-09T13:31:19.770932Z",
       "jobID": "primes_between__20250909133119_1",
       "processID": "primes_between",
       "status": "accepted",
       "type": "process"
      },
      "text/plain": [
       "JobInfo(processID='primes_between', type=<JobType.process: 'process'>, jobID='primes_between__20250909133119_1', status=<JobStatus.accepted: 'accepted'>, message=None, created=datetime.datetime(2025, 9, 9, 13, 31, 19, 770932, tzinfo=TzInfo(UTC)), started=None, finished=None, updated=None, progress=None, links=None, traceback=None)"
      ]
     },
     "execution_count": 11,
     "metadata": {
      "application/json": {
       "root": "JobInfo object:"
      }
     },
     "output_type": "execute_result"
    }
   ],
   "source": [
    "client.execute_process(process_id=\"primes_between\", request=ProcessRequest())"
   ]
  },
  {
   "cell_type": "code",
   "execution_count": 12,
   "id": "ee5c45a5-5642-4119-b783-ea72cc022c18",
   "metadata": {},
   "outputs": [
    {
     "data": {
      "application/json": {
       "created": "2025-09-09T13:31:22.836061Z",
       "jobID": "sleep_a_while__20250909133121_2",
       "processID": "sleep_a_while",
       "status": "accepted",
       "type": "process"
      },
      "text/plain": [
       "JobInfo(processID='sleep_a_while', type=<JobType.process: 'process'>, jobID='sleep_a_while__20250909133121_2', status=<JobStatus.accepted: 'accepted'>, message=None, created=datetime.datetime(2025, 9, 9, 13, 31, 22, 836061, tzinfo=TzInfo(UTC)), started=None, finished=None, updated=None, progress=None, links=None, traceback=None)"
      ]
     },
     "execution_count": 12,
     "metadata": {
      "application/json": {
       "root": "JobInfo object:"
      }
     },
     "output_type": "execute_result"
    }
   ],
   "source": [
    "client.execute_process(process_id=\"sleep_a_while\", request=ProcessRequest())"
   ]
  },
  {
   "cell_type": "code",
   "execution_count": 13,
   "id": "c093c714bbff3984",
   "metadata": {},
   "outputs": [
    {
     "data": {
      "application/json": {
       "jobs": [
        {
         "created": "2025-07-15T11:12:09.501829Z",
         "finished": "2025-07-15T11:12:13.599646Z",
         "jobID": "manual__2025-07-15T11:12:09.473432+00:00",
         "processID": "primes_between",
         "started": "2025-07-15T11:12:09.689505Z",
         "status": "successful",
         "type": "process",
         "updated": "2025-07-15T11:12:13.592815Z"
        },
        {
         "created": "2025-09-09T13:31:19.770932Z",
         "finished": "2025-09-09T13:31:24.008108Z",
         "jobID": "primes_between__20250909133119_1",
         "processID": "primes_between",
         "started": "2025-09-09T13:31:20.451716Z",
         "status": "successful",
         "type": "process",
         "updated": "2025-09-09T13:31:24.003845Z"
        },
        {
         "created": "2025-07-15T12:43:21.762728Z",
         "finished": "2025-07-15T12:44:15.335494Z",
         "jobID": "manual__2025-07-15T12:43:21.705839+00:00",
         "processID": "sleep_a_while",
         "started": "2025-07-15T12:43:23.054525Z",
         "status": "failed",
         "type": "process",
         "updated": "2025-07-15T12:44:15.329219Z"
        },
        {
         "created": "2025-09-09T13:31:22.836061Z",
         "jobID": "sleep_a_while__20250909133121_2",
         "processID": "sleep_a_while",
         "started": "2025-09-09T13:31:23.950645Z",
         "status": "running",
         "type": "process",
         "updated": "2025-09-09T13:31:24.179479Z"
        }
       ],
       "links": [
        {
         "href": "http://127.0.0.1:8008/jobs",
         "hreflang": "en",
         "rel": "self",
         "title": "get_jobs",
         "type": "application/json"
        }
       ]
      },
      "text/plain": [
       "JobList(jobs=[JobInfo(processID='primes_between', type=<JobType.process: 'process'>, jobID='manual__2025-07-15T11:12:09.473432+00:00', status=<JobStatus.successful: 'successful'>, message=None, created=datetime.datetime(2025, 7, 15, 11, 12, 9, 501829, tzinfo=TzInfo(UTC)), started=datetime.datetime(2025, 7, 15, 11, 12, 9, 689505, tzinfo=TzInfo(UTC)), finished=datetime.datetime(2025, 7, 15, 11, 12, 13, 599646, tzinfo=TzInfo(UTC)), updated=datetime.datetime(2025, 7, 15, 11, 12, 13, 592815, tzinfo=TzInfo(UTC)), progress=None, links=None, traceback=None), JobInfo(processID='primes_between', type=<JobType.process: 'process'>, jobID='primes_between__20250909133119_1', status=<JobStatus.successful: 'successful'>, message=None, created=datetime.datetime(2025, 9, 9, 13, 31, 19, 770932, tzinfo=TzInfo(UTC)), started=datetime.datetime(2025, 9, 9, 13, 31, 20, 451716, tzinfo=TzInfo(UTC)), finished=datetime.datetime(2025, 9, 9, 13, 31, 24, 8108, tzinfo=TzInfo(UTC)), updated=datetime.datetime(2025, 9, 9, 13, 31, 24, 3845, tzinfo=TzInfo(UTC)), progress=None, links=None, traceback=None), JobInfo(processID='sleep_a_while', type=<JobType.process: 'process'>, jobID='manual__2025-07-15T12:43:21.705839+00:00', status=<JobStatus.failed: 'failed'>, message=None, created=datetime.datetime(2025, 7, 15, 12, 43, 21, 762728, tzinfo=TzInfo(UTC)), started=datetime.datetime(2025, 7, 15, 12, 43, 23, 54525, tzinfo=TzInfo(UTC)), finished=datetime.datetime(2025, 7, 15, 12, 44, 15, 335494, tzinfo=TzInfo(UTC)), updated=datetime.datetime(2025, 7, 15, 12, 44, 15, 329219, tzinfo=TzInfo(UTC)), progress=None, links=None, traceback=None), JobInfo(processID='sleep_a_while', type=<JobType.process: 'process'>, jobID='sleep_a_while__20250909133121_2', status=<JobStatus.running: 'running'>, message=None, created=datetime.datetime(2025, 9, 9, 13, 31, 22, 836061, tzinfo=TzInfo(UTC)), started=datetime.datetime(2025, 9, 9, 13, 31, 23, 950645, tzinfo=TzInfo(UTC)), finished=None, updated=datetime.datetime(2025, 9, 9, 13, 31, 24, 179479, tzinfo=TzInfo(UTC)), progress=None, links=None, traceback=None)], links=[Link(href='http://127.0.0.1:8008/jobs', rel='self', type='application/json', hreflang='en', title='get_jobs')])"
      ]
     },
     "execution_count": 13,
     "metadata": {
      "application/json": {
       "root": "JobList object:"
      }
     },
     "output_type": "execute_result"
    }
   ],
   "source": [
    "client.get_jobs()"
   ]
  },
  {
   "cell_type": "code",
   "execution_count": 21,
   "id": "20fe880ecfc57eac",
   "metadata": {},
   "outputs": [
    {
     "ename": "ClientException",
     "evalue": "Expecting value: line 1 column 1 (char 0)",
     "output_type": "error",
     "traceback": [
      "\u001b[31m---------------------------------------------------------------------------\u001b[39m",
      "\u001b[31mJSONDecodeError\u001b[39m                           Traceback (most recent call last)",
      "\u001b[36mFile \u001b[39m\u001b[32m~/projects/s2gos-controller/s2gos-client/src/s2gos_client/api/transport/httpx.py:55\u001b[39m, in \u001b[36mHttpxTransport._process_response\u001b[39m\u001b[34m(self, args, response)\u001b[39m\n\u001b[32m     52\u001b[39m \u001b[38;5;28;01mtry\u001b[39;00m:\n\u001b[32m     53\u001b[39m     \u001b[38;5;66;03m# Note, actually we should only do `response.json()` if JSON is expected,\u001b[39;00m\n\u001b[32m     54\u001b[39m     \u001b[38;5;66;03m# use args.return_types for this decision.\u001b[39;00m\n\u001b[32m---> \u001b[39m\u001b[32m55\u001b[39m     response_json = \u001b[43mresponse\u001b[49m\u001b[43m.\u001b[49m\u001b[43mjson\u001b[49m\u001b[43m(\u001b[49m\u001b[43m)\u001b[49m\n\u001b[32m     56\u001b[39m \u001b[38;5;28;01mexcept\u001b[39;00m (\u001b[38;5;167;01mValueError\u001b[39;00m, \u001b[38;5;167;01mTypeError\u001b[39;00m) \u001b[38;5;28;01mas\u001b[39;00m e:\n",
      "\u001b[36mFile \u001b[39m\u001b[32m~/projects/s2gos-controller/.pixi/envs/default/lib/python3.13/site-packages/httpx/_models.py:832\u001b[39m, in \u001b[36mResponse.json\u001b[39m\u001b[34m(self, **kwargs)\u001b[39m\n\u001b[32m    831\u001b[39m \u001b[38;5;28;01mdef\u001b[39;00m\u001b[38;5;250m \u001b[39m\u001b[34mjson\u001b[39m(\u001b[38;5;28mself\u001b[39m, **kwargs: typing.Any) -> typing.Any:\n\u001b[32m--> \u001b[39m\u001b[32m832\u001b[39m     \u001b[38;5;28;01mreturn\u001b[39;00m \u001b[43mjsonlib\u001b[49m\u001b[43m.\u001b[49m\u001b[43mloads\u001b[49m\u001b[43m(\u001b[49m\u001b[38;5;28;43mself\u001b[39;49m\u001b[43m.\u001b[49m\u001b[43mcontent\u001b[49m\u001b[43m,\u001b[49m\u001b[43m \u001b[49m\u001b[43m*\u001b[49m\u001b[43m*\u001b[49m\u001b[43mkwargs\u001b[49m\u001b[43m)\u001b[49m\n",
      "\u001b[36mFile \u001b[39m\u001b[32m~/projects/s2gos-controller/.pixi/envs/default/lib/python3.13/json/__init__.py:346\u001b[39m, in \u001b[36mloads\u001b[39m\u001b[34m(s, cls, object_hook, parse_float, parse_int, parse_constant, object_pairs_hook, **kw)\u001b[39m\n\u001b[32m    343\u001b[39m \u001b[38;5;28;01mif\u001b[39;00m (\u001b[38;5;28mcls\u001b[39m \u001b[38;5;129;01mis\u001b[39;00m \u001b[38;5;28;01mNone\u001b[39;00m \u001b[38;5;129;01mand\u001b[39;00m object_hook \u001b[38;5;129;01mis\u001b[39;00m \u001b[38;5;28;01mNone\u001b[39;00m \u001b[38;5;129;01mand\u001b[39;00m\n\u001b[32m    344\u001b[39m         parse_int \u001b[38;5;129;01mis\u001b[39;00m \u001b[38;5;28;01mNone\u001b[39;00m \u001b[38;5;129;01mand\u001b[39;00m parse_float \u001b[38;5;129;01mis\u001b[39;00m \u001b[38;5;28;01mNone\u001b[39;00m \u001b[38;5;129;01mand\u001b[39;00m\n\u001b[32m    345\u001b[39m         parse_constant \u001b[38;5;129;01mis\u001b[39;00m \u001b[38;5;28;01mNone\u001b[39;00m \u001b[38;5;129;01mand\u001b[39;00m object_pairs_hook \u001b[38;5;129;01mis\u001b[39;00m \u001b[38;5;28;01mNone\u001b[39;00m \u001b[38;5;129;01mand\u001b[39;00m \u001b[38;5;129;01mnot\u001b[39;00m kw):\n\u001b[32m--> \u001b[39m\u001b[32m346\u001b[39m     \u001b[38;5;28;01mreturn\u001b[39;00m \u001b[43m_default_decoder\u001b[49m\u001b[43m.\u001b[49m\u001b[43mdecode\u001b[49m\u001b[43m(\u001b[49m\u001b[43ms\u001b[49m\u001b[43m)\u001b[49m\n\u001b[32m    347\u001b[39m \u001b[38;5;28;01mif\u001b[39;00m \u001b[38;5;28mcls\u001b[39m \u001b[38;5;129;01mis\u001b[39;00m \u001b[38;5;28;01mNone\u001b[39;00m:\n",
      "\u001b[36mFile \u001b[39m\u001b[32m~/projects/s2gos-controller/.pixi/envs/default/lib/python3.13/json/decoder.py:345\u001b[39m, in \u001b[36mJSONDecoder.decode\u001b[39m\u001b[34m(self, s, _w)\u001b[39m\n\u001b[32m    341\u001b[39m \u001b[38;5;250m\u001b[39m\u001b[33;03m\"\"\"Return the Python representation of ``s`` (a ``str`` instance\u001b[39;00m\n\u001b[32m    342\u001b[39m \u001b[33;03mcontaining a JSON document).\u001b[39;00m\n\u001b[32m    343\u001b[39m \n\u001b[32m    344\u001b[39m \u001b[33;03m\"\"\"\u001b[39;00m\n\u001b[32m--> \u001b[39m\u001b[32m345\u001b[39m obj, end = \u001b[38;5;28;43mself\u001b[39;49m\u001b[43m.\u001b[49m\u001b[43mraw_decode\u001b[49m\u001b[43m(\u001b[49m\u001b[43ms\u001b[49m\u001b[43m,\u001b[49m\u001b[43m \u001b[49m\u001b[43midx\u001b[49m\u001b[43m=\u001b[49m\u001b[43m_w\u001b[49m\u001b[43m(\u001b[49m\u001b[43ms\u001b[49m\u001b[43m,\u001b[49m\u001b[43m \u001b[49m\u001b[32;43m0\u001b[39;49m\u001b[43m)\u001b[49m\u001b[43m.\u001b[49m\u001b[43mend\u001b[49m\u001b[43m(\u001b[49m\u001b[43m)\u001b[49m\u001b[43m)\u001b[49m\n\u001b[32m    346\u001b[39m end = _w(s, end).end()\n",
      "\u001b[36mFile \u001b[39m\u001b[32m~/projects/s2gos-controller/.pixi/envs/default/lib/python3.13/json/decoder.py:363\u001b[39m, in \u001b[36mJSONDecoder.raw_decode\u001b[39m\u001b[34m(self, s, idx)\u001b[39m\n\u001b[32m    362\u001b[39m \u001b[38;5;28;01mexcept\u001b[39;00m \u001b[38;5;167;01mStopIteration\u001b[39;00m \u001b[38;5;28;01mas\u001b[39;00m err:\n\u001b[32m--> \u001b[39m\u001b[32m363\u001b[39m     \u001b[38;5;28;01mraise\u001b[39;00m JSONDecodeError(\u001b[33m\"\u001b[39m\u001b[33mExpecting value\u001b[39m\u001b[33m\"\u001b[39m, s, err.value) \u001b[38;5;28;01mfrom\u001b[39;00m\u001b[38;5;250m \u001b[39m\u001b[38;5;28;01mNone\u001b[39;00m\n\u001b[32m    364\u001b[39m \u001b[38;5;28;01mreturn\u001b[39;00m obj, end\n",
      "\u001b[31mJSONDecodeError\u001b[39m: Expecting value: line 1 column 1 (char 0)",
      "\nThe above exception was the direct cause of the following exception:\n",
      "\u001b[31mClientException\u001b[39m                           Traceback (most recent call last)",
      "\u001b[36mCell\u001b[39m\u001b[36m \u001b[39m\u001b[32mIn[21]\u001b[39m\u001b[32m, line 1\u001b[39m\n\u001b[32m----> \u001b[39m\u001b[32m1\u001b[39m \u001b[43mclient\u001b[49m\u001b[43m.\u001b[49m\u001b[43mget_job_results\u001b[49m\u001b[43m(\u001b[49m\u001b[33;43m\"\u001b[39;49m\u001b[33;43msleep_a_while__20250909133121_2\u001b[39;49m\u001b[33;43m\"\u001b[39;49m\u001b[43m)\u001b[49m\n",
      "\u001b[36mFile \u001b[39m\u001b[32m~/projects/s2gos-controller/s2gos-client/src/s2gos_client/api/client.py:362\u001b[39m, in \u001b[36mClient.get_job_results\u001b[39m\u001b[34m(self, job_id, **kwargs)\u001b[39m\n\u001b[32m    340\u001b[39m \u001b[38;5;28;01mdef\u001b[39;00m\u001b[38;5;250m \u001b[39m\u001b[34mget_job_results\u001b[39m(\u001b[38;5;28mself\u001b[39m, job_id: \u001b[38;5;28mstr\u001b[39m, **kwargs: Any) -> JobResults:\n\u001b[32m    341\u001b[39m \u001b[38;5;250m    \u001b[39m\u001b[33;03m\"\"\"\u001b[39;00m\n\u001b[32m    342\u001b[39m \u001b[33;03m    Lists available results of a job. In case of a failure, lists errors\u001b[39;00m\n\u001b[32m    343\u001b[39m \u001b[33;03m    instead.\u001b[39;00m\n\u001b[32m   (...)\u001b[39m\u001b[32m    360\u001b[39m \u001b[33;03m        - `500`: A server error occurred.\u001b[39;00m\n\u001b[32m    361\u001b[39m \u001b[33;03m    \"\"\"\u001b[39;00m\n\u001b[32m--> \u001b[39m\u001b[32m362\u001b[39m     \u001b[38;5;28;01mreturn\u001b[39;00m \u001b[38;5;28;43mself\u001b[39;49m\u001b[43m.\u001b[49m\u001b[43m_transport\u001b[49m\u001b[43m.\u001b[49m\u001b[43mcall\u001b[49m\u001b[43m(\u001b[49m\n\u001b[32m    363\u001b[39m \u001b[43m        \u001b[49m\u001b[43mTransportArgs\u001b[49m\u001b[43m(\u001b[49m\n\u001b[32m    364\u001b[39m \u001b[43m            \u001b[49m\u001b[43mpath\u001b[49m\u001b[43m=\u001b[49m\u001b[33;43m\"\u001b[39;49m\u001b[33;43m/jobs/\u001b[39;49m\u001b[38;5;132;43;01m{jobId}\u001b[39;49;00m\u001b[33;43m/results\u001b[39;49m\u001b[33;43m\"\u001b[39;49m\u001b[43m,\u001b[49m\n\u001b[32m    365\u001b[39m \u001b[43m            \u001b[49m\u001b[43mmethod\u001b[49m\u001b[43m=\u001b[49m\u001b[33;43m\"\u001b[39;49m\u001b[33;43mget\u001b[39;49m\u001b[33;43m\"\u001b[39;49m\u001b[43m,\u001b[49m\n\u001b[32m    366\u001b[39m \u001b[43m            \u001b[49m\u001b[43mpath_params\u001b[49m\u001b[43m=\u001b[49m\u001b[43m{\u001b[49m\u001b[33;43m\"\u001b[39;49m\u001b[33;43mjobId\u001b[39;49m\u001b[33;43m\"\u001b[39;49m\u001b[43m:\u001b[49m\u001b[43m \u001b[49m\u001b[43mjob_id\u001b[49m\u001b[43m}\u001b[49m\u001b[43m,\u001b[49m\n\u001b[32m    367\u001b[39m \u001b[43m            \u001b[49m\u001b[43mreturn_types\u001b[49m\u001b[43m=\u001b[49m\u001b[43m{\u001b[49m\u001b[33;43m\"\u001b[39;49m\u001b[33;43m200\u001b[39;49m\u001b[33;43m\"\u001b[39;49m\u001b[43m:\u001b[49m\u001b[43m \u001b[49m\u001b[43mJobResults\u001b[49m\u001b[43m}\u001b[49m\u001b[43m,\u001b[49m\n\u001b[32m    368\u001b[39m \u001b[43m            \u001b[49m\u001b[43merror_types\u001b[49m\u001b[43m=\u001b[49m\u001b[43m{\u001b[49m\u001b[33;43m\"\u001b[39;49m\u001b[33;43m404\u001b[39;49m\u001b[33;43m\"\u001b[39;49m\u001b[43m:\u001b[49m\u001b[43m \u001b[49m\u001b[43mApiError\u001b[49m\u001b[43m,\u001b[49m\u001b[43m \u001b[49m\u001b[33;43m\"\u001b[39;49m\u001b[33;43m500\u001b[39;49m\u001b[33;43m\"\u001b[39;49m\u001b[43m:\u001b[49m\u001b[43m \u001b[49m\u001b[43mApiError\u001b[49m\u001b[43m}\u001b[49m\u001b[43m,\u001b[49m\n\u001b[32m    369\u001b[39m \u001b[43m            \u001b[49m\u001b[43mextra_kwargs\u001b[49m\u001b[43m=\u001b[49m\u001b[43mkwargs\u001b[49m\u001b[43m,\u001b[49m\n\u001b[32m    370\u001b[39m \u001b[43m        \u001b[49m\u001b[43m)\u001b[49m\n\u001b[32m    371\u001b[39m \u001b[43m    \u001b[49m\u001b[43m)\u001b[49m\n",
      "\u001b[36mFile \u001b[39m\u001b[32m~/projects/s2gos-controller/s2gos-client/src/s2gos_client/api/transport/httpx.py:30\u001b[39m, in \u001b[36mHttpxTransport.call\u001b[39m\u001b[34m(self, args)\u001b[39m\n\u001b[32m     28\u001b[39m args_, kwargs_ = \u001b[38;5;28mself\u001b[39m._get_request_args(args)\n\u001b[32m     29\u001b[39m response = \u001b[38;5;28mself\u001b[39m.sync_httpx.request(*args_, **kwargs_)\n\u001b[32m---> \u001b[39m\u001b[32m30\u001b[39m \u001b[38;5;28;01mreturn\u001b[39;00m \u001b[38;5;28;43mself\u001b[39;49m\u001b[43m.\u001b[49m\u001b[43m_process_response\u001b[49m\u001b[43m(\u001b[49m\u001b[43margs\u001b[49m\u001b[43m,\u001b[49m\u001b[43m \u001b[49m\u001b[43mresponse\u001b[49m\u001b[43m)\u001b[49m\n",
      "\u001b[36mFile \u001b[39m\u001b[32m~/projects/s2gos-controller/s2gos-client/src/s2gos_client/api/transport/httpx.py:57\u001b[39m, in \u001b[36mHttpxTransport._process_response\u001b[39m\u001b[34m(self, args, response)\u001b[39m\n\u001b[32m     55\u001b[39m     response_json = response.json()\n\u001b[32m     56\u001b[39m \u001b[38;5;28;01mexcept\u001b[39;00m (\u001b[38;5;167;01mValueError\u001b[39;00m, \u001b[38;5;167;01mTypeError\u001b[39;00m) \u001b[38;5;28;01mas\u001b[39;00m e:\n\u001b[32m---> \u001b[39m\u001b[32m57\u001b[39m     \u001b[38;5;28;01mraise\u001b[39;00m ClientException(\n\u001b[32m     58\u001b[39m         \u001b[33mf\u001b[39m\u001b[33m\"\u001b[39m\u001b[38;5;132;01m{\u001b[39;00me\u001b[38;5;132;01m}\u001b[39;00m\u001b[33m\"\u001b[39m,\n\u001b[32m     59\u001b[39m         api_error=ApiError(\n\u001b[32m     60\u001b[39m             \u001b[38;5;28mtype\u001b[39m=\u001b[38;5;28mtype\u001b[39m(e).\u001b[34m__name__\u001b[39m,\n\u001b[32m     61\u001b[39m             title=\u001b[33m\"\u001b[39m\u001b[33mExpected JSON response from API\u001b[39m\u001b[33m\"\u001b[39m,\n\u001b[32m     62\u001b[39m             detail=\u001b[33mf\u001b[39m\u001b[33m\"\u001b[39m\u001b[38;5;132;01m{\u001b[39;00me\u001b[38;5;132;01m}\u001b[39;00m\u001b[33m\"\u001b[39m,\n\u001b[32m     63\u001b[39m         ),\n\u001b[32m     64\u001b[39m     ) \u001b[38;5;28;01mfrom\u001b[39;00m\u001b[38;5;250m \u001b[39m\u001b[34;01me\u001b[39;00m\n\u001b[32m     65\u001b[39m \u001b[38;5;28;01mtry\u001b[39;00m:\n\u001b[32m     66\u001b[39m     response.raise_for_status()\n",
      "\u001b[31mClientException\u001b[39m: Expecting value: line 1 column 1 (char 0)"
     ]
    }
   ],
   "source": [
    "client.get_job_results(\"sleep_a_while__20250909133121_2\")"
   ]
  },
  {
   "cell_type": "code",
   "execution_count": 12,
   "id": "630a20e7cbd661e2",
   "metadata": {},
   "outputs": [],
   "source": [
    "# for job in client.get_jobs().jobs:\n",
    "#     client.dismiss_job(job.jobID)"
   ]
  },
  {
   "cell_type": "code",
   "execution_count": 16,
   "id": "7bbc5e8830473fb2",
   "metadata": {},
   "outputs": [
    {
     "data": {
      "application/json": {
       "jobs": [
        {
         "created": "2025-07-15T11:12:09.501829Z",
         "finished": "2025-07-15T11:12:13.599646Z",
         "jobID": "manual__2025-07-15T11:12:09.473432+00:00",
         "processID": "primes_between",
         "started": "2025-07-15T11:12:09.689505Z",
         "status": "successful",
         "type": "process",
         "updated": "2025-07-15T11:12:13.592815Z"
        },
        {
         "created": "2025-09-09T13:31:19.770932Z",
         "finished": "2025-09-09T13:31:24.008108Z",
         "jobID": "primes_between__20250909133119_1",
         "processID": "primes_between",
         "started": "2025-09-09T13:31:20.451716Z",
         "status": "successful",
         "type": "process",
         "updated": "2025-09-09T13:31:24.003845Z"
        },
        {
         "created": "2025-07-15T12:43:21.762728Z",
         "finished": "2025-07-15T12:44:15.335494Z",
         "jobID": "manual__2025-07-15T12:43:21.705839+00:00",
         "processID": "sleep_a_while",
         "started": "2025-07-15T12:43:23.054525Z",
         "status": "failed",
         "type": "process",
         "updated": "2025-07-15T12:44:15.329219Z"
        },
        {
         "created": "2025-09-09T13:31:22.836061Z",
         "finished": "2025-09-09T13:31:35.360842Z",
         "jobID": "sleep_a_while__20250909133121_2",
         "processID": "sleep_a_while",
         "started": "2025-09-09T13:31:23.950645Z",
         "status": "successful",
         "type": "process",
         "updated": "2025-09-09T13:31:35.356595Z"
        }
       ],
       "links": [
        {
         "href": "http://127.0.0.1:8008/jobs",
         "hreflang": "en",
         "rel": "self",
         "title": "get_jobs",
         "type": "application/json"
        }
       ]
      },
      "text/plain": [
       "JobList(jobs=[JobInfo(processID='primes_between', type=<JobType.process: 'process'>, jobID='manual__2025-07-15T11:12:09.473432+00:00', status=<JobStatus.successful: 'successful'>, message=None, created=datetime.datetime(2025, 7, 15, 11, 12, 9, 501829, tzinfo=TzInfo(UTC)), started=datetime.datetime(2025, 7, 15, 11, 12, 9, 689505, tzinfo=TzInfo(UTC)), finished=datetime.datetime(2025, 7, 15, 11, 12, 13, 599646, tzinfo=TzInfo(UTC)), updated=datetime.datetime(2025, 7, 15, 11, 12, 13, 592815, tzinfo=TzInfo(UTC)), progress=None, links=None, traceback=None), JobInfo(processID='primes_between', type=<JobType.process: 'process'>, jobID='primes_between__20250909133119_1', status=<JobStatus.successful: 'successful'>, message=None, created=datetime.datetime(2025, 9, 9, 13, 31, 19, 770932, tzinfo=TzInfo(UTC)), started=datetime.datetime(2025, 9, 9, 13, 31, 20, 451716, tzinfo=TzInfo(UTC)), finished=datetime.datetime(2025, 9, 9, 13, 31, 24, 8108, tzinfo=TzInfo(UTC)), updated=datetime.datetime(2025, 9, 9, 13, 31, 24, 3845, tzinfo=TzInfo(UTC)), progress=None, links=None, traceback=None), JobInfo(processID='sleep_a_while', type=<JobType.process: 'process'>, jobID='manual__2025-07-15T12:43:21.705839+00:00', status=<JobStatus.failed: 'failed'>, message=None, created=datetime.datetime(2025, 7, 15, 12, 43, 21, 762728, tzinfo=TzInfo(UTC)), started=datetime.datetime(2025, 7, 15, 12, 43, 23, 54525, tzinfo=TzInfo(UTC)), finished=datetime.datetime(2025, 7, 15, 12, 44, 15, 335494, tzinfo=TzInfo(UTC)), updated=datetime.datetime(2025, 7, 15, 12, 44, 15, 329219, tzinfo=TzInfo(UTC)), progress=None, links=None, traceback=None), JobInfo(processID='sleep_a_while', type=<JobType.process: 'process'>, jobID='sleep_a_while__20250909133121_2', status=<JobStatus.successful: 'successful'>, message=None, created=datetime.datetime(2025, 9, 9, 13, 31, 22, 836061, tzinfo=TzInfo(UTC)), started=datetime.datetime(2025, 9, 9, 13, 31, 23, 950645, tzinfo=TzInfo(UTC)), finished=datetime.datetime(2025, 9, 9, 13, 31, 35, 360842, tzinfo=TzInfo(UTC)), updated=datetime.datetime(2025, 9, 9, 13, 31, 35, 356595, tzinfo=TzInfo(UTC)), progress=None, links=None, traceback=None)], links=[Link(href='http://127.0.0.1:8008/jobs', rel='self', type='application/json', hreflang='en', title='get_jobs')])"
      ]
     },
     "execution_count": 16,
     "metadata": {
      "application/json": {
       "root": "JobList object:"
      }
     },
     "output_type": "execute_result"
    }
   ],
   "source": [
    "client.get_jobs()"
   ]
  },
  {
   "cell_type": "code",
   "execution_count": 17,
   "id": "902061560ad826ab",
   "metadata": {},
   "outputs": [
    {
     "data": {
      "application/json": {
       "created": "2025-09-09T13:31:19.770932Z",
       "finished": "2025-09-09T13:31:24.008108Z",
       "jobID": "primes_between__20250909133119_1",
       "processID": "primes_between",
       "started": "2025-09-09T13:31:20.451716Z",
       "status": "successful",
       "type": "process",
       "updated": "2025-09-09T13:31:24.003845Z"
      },
      "text/plain": [
       "JobInfo(processID='primes_between', type=<JobType.process: 'process'>, jobID='primes_between__20250909133119_1', status=<JobStatus.successful: 'successful'>, message=None, created=datetime.datetime(2025, 9, 9, 13, 31, 19, 770932, tzinfo=TzInfo(UTC)), started=datetime.datetime(2025, 9, 9, 13, 31, 20, 451716, tzinfo=TzInfo(UTC)), finished=datetime.datetime(2025, 9, 9, 13, 31, 24, 8108, tzinfo=TzInfo(UTC)), updated=datetime.datetime(2025, 9, 9, 13, 31, 24, 3845, tzinfo=TzInfo(UTC)), progress=None, links=None, traceback=None)"
      ]
     },
     "execution_count": 17,
     "metadata": {
      "application/json": {
       "root": "JobInfo object:"
      }
     },
     "output_type": "execute_result"
    }
   ],
   "source": [
    "client.get_job(\"primes_between__20250909133119_1\")"
   ]
  },
  {
   "cell_type": "code",
   "execution_count": null,
   "id": "cf8031779ed7c039",
   "metadata": {},
   "outputs": [],
   "source": []
  }
 ],
 "metadata": {
  "kernelspec": {
   "display_name": "Python 3 (ipykernel)",
   "language": "python",
   "name": "python3"
  },
  "language_info": {
   "codemirror_mode": {
    "name": "ipython",
    "version": 3
   },
   "file_extension": ".py",
   "mimetype": "text/x-python",
   "name": "python",
   "nbconvert_exporter": "python",
   "pygments_lexer": "ipython3",
   "version": "3.13.5"
  }
 },
 "nbformat": 4,
 "nbformat_minor": 5
}
