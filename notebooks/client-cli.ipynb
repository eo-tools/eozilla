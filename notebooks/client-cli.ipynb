{
 "cells": [
  {
   "metadata": {},
   "cell_type": "markdown",
   "source": [
    "Before running this notebook, please run\n",
    "\n",
    "```bash\n",
    "s2gos-server run --service=s2gos_server.services.local.testing:service\n",
    "```"
   ],
   "id": "854b088082ac5825"
  },
  {
   "metadata": {},
   "cell_type": "code",
   "outputs": [],
   "execution_count": null,
   "source": [
    "from s2gos_client import Client\n",
    "from s2gos_common.models import ProcessRequest"
   ],
   "id": "a12e9dc4b7b28e3e"
  },
  {
   "metadata": {},
   "cell_type": "code",
   "outputs": [],
   "execution_count": null,
   "source": [
    "client = Client(debug=True)\n",
    "client"
   ],
   "id": "71b6cacac29b762c"
  },
  {
   "metadata": {},
   "cell_type": "code",
   "outputs": [],
   "execution_count": null,
   "source": "client.get_capabilities()",
   "id": "c15024ba527658d9"
  },
  {
   "metadata": {},
   "cell_type": "code",
   "outputs": [],
   "execution_count": null,
   "source": "client.get_conformance()",
   "id": "6020ba43e1d530f9"
  },
  {
   "metadata": {},
   "cell_type": "code",
   "outputs": [],
   "execution_count": null,
   "source": "client.get_processes()",
   "id": "cf0538ea903a27df"
  },
  {
   "metadata": {},
   "cell_type": "code",
   "outputs": [],
   "execution_count": null,
   "source": "client.get_process(process_id=\"sleep_a_while\")",
   "id": "fbff4fdfc8434ea7"
  },
  {
   "metadata": {},
   "cell_type": "code",
   "outputs": [],
   "execution_count": null,
   "source": "client.get_jobs()",
   "id": "6d497dda43c0581a"
  },
  {
   "metadata": {},
   "cell_type": "code",
   "outputs": [],
   "execution_count": null,
   "source": "client.execute_process(process_id=\"sleep_a_while\", request=ProcessRequest())",
   "id": "d46e44c72693792e"
  },
  {
   "metadata": {},
   "cell_type": "code",
   "outputs": [],
   "execution_count": null,
   "source": "client.execute_process(process_id=\"sleep_a_while\", request={})",
   "id": "9d964c5b64993792"
  },
  {
   "metadata": {},
   "cell_type": "code",
   "outputs": [],
   "execution_count": null,
   "source": "client.execute_process(process_id=\"primes_between\", request={})",
   "id": "99fbd0f2cbc76d6b"
  },
  {
   "metadata": {},
   "cell_type": "code",
   "outputs": [],
   "execution_count": null,
   "source": "client.get_jobs()",
   "id": "a2762cfe54dd94e6"
  },
  {
   "metadata": {},
   "cell_type": "code",
   "outputs": [],
   "execution_count": null,
   "source": "# client.get_job_results(\"job_1\")",
   "id": "a3156923ab911c2b"
  },
  {
   "metadata": {},
   "cell_type": "code",
   "outputs": [],
   "execution_count": null,
   "source": [
    "for job in client.get_jobs().jobs:\n",
    "    client.dismiss_job(job.jobID)"
   ],
   "id": "2b5797b4824ad079"
  },
  {
   "metadata": {},
   "cell_type": "code",
   "outputs": [],
   "execution_count": null,
   "source": "client.get_jobs()",
   "id": "20cfcab90779203b"
  },
  {
   "metadata": {},
   "cell_type": "code",
   "outputs": [],
   "execution_count": null,
   "source": "",
   "id": "9bde2ccbdd3eb6c9"
  },
  {
   "metadata": {},
   "cell_type": "code",
   "outputs": [],
   "execution_count": null,
   "source": "",
   "id": "c8bb03839846e16"
  }
 ],
 "metadata": {},
 "nbformat": 4,
 "nbformat_minor": 5
}
