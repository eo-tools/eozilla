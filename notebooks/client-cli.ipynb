{
 "cells": [
  {
   "cell_type": "markdown",
   "id": "854b088082ac5825",
   "metadata": {},
   "source": [
    "# CLI usage\n",
    "\n",
    "Similar to the Python API client, the CLI client provides the following capabilities:\n",
    "\n",
    "- `cuiman list-processes`: list existing processes,\n",
    "- `cuiman get-process`: get the details about a process,\n",
    "- `cuiman validate-request`: validate a given process execution request,\n",
    "- `cuiman execute-process`: execute a given process execution request,\n",
    "- `cuiman list-jobs`: list the jobs resulting from process executions, and finally\n",
    "- `cuiman get-job`: get a job's details,\n",
    "- `cuiman get-job-results`: get a successful job's results, and finally\n",
    "- `cuiman dismiss-job`: cancel a successful job.\n",
    "\n",
    "In the following, we visit all the features by example.\n",
    "\n",
    "The client expects a running server that conforms to the [OGC API - Process: Part 1, Version 1.0]().\n",
    "If you don't have one available, you can also run the project's server \n",
    "with a test configuration:\n",
    "\n",
    "```bash\n",
    "wraptile run -- wraptile.services.local.testing:service\n",
    "```"
   ]
  },
  {
   "cell_type": "code",
   "execution_count": 1,
   "id": "cd402523-f9a0-4322-ae78-6de4cbcd4972",
   "metadata": {},
   "outputs": [
    {
     "name": "stdout",
     "output_type": "stream",
     "text": [
      "                                                                               \n",
      " Usage: cuiman [OPTIONS] COMMAND [ARGS]...                                     \n",
      "                                                                               \n",
      " The command-line interface `cuiman` is the shell client for servers           \n",
      " compliant with OGC API - Processes.                                           \n",
      "                                                                               \n",
      " The tool can be used to get the available processes, get process details,     \n",
      " execute processes, and manage the jobs originating from the latter.  It       \n",
      " herewith resembles the functionality of the OGC API Processes - Part 1.       \n",
      " You can use shorter command name aliases, e.g., use command name `vr` for     \n",
      " `validate-request`, or `lp` for `list-processes`.                             \n",
      " The tool's exit codes are as follows:                                         \n",
      " - `0` - normal exit - `1` - user errors, argument errors - `2` - remote API   \n",
      " errors  - `3` - local network transport errors                                \n",
      " If the --traceback flag is set, the original Python exception traceback will  \n",
      " be shown and the exit code will always be `1`.  Otherwise, only the error     \n",
      " message is shown.                                                             \n",
      "                                                                               \n",
      "+- Options -------------------------------------------------------------------+\n",
      "| --version                     Show version and exit.                        |\n",
      "| --traceback,--tb              Show server exception traceback, if any.      |\n",
      "| --install-completion          Install completion for the current shell.     |\n",
      "| --show-completion             Show completion for the current shell, to     |\n",
      "|                               copy it or customize the installation.        |\n",
      "| --help                        Show this message and exit.                   |\n",
      "+-----------------------------------------------------------------------------+\n",
      "+- Commands ------------------------------------------------------------------+\n",
      "| configure          Configure the client tool.                               |\n",
      "| list-processes     List available processes.                                |\n",
      "| get-process        Get process details.                                     |\n",
      "| create-request     Create an execution request (template) for a given       |\n",
      "|                    process.                                                 |\n",
      "| validate-request   Validate a process execution request.                    |\n",
      "| execute-process    Execute a process in asynchronous mode.                  |\n",
      "| list-jobs          List all jobs.                                           |\n",
      "| get-job            Get job details.                                         |\n",
      "| dismiss-job        Cancel a running or delete a finished job.               |\n",
      "| get-job-results    Get job results.                                         |\n",
      "+-----------------------------------------------------------------------------+\n",
      "\n"
     ]
    }
   ],
   "source": [
    " !cuiman --help"
   ]
  },
  {
   "cell_type": "code",
   "execution_count": 2,
   "id": "1619e802-5e1e-4f75-be1f-7f66acfbcf92",
   "metadata": {},
   "outputs": [
    {
     "name": "stdout",
     "output_type": "stream",
     "text": [
      "Client configuration written to C:\\Users\\Clara\\.eozilla\\config\n"
     ]
    }
   ],
   "source": [
    " !cuiman configure -s http://127.0.0.1:8008 -u bibo -t 1234"
   ]
  },
  {
   "cell_type": "code",
   "execution_count": 3,
   "id": "a12e9dc4b7b28e3e",
   "metadata": {},
   "outputs": [
    {
     "name": "stdout",
     "output_type": "stream",
     "text": [
      "links:\n",
      "- href: http://127.0.0.1:8008/processes\n",
      "  hreflang: en\n",
      "  rel: self\n",
      "  title: get_processes\n",
      "  type: application/json\n",
      "processes:\n",
      "- description: Sleeps for `duration` seconds. Fails on purpose if `fail` is `True`.\n",
      "    Returns the effective amount of sleep in seconds.\n",
      "  id: sleep_a_while\n",
      "  title: Sleep Processor\n",
      "  version: 0.0.0\n",
      "- description: Returns the list of prime numbers between a `min_val` and `max_val`.\n",
      "  id: primes_between\n",
      "  title: Prime Processor\n",
      "  version: 0.0.0\n",
      "- description: Simulate a set scene images slices for testing. Creates an xarray dataset\n",
      "    with `periodicity` time slices and writes it as Zarr into a temporary location.\n",
      "    Requires installed `dask`, `xarray`, and `zarr` packages.\n",
      "  id: simulate_scene\n",
      "  title: Generate scene for testing\n",
      "  version: 0.0.0\n",
      "- id: return_base_model\n",
      "  title: BaseModel Test\n",
      "  version: 0.0.0\n",
      "\n"
     ]
    }
   ],
   "source": [
    "!cuiman list-processes"
   ]
  },
  {
   "cell_type": "code",
   "execution_count": 4,
   "id": "71b6cacac29b762c",
   "metadata": {},
   "outputs": [
    {
     "name": "stdout",
     "output_type": "stream",
     "text": [
      "description: Returns the list of prime numbers between a `min_val` and `max_val`.\n",
      "id: primes_between\n",
      "inputs:\n",
      "  max_val:\n",
      "    minOccurs: 0\n",
      "    schema:\n",
      "      default: 100\n",
      "      maximum: 100.0\n",
      "      type: integer\n",
      "    title: Max Val\n",
      "  min_val:\n",
      "    minOccurs: 0\n",
      "    schema:\n",
      "      default: 0\n",
      "      minimum: 0.0\n",
      "      type: integer\n",
      "    title: Min Val\n",
      "outputs:\n",
      "  return_value:\n",
      "    schema:\n",
      "      items:\n",
      "        type: integer\n",
      "      type: array\n",
      "    title: Return Value\n",
      "title: Prime Processor\n",
      "version: 0.0.0\n",
      "\n"
     ]
    }
   ],
   "source": [
    "!cuiman get-process primes_between"
   ]
  },
  {
   "cell_type": "code",
   "execution_count": 5,
   "id": "c15024ba527658d9",
   "metadata": {},
   "outputs": [
    {
     "name": "stdout",
     "output_type": "stream",
     "text": [
      "created: '2025-10-24T14:08:25.482651Z'\n",
      "finished: '2025-10-24T14:08:25.483976Z'\n",
      "jobID: job_0\n",
      "message: Done\n",
      "processID: primes_between\n",
      "started: '2025-10-24T14:08:25.483831Z'\n",
      "status: successful\n",
      "type: process\n",
      "updated: '2025-10-24T14:08:25.483966Z'\n",
      "\n"
     ]
    }
   ],
   "source": [
    "!cuiman execute-process primes_between -i min_val=10 -i max_val=80"
   ]
  },
  {
   "cell_type": "code",
   "execution_count": 6,
   "id": "6020ba43e1d530f9",
   "metadata": {},
   "outputs": [
    {
     "name": "stdout",
     "output_type": "stream",
     "text": [
      "jobs:\n",
      "- created: '2025-10-24T14:08:25.482651Z'\n",
      "  finished: '2025-10-24T14:08:25.483976Z'\n",
      "  jobID: job_0\n",
      "  message: Done\n",
      "  processID: primes_between\n",
      "  started: '2025-10-24T14:08:25.483831Z'\n",
      "  status: successful\n",
      "  type: process\n",
      "  updated: '2025-10-24T14:08:25.483966Z'\n",
      "links:\n",
      "- href: http://127.0.0.1:8008/jobs\n",
      "  hreflang: en\n",
      "  rel: self\n",
      "  title: get_jobs\n",
      "  type: application/json\n",
      "\n"
     ]
    }
   ],
   "source": [
    "!cuiman list-jobs"
   ]
  },
  {
   "cell_type": "code",
   "execution_count": 7,
   "id": "cf0538ea903a27df",
   "metadata": {},
   "outputs": [
    {
     "name": "stdout",
     "output_type": "stream",
     "text": [
      "created: '2025-10-24T14:08:25.482651Z'\n",
      "finished: '2025-10-24T14:08:25.483976Z'\n",
      "jobID: job_0\n",
      "message: Done\n",
      "processID: primes_between\n",
      "started: '2025-10-24T14:08:25.483831Z'\n",
      "status: successful\n",
      "type: process\n",
      "updated: '2025-10-24T14:08:25.483966Z'\n",
      "\n"
     ]
    }
   ],
   "source": [
    "!cuiman get-job job_0"
   ]
  },
  {
   "cell_type": "code",
   "execution_count": 8,
   "id": "fbff4fdfc8434ea7",
   "metadata": {},
   "outputs": [
    {
     "name": "stdout",
     "output_type": "stream",
     "text": [
      "return_value:\n",
      "- 11\n",
      "- 13\n",
      "- 17\n",
      "- 19\n",
      "- 23\n",
      "- 29\n",
      "- 31\n",
      "- 37\n",
      "- 41\n",
      "- 43\n",
      "- 47\n",
      "- 53\n",
      "- 59\n",
      "- 61\n",
      "- 67\n",
      "- 71\n",
      "- 73\n",
      "- 79\n",
      "\n"
     ]
    }
   ],
   "source": [
    "!cuiman get-job-results job_0"
   ]
  },
  {
   "cell_type": "code",
   "execution_count": null,
   "id": "8d88abb7-9925-4424-b4a1-016c40c24ef8",
   "metadata": {},
   "outputs": [],
   "source": []
  }
 ],
 "metadata": {
  "kernelspec": {
   "display_name": "Python 3 (ipykernel)",
   "language": "python",
   "name": "python3"
  },
  "language_info": {
   "codemirror_mode": {
    "name": "ipython",
    "version": 3
   },
   "file_extension": ".py",
   "mimetype": "text/x-python",
   "name": "python",
   "nbconvert_exporter": "python",
   "pygments_lexer": "ipython3",
   "version": "3.13.5"
  }
 },
 "nbformat": 4,
 "nbformat_minor": 5
}
