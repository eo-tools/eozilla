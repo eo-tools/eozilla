{
 "cells": [
  {
   "cell_type": "markdown",
   "id": "ed01d1e5-12e4-4fe8-9e1a-e57f0bb7a7da",
   "metadata": {},
   "source": [
    "Before running this notebook, please run\n",
    "\n",
    "```bash\n",
    "s2gos-server run --service=s2gos_server.services.local.testing:service\n",
    "```"
   ]
  },
  {
   "cell_type": "code",
   "execution_count": null,
   "id": "8be0d24e-00ad-4ce0-8217-27a6747b5767",
   "metadata": {},
   "outputs": [],
   "source": [
    "from s2gos_client import Client\n",
    "from s2gos_common.models import ProcessRequest"
   ]
  },
  {
   "cell_type": "code",
   "execution_count": null,
   "id": "6c90402f-b2a2-4e1e-873c-8ceca7780ed6",
   "metadata": {},
   "outputs": [],
   "source": [
    "client = Client(debug=True)\n",
    "client"
   ]
  },
  {
   "cell_type": "code",
   "execution_count": null,
   "id": "18cd3a18-73ee-411d-b6bb-8a63a9c2d95c",
   "metadata": {},
   "outputs": [],
   "source": [
    "client.get_capabilities()"
   ]
  },
  {
   "cell_type": "code",
   "execution_count": null,
   "id": "ed699a45-ff53-4278-8023-ee131f225088",
   "metadata": {},
   "outputs": [],
   "source": [
    "client.get_conformance()"
   ]
  },
  {
   "cell_type": "code",
   "execution_count": null,
   "id": "7154afcd-59a9-484f-8271-1b4773b8c636",
   "metadata": {},
   "outputs": [],
   "source": [
    "client.get_processes()"
   ]
  },
  {
   "cell_type": "code",
   "execution_count": null,
   "id": "a629ba21-e389-4131-ae84-2ce5c5fc7aa9",
   "metadata": {},
   "outputs": [],
   "source": [
    "client.get_process(process_id=\"sleep_a_while\")"
   ]
  },
  {
   "cell_type": "code",
   "execution_count": null,
   "id": "e4e20f28-0ed4-4e30-9fcd-23238a7d06a0",
   "metadata": {},
   "outputs": [],
   "source": [
    "client.get_jobs()"
   ]
  },
  {
   "cell_type": "code",
   "execution_count": null,
   "id": "cc034916-02db-4ec2-8682-71710d54edf6",
   "metadata": {},
   "outputs": [],
   "source": [
    "client.execute_process(process_id=\"sleep_a_while\", request=ProcessRequest())"
   ]
  },
  {
   "cell_type": "code",
   "execution_count": null,
   "id": "4cd38b1d-5989-4991-9b62-d1981d33a46e",
   "metadata": {},
   "outputs": [],
   "source": [
    "client.execute_process(process_id=\"sleep_a_while\", request={})"
   ]
  },
  {
   "cell_type": "code",
   "execution_count": null,
   "id": "9cf5e867-d91e-45dd-91b3-a54bc2d087a7",
   "metadata": {},
   "outputs": [],
   "source": [
    "client.get_jobs()"
   ]
  },
  {
   "cell_type": "code",
   "execution_count": null,
   "id": "736d52d8-d91a-435b-8dfb-b016a5139201",
   "metadata": {},
   "outputs": [],
   "source": [
    "for job in client.get_jobs().jobs:\n",
    "    client.dismiss_job(job.jobID)"
   ]
  },
  {
   "cell_type": "code",
   "execution_count": null,
   "id": "4636fdfc-3f61-40b4-889e-497c2dd50d91",
   "metadata": {},
   "outputs": [],
   "source": [
    "client.get_jobs()"
   ]
  },
  {
   "cell_type": "code",
   "execution_count": null,
   "id": "4bdb0e32-e041-401a-a25f-f9fe9bcbfdcf",
   "metadata": {},
   "outputs": [],
   "source": []
  }
 ],
 "metadata": {
  "kernelspec": {
   "display_name": "Python 3 (ipykernel)",
   "language": "python",
   "name": "python3"
  },
  "language_info": {
   "codemirror_mode": {
    "name": "ipython",
    "version": 3
   },
   "file_extension": ".py",
   "mimetype": "text/x-python",
   "name": "python",
   "nbconvert_exporter": "python",
   "pygments_lexer": "ipython3",
   "version": "3.13.5"
  }
 },
 "nbformat": 4,
 "nbformat_minor": 5
}
