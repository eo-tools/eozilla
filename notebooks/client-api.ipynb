{
 "cells": [
  {
   "cell_type": "markdown",
   "id": "ed01d1e5-12e4-4fe8-9e1a-e57f0bb7a7da",
   "metadata": {},
   "source": [
    "Before running this notebook, please run\n",
    "\n",
    "```bash\n",
    "s2gos-server run --service=s2gos_server.services.local.testing:service\n",
    "```"
   ]
  },
  {
   "cell_type": "code",
   "execution_count": 1,
   "id": "8be0d24e-00ad-4ce0-8217-27a6747b5767",
   "metadata": {},
   "outputs": [],
   "source": [
    "from s2gos_client import Client\n",
    "from s2gos_common.models import ProcessRequest"
   ]
  },
  {
   "cell_type": "code",
   "execution_count": 2,
   "id": "6c90402f-b2a2-4e1e-873c-8ceca7780ed6",
   "metadata": {},
   "outputs": [
    {
     "data": {
      "application/json": {
       "access_token": null,
       "server_url": "http://127.0.0.1:8008",
       "user_name": null
      },
      "text/plain": [
       "<s2gos_client.api.client.Client at 0x1bf19965550>"
      ]
     },
     "execution_count": 2,
     "metadata": {
      "application/json": {
       "root": "Configuration:"
      }
     },
     "output_type": "execute_result"
    }
   ],
   "source": [
    "client = Client(debug=True)\n",
    "client"
   ]
  },
  {
   "cell_type": "code",
   "execution_count": 3,
   "id": "18cd3a18-73ee-411d-b6bb-8a63a9c2d95c",
   "metadata": {},
   "outputs": [
    {
     "data": {
      "application/json": {
       "links": [
        {
         "href": "http://127.0.0.1:8008/",
         "hreflang": "en",
         "rel": "self",
         "title": "get_capabilities",
         "type": "application/json"
        },
        {
         "href": "http://127.0.0.1:8008/openapi.json",
         "hreflang": "en",
         "rel": "service",
         "title": "openapi",
         "type": "application/json"
        },
        {
         "href": "http://127.0.0.1:8008/docs",
         "hreflang": "en",
         "rel": "service",
         "title": "swagger_ui_html",
         "type": "text/html"
        },
        {
         "href": "http://127.0.0.1:8008/docs/oauth2-redirect",
         "hreflang": "en",
         "rel": "service",
         "title": "swagger_ui_redirect",
         "type": "text/html"
        },
        {
         "href": "http://127.0.0.1:8008/redoc",
         "hreflang": "en",
         "rel": "service",
         "title": "redoc_html",
         "type": "text/html"
        },
        {
         "href": "http://127.0.0.1:8008/",
         "hreflang": "en",
         "rel": "service",
         "title": "get_capabilities",
         "type": "application/json"
        },
        {
         "href": "http://127.0.0.1:8008/conformance",
         "hreflang": "en",
         "rel": "service",
         "title": "get_conformance",
         "type": "application/json"
        },
        {
         "href": "http://127.0.0.1:8008/processes",
         "hreflang": "en",
         "rel": "service",
         "title": "get_processes",
         "type": "application/json"
        },
        {
         "href": "http://127.0.0.1:8008/processes/{processID}",
         "hreflang": "en",
         "rel": "service",
         "title": "get_process",
         "type": "application/json"
        },
        {
         "href": "http://127.0.0.1:8008/processes/{processID}/execution",
         "hreflang": "en",
         "rel": "service",
         "title": "execute_process",
         "type": "application/json"
        },
        {
         "href": "http://127.0.0.1:8008/jobs",
         "hreflang": "en",
         "rel": "service",
         "title": "get_jobs",
         "type": "application/json"
        },
        {
         "href": "http://127.0.0.1:8008/jobs/{jobId}",
         "hreflang": "en",
         "rel": "service",
         "title": "get_job",
         "type": "application/json"
        },
        {
         "href": "http://127.0.0.1:8008/jobs/{jobId}",
         "hreflang": "en",
         "rel": "service",
         "title": "dismiss_job",
         "type": "application/json"
        },
        {
         "href": "http://127.0.0.1:8008/jobs/{jobId}/results",
         "hreflang": "en",
         "rel": "service",
         "title": "get_job_results",
         "type": "application/json"
        }
       ],
       "title": "Airflow Dev Service"
      },
      "text/plain": [
       "Capabilities(title='Airflow Dev Service', description=None, links=[Link(href='http://127.0.0.1:8008/', rel='self', type='application/json', hreflang='en', title='get_capabilities'), Link(href='http://127.0.0.1:8008/openapi.json', rel='service', type='application/json', hreflang='en', title='openapi'), Link(href='http://127.0.0.1:8008/docs', rel='service', type='text/html', hreflang='en', title='swagger_ui_html'), Link(href='http://127.0.0.1:8008/docs/oauth2-redirect', rel='service', type='text/html', hreflang='en', title='swagger_ui_redirect'), Link(href='http://127.0.0.1:8008/redoc', rel='service', type='text/html', hreflang='en', title='redoc_html'), Link(href='http://127.0.0.1:8008/', rel='service', type='application/json', hreflang='en', title='get_capabilities'), Link(href='http://127.0.0.1:8008/conformance', rel='service', type='application/json', hreflang='en', title='get_conformance'), Link(href='http://127.0.0.1:8008/processes', rel='service', type='application/json', hreflang='en', title='get_processes'), Link(href='http://127.0.0.1:8008/processes/{processID}', rel='service', type='application/json', hreflang='en', title='get_process'), Link(href='http://127.0.0.1:8008/processes/{processID}/execution', rel='service', type='application/json', hreflang='en', title='execute_process'), Link(href='http://127.0.0.1:8008/jobs', rel='service', type='application/json', hreflang='en', title='get_jobs'), Link(href='http://127.0.0.1:8008/jobs/{jobId}', rel='service', type='application/json', hreflang='en', title='get_job'), Link(href='http://127.0.0.1:8008/jobs/{jobId}', rel='service', type='application/json', hreflang='en', title='dismiss_job'), Link(href='http://127.0.0.1:8008/jobs/{jobId}/results', rel='service', type='application/json', hreflang='en', title='get_job_results')])"
      ]
     },
     "execution_count": 3,
     "metadata": {
      "application/json": {
       "root": "Capabilities object:"
      }
     },
     "output_type": "execute_result"
    }
   ],
   "source": [
    "client.get_capabilities()"
   ]
  },
  {
   "cell_type": "code",
   "execution_count": 4,
   "id": "ed699a45-ff53-4278-8023-ee131f225088",
   "metadata": {},
   "outputs": [
    {
     "data": {
      "application/json": {
       "conformsTo": [
        "http://www.opengis.net/spec/ogcapi-processes-1/1.0/conf/core",
        "http://www.opengis.net/spec/ogcapi-processes-1/1.0/conf/ogc-process-description",
        "http://www.opengis.net/spec/ogcapi-processes-1/1.0/conf/json",
        "http://www.opengis.net/spec/ogcapi-processes-1/1.0/conf/oas30",
        "http://www.opengis.net/spec/ogcapi-processes-1/1.0/conf/job-list",
        "http://www.opengis.net/spec/ogcapi-processes-1/1.0/conf/dismiss"
       ]
      },
      "text/plain": [
       "ConformanceDeclaration(conformsTo=['http://www.opengis.net/spec/ogcapi-processes-1/1.0/conf/core', 'http://www.opengis.net/spec/ogcapi-processes-1/1.0/conf/ogc-process-description', 'http://www.opengis.net/spec/ogcapi-processes-1/1.0/conf/json', 'http://www.opengis.net/spec/ogcapi-processes-1/1.0/conf/oas30', 'http://www.opengis.net/spec/ogcapi-processes-1/1.0/conf/job-list', 'http://www.opengis.net/spec/ogcapi-processes-1/1.0/conf/dismiss'])"
      ]
     },
     "execution_count": 4,
     "metadata": {
      "application/json": {
       "root": "ConformanceDeclaration object:"
      }
     },
     "output_type": "execute_result"
    }
   ],
   "source": [
    "client.get_conformance()"
   ]
  },
  {
   "cell_type": "code",
   "execution_count": 5,
   "id": "7154afcd-59a9-484f-8271-1b4773b8c636",
   "metadata": {},
   "outputs": [
    {
     "data": {
      "application/json": {
       "links": [
        {
         "href": "http://127.0.0.1:8008/processes",
         "hreflang": "en",
         "rel": "self",
         "title": "get_processes",
         "type": "application/json"
        }
       ],
       "processes": [
        {
         "id": "S2GOS-Example-DAG",
         "title": "S2GOS-Example-DAG",
         "version": "0.0.0"
        },
        {
         "id": "S2GOS-Tutorial",
         "title": "S2GOS-Tutorial",
         "version": "0.0.0"
        }
       ]
      },
      "text/plain": [
       "ProcessList(processes=[ProcessSummary(title='S2GOS-Example-DAG', description=None, keywords=None, metadata=None, additionalParameters=None, id='S2GOS-Example-DAG', version='0.0.0', jobControlOptions=None, outputTransmission=None, links=None), ProcessSummary(title='S2GOS-Tutorial', description=None, keywords=None, metadata=None, additionalParameters=None, id='S2GOS-Tutorial', version='0.0.0', jobControlOptions=None, outputTransmission=None, links=None)], links=[Link(href='http://127.0.0.1:8008/processes', rel='self', type='application/json', hreflang='en', title='get_processes')])"
      ]
     },
     "execution_count": 5,
     "metadata": {
      "application/json": {
       "root": "ProcessList object:"
      }
     },
     "output_type": "execute_result"
    }
   ],
   "source": [
    "client.get_processes()"
   ]
  },
  {
   "cell_type": "code",
   "execution_count": 7,
   "id": "a629ba21-e389-4131-ae84-2ce5c5fc7aa9",
   "metadata": {},
   "outputs": [
    {
     "data": {
      "application/json": {
       "id": "S2GOS-Example-DAG",
       "inputs": {},
       "outputs": {},
       "title": "S2GOS-Example-DAG",
       "version": "0.0.0"
      },
      "text/plain": [
       "ProcessDescription(title='S2GOS-Example-DAG', description=None, keywords=None, metadata=None, additionalParameters=None, id='S2GOS-Example-DAG', version='0.0.0', jobControlOptions=None, outputTransmission=None, links=None, inputs={}, outputs={})"
      ]
     },
     "execution_count": 7,
     "metadata": {
      "application/json": {
       "root": "ProcessDescription object:"
      }
     },
     "output_type": "execute_result"
    }
   ],
   "source": [
    "client.get_process(process_id=\"S2GOS-Example-DAG\")"
   ]
  },
  {
   "cell_type": "code",
   "execution_count": 8,
   "id": "e4e20f28-0ed4-4e30-9fcd-23238a7d06a0",
   "metadata": {},
   "outputs": [
    {
     "data": {
      "application/json": {
       "jobs": [],
       "links": [
        {
         "href": "http://127.0.0.1:8008/jobs",
         "hreflang": "en",
         "rel": "self",
         "title": "get_jobs",
         "type": "application/json"
        }
       ]
      },
      "text/plain": [
       "JobList(jobs=[], links=[Link(href='http://127.0.0.1:8008/jobs', rel='self', type='application/json', hreflang='en', title='get_jobs')])"
      ]
     },
     "execution_count": 8,
     "metadata": {
      "application/json": {
       "root": "JobList object:"
      }
     },
     "output_type": "execute_result"
    }
   ],
   "source": [
    "client.get_jobs()"
   ]
  },
  {
   "cell_type": "code",
   "execution_count": 9,
   "id": "cc034916-02db-4ec2-8682-71710d54edf6",
   "metadata": {},
   "outputs": [
    {
     "ename": "ClientError",
     "evalue": "Client error '422 Unprocessable Content' for url 'http://127.0.0.1:8008/processes/S2GOS-Example-DAG/execution'\nFor more information check: https://developer.mozilla.org/en-US/docs/Web/HTTP/Status/422",
     "output_type": "error",
     "traceback": [
      "\u001b[31m---------------------------------------------------------------------------\u001b[39m",
      "\u001b[31mHTTPStatusError\u001b[39m                           Traceback (most recent call last)",
      "\u001b[36mFile \u001b[39m\u001b[32mD:\\Projects\\s2gos-controller\\s2gos-client\\src\\s2gos_client\\api\\transport\\httpx.py:53\u001b[39m, in \u001b[36mHttpxTransport._process_response\u001b[39m\u001b[34m(self, args, response)\u001b[39m\n\u001b[32m     52\u001b[39m \u001b[38;5;28;01mtry\u001b[39;00m:\n\u001b[32m---> \u001b[39m\u001b[32m53\u001b[39m     \u001b[43mresponse\u001b[49m\u001b[43m.\u001b[49m\u001b[43mraise_for_status\u001b[49m\u001b[43m(\u001b[49m\u001b[43m)\u001b[49m\n\u001b[32m     54\u001b[39m     \u001b[38;5;28;01mreturn\u001b[39;00m args.get_response_for_json(response.status_code, response_json)\n",
      "\u001b[36mFile \u001b[39m\u001b[32mD:\\Projects\\s2gos-controller\\.pixi\\envs\\default\\Lib\\site-packages\\httpx\\_models.py:829\u001b[39m, in \u001b[36mResponse.raise_for_status\u001b[39m\u001b[34m(self)\u001b[39m\n\u001b[32m    828\u001b[39m message = message.format(\u001b[38;5;28mself\u001b[39m, error_type=error_type)\n\u001b[32m--> \u001b[39m\u001b[32m829\u001b[39m \u001b[38;5;28;01mraise\u001b[39;00m HTTPStatusError(message, request=request, response=\u001b[38;5;28mself\u001b[39m)\n",
      "\u001b[31mHTTPStatusError\u001b[39m: Client error '422 Unprocessable Content' for url 'http://127.0.0.1:8008/processes/S2GOS-Example-DAG/execution'\nFor more information check: https://developer.mozilla.org/en-US/docs/Web/HTTP/Status/422",
      "\nDuring handling of the above exception, another exception occurred:\n",
      "\u001b[31mClientError\u001b[39m                               Traceback (most recent call last)",
      "\u001b[36mCell\u001b[39m\u001b[36m \u001b[39m\u001b[32mIn[9]\u001b[39m\u001b[32m, line 1\u001b[39m\n\u001b[32m----> \u001b[39m\u001b[32m1\u001b[39m \u001b[43mclient\u001b[49m\u001b[43m.\u001b[49m\u001b[43mexecute_process\u001b[49m\u001b[43m(\u001b[49m\u001b[43mprocess_id\u001b[49m\u001b[43m=\u001b[49m\u001b[33;43m\"\u001b[39;49m\u001b[33;43mS2GOS-Example-DAG\u001b[39;49m\u001b[33;43m\"\u001b[39;49m\u001b[43m,\u001b[49m\u001b[43m \u001b[49m\u001b[43mrequest\u001b[49m\u001b[43m=\u001b[49m\u001b[43mProcessRequest\u001b[49m\u001b[43m(\u001b[49m\u001b[43m)\u001b[49m\u001b[43m)\u001b[49m\n",
      "\u001b[36mFile \u001b[39m\u001b[32mD:\\Projects\\s2gos-controller\\s2gos-client\\src\\s2gos_client\\api\\client.py:234\u001b[39m, in \u001b[36mClient.execute_process\u001b[39m\u001b[34m(self, process_id, request, **kwargs)\u001b[39m\n\u001b[32m    210\u001b[39m \u001b[38;5;28;01mdef\u001b[39;00m\u001b[38;5;250m \u001b[39m\u001b[34mexecute_process\u001b[39m(\n\u001b[32m    211\u001b[39m     \u001b[38;5;28mself\u001b[39m, process_id: \u001b[38;5;28mstr\u001b[39m, request: ProcessRequest, **kwargs: Any\n\u001b[32m    212\u001b[39m ) -> JobInfo:\n\u001b[32m    213\u001b[39m \u001b[38;5;250m    \u001b[39m\u001b[33;03m\"\"\"\u001b[39;00m\n\u001b[32m    214\u001b[39m \u001b[33;03m    Create a new job.\u001b[39;00m\n\u001b[32m    215\u001b[39m \n\u001b[32m   (...)\u001b[39m\u001b[32m    232\u001b[39m \u001b[33;03m        - `500`: A server error occurred.\u001b[39;00m\n\u001b[32m    233\u001b[39m \u001b[33;03m    \"\"\"\u001b[39;00m\n\u001b[32m--> \u001b[39m\u001b[32m234\u001b[39m     \u001b[38;5;28;01mreturn\u001b[39;00m \u001b[38;5;28;43mself\u001b[39;49m\u001b[43m.\u001b[49m\u001b[43m_transport\u001b[49m\u001b[43m.\u001b[49m\u001b[43mcall\u001b[49m\u001b[43m(\u001b[49m\n\u001b[32m    235\u001b[39m \u001b[43m        \u001b[49m\u001b[43mTransportArgs\u001b[49m\u001b[43m(\u001b[49m\n\u001b[32m    236\u001b[39m \u001b[43m            \u001b[49m\u001b[43mpath\u001b[49m\u001b[43m=\u001b[49m\u001b[33;43m\"\u001b[39;49m\u001b[33;43m/processes/\u001b[39;49m\u001b[38;5;132;43;01m{processID}\u001b[39;49;00m\u001b[33;43m/execution\u001b[39;49m\u001b[33;43m\"\u001b[39;49m\u001b[43m,\u001b[49m\n\u001b[32m    237\u001b[39m \u001b[43m            \u001b[49m\u001b[43mmethod\u001b[49m\u001b[43m=\u001b[49m\u001b[33;43m\"\u001b[39;49m\u001b[33;43mpost\u001b[39;49m\u001b[33;43m\"\u001b[39;49m\u001b[43m,\u001b[49m\n\u001b[32m    238\u001b[39m \u001b[43m            \u001b[49m\u001b[43mpath_params\u001b[49m\u001b[43m=\u001b[49m\u001b[43m{\u001b[49m\u001b[33;43m\"\u001b[39;49m\u001b[33;43mprocessID\u001b[39;49m\u001b[33;43m\"\u001b[39;49m\u001b[43m:\u001b[49m\u001b[43m \u001b[49m\u001b[43mprocess_id\u001b[49m\u001b[43m}\u001b[49m\u001b[43m,\u001b[49m\n\u001b[32m    239\u001b[39m \u001b[43m            \u001b[49m\u001b[43mrequest\u001b[49m\u001b[43m=\u001b[49m\u001b[43mrequest\u001b[49m\u001b[43m,\u001b[49m\n\u001b[32m    240\u001b[39m \u001b[43m            \u001b[49m\u001b[43mreturn_types\u001b[49m\u001b[43m=\u001b[49m\u001b[43m{\u001b[49m\u001b[33;43m\"\u001b[39;49m\u001b[33;43m201\u001b[39;49m\u001b[33;43m\"\u001b[39;49m\u001b[43m:\u001b[49m\u001b[43m \u001b[49m\u001b[43mJobInfo\u001b[49m\u001b[43m}\u001b[49m\u001b[43m,\u001b[49m\n\u001b[32m    241\u001b[39m \u001b[43m            \u001b[49m\u001b[43merror_types\u001b[49m\u001b[43m=\u001b[49m\u001b[43m{\u001b[49m\u001b[33;43m\"\u001b[39;49m\u001b[33;43m404\u001b[39;49m\u001b[33;43m\"\u001b[39;49m\u001b[43m:\u001b[49m\u001b[43m \u001b[49m\u001b[43mApiError\u001b[49m\u001b[43m,\u001b[49m\u001b[43m \u001b[49m\u001b[33;43m\"\u001b[39;49m\u001b[33;43m500\u001b[39;49m\u001b[33;43m\"\u001b[39;49m\u001b[43m:\u001b[49m\u001b[43m \u001b[49m\u001b[43mApiError\u001b[49m\u001b[43m}\u001b[49m\u001b[43m,\u001b[49m\n\u001b[32m    242\u001b[39m \u001b[43m            \u001b[49m\u001b[43mextra_kwargs\u001b[49m\u001b[43m=\u001b[49m\u001b[43mkwargs\u001b[49m\u001b[43m,\u001b[49m\n\u001b[32m    243\u001b[39m \u001b[43m        \u001b[49m\u001b[43m)\u001b[49m\n\u001b[32m    244\u001b[39m \u001b[43m    \u001b[49m\u001b[43m)\u001b[49m\n",
      "\u001b[36mFile \u001b[39m\u001b[32mD:\\Projects\\s2gos-controller\\s2gos-client\\src\\s2gos_client\\api\\transport\\httpx.py:27\u001b[39m, in \u001b[36mHttpxTransport.call\u001b[39m\u001b[34m(self, args)\u001b[39m\n\u001b[32m     25\u001b[39m args_, kwargs_ = \u001b[38;5;28mself\u001b[39m._get_request_args(args)\n\u001b[32m     26\u001b[39m response = \u001b[38;5;28mself\u001b[39m.sync_httpx.request(*args_, **kwargs_)\n\u001b[32m---> \u001b[39m\u001b[32m27\u001b[39m \u001b[38;5;28;01mreturn\u001b[39;00m \u001b[38;5;28;43mself\u001b[39;49m\u001b[43m.\u001b[49m\u001b[43m_process_response\u001b[49m\u001b[43m(\u001b[49m\u001b[43margs\u001b[49m\u001b[43m,\u001b[49m\u001b[43m \u001b[49m\u001b[43mresponse\u001b[49m\u001b[43m)\u001b[49m\n",
      "\u001b[36mFile \u001b[39m\u001b[32mD:\\Projects\\s2gos-controller\\s2gos-client\\src\\s2gos_client\\api\\transport\\httpx.py:56\u001b[39m, in \u001b[36mHttpxTransport._process_response\u001b[39m\u001b[34m(self, args, response)\u001b[39m\n\u001b[32m     54\u001b[39m     \u001b[38;5;28;01mreturn\u001b[39;00m args.get_response_for_json(response.status_code, response_json)\n\u001b[32m     55\u001b[39m \u001b[38;5;28;01mexcept\u001b[39;00m httpx.HTTPError \u001b[38;5;28;01mas\u001b[39;00m e:\n\u001b[32m---> \u001b[39m\u001b[32m56\u001b[39m     \u001b[38;5;28;01mraise\u001b[39;00m args.get_error_for_json(response.status_code, \u001b[33mf\u001b[39m\u001b[33m\"\u001b[39m\u001b[38;5;132;01m{\u001b[39;00me\u001b[38;5;132;01m}\u001b[39;00m\u001b[33m\"\u001b[39m, response_json)\n",
      "\u001b[31mClientError\u001b[39m: Client error '422 Unprocessable Content' for url 'http://127.0.0.1:8008/processes/S2GOS-Example-DAG/execution'\nFor more information check: https://developer.mozilla.org/en-US/docs/Web/HTTP/Status/422"
     ]
    }
   ],
   "source": [
    "client.execute_process(process_id=\"S2GOS-Example-DAG\", request=ProcessRequest())"
   ]
  },
  {
   "cell_type": "code",
   "execution_count": null,
   "id": "4cd38b1d-5989-4991-9b62-d1981d33a46e",
   "metadata": {},
   "outputs": [],
   "source": [
    "client.execute_process(process_id=\"sleep_a_while\", request={})"
   ]
  },
  {
   "cell_type": "code",
   "execution_count": null,
   "id": "9cf5e867-d91e-45dd-91b3-a54bc2d087a7",
   "metadata": {},
   "outputs": [],
   "source": [
    "client.get_jobs()"
   ]
  },
  {
   "cell_type": "code",
   "execution_count": null,
   "id": "b7f99444-d724-4451-aeae-0c23e8245dd1",
   "metadata": {},
   "outputs": [],
   "source": [
    "# client.get_job_results(\"job_1\")"
   ]
  },
  {
   "cell_type": "code",
   "execution_count": null,
   "id": "736d52d8-d91a-435b-8dfb-b016a5139201",
   "metadata": {},
   "outputs": [],
   "source": [
    "for job in client.get_jobs().jobs:\n",
    "    client.dismiss_job(job.jobID)"
   ]
  },
  {
   "cell_type": "code",
   "execution_count": null,
   "id": "4636fdfc-3f61-40b4-889e-497c2dd50d91",
   "metadata": {},
   "outputs": [],
   "source": [
    "client.get_jobs()"
   ]
  },
  {
   "cell_type": "code",
   "execution_count": null,
   "id": "f6f7b188-2124-480c-bb54-f7dabf22076a",
   "metadata": {},
   "outputs": [],
   "source": []
  },
  {
   "cell_type": "code",
   "execution_count": null,
   "id": "cd2d8bd5-1f52-4edf-868b-7730d8077602",
   "metadata": {},
   "outputs": [],
   "source": []
  }
 ],
 "metadata": {
  "kernelspec": {
   "display_name": "Python 3 (ipykernel)",
   "language": "python",
   "name": "python3"
  },
  "language_info": {
   "codemirror_mode": {
    "name": "ipython",
    "version": 3
   },
   "file_extension": ".py",
   "mimetype": "text/x-python",
   "name": "python",
   "nbconvert_exporter": "python",
   "pygments_lexer": "ipython3",
   "version": "3.13.5"
  }
 },
 "nbformat": 4,
 "nbformat_minor": 5
}
