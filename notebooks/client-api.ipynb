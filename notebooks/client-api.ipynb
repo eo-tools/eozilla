{
 "cells": [
  {
   "cell_type": "markdown",
   "id": "ed01d1e5-12e4-4fe8-9e1a-e57f0bb7a7da",
   "metadata": {},
   "source": [
    "Before running this notebook, please run\n",
    "\n",
    "```bash\n",
    "s2gos-server run --service=s2gos_server.services.local.testing:service\n",
    "```"
   ]
  },
  {
   "cell_type": "code",
   "execution_count": 1,
   "id": "8be0d24e-00ad-4ce0-8217-27a6747b5767",
   "metadata": {},
   "outputs": [],
   "source": [
    "from s2gos_client import Client\n",
    "from s2gos_common.models import ProcessRequest"
   ]
  },
  {
   "cell_type": "code",
   "execution_count": 2,
   "id": "6c90402f-b2a2-4e1e-873c-8ceca7780ed6",
   "metadata": {},
   "outputs": [
    {
     "data": {
      "application/json": {
       "access_token": "30948305",
       "server_url": "http://127.0.0.1:8008",
       "user_name": "forman"
      },
      "text/plain": [
       "<s2gos_client.api.client.Client at 0x1fa96ac5550>"
      ]
     },
     "execution_count": 2,
     "metadata": {
      "application/json": {
       "root": "Configuration:"
      }
     },
     "output_type": "execute_result"
    }
   ],
   "source": [
    "client = Client(debug=True)\n",
    "client"
   ]
  },
  {
   "cell_type": "code",
   "execution_count": 3,
   "id": "18cd3a18-73ee-411d-b6bb-8a63a9c2d95c",
   "metadata": {},
   "outputs": [
    {
     "data": {
      "application/json": {
       "description": "Local test server implementing the OGC API - Processes 1.0 Standard",
       "links": [
        {
         "href": "http://127.0.0.1:8008/",
         "hreflang": "en",
         "rel": "self",
         "title": "get_capabilities",
         "type": "application/json"
        },
        {
         "href": "http://127.0.0.1:8008/openapi.json",
         "hreflang": "en",
         "rel": "service",
         "title": "openapi",
         "type": "application/json"
        },
        {
         "href": "http://127.0.0.1:8008/docs",
         "hreflang": "en",
         "rel": "service",
         "title": "swagger_ui_html",
         "type": "text/html"
        },
        {
         "href": "http://127.0.0.1:8008/docs/oauth2-redirect",
         "hreflang": "en",
         "rel": "service",
         "title": "swagger_ui_redirect",
         "type": "text/html"
        },
        {
         "href": "http://127.0.0.1:8008/redoc",
         "hreflang": "en",
         "rel": "service",
         "title": "redoc_html",
         "type": "text/html"
        },
        {
         "href": "http://127.0.0.1:8008/",
         "hreflang": "en",
         "rel": "service",
         "title": "get_capabilities",
         "type": "application/json"
        },
        {
         "href": "http://127.0.0.1:8008/conformance",
         "hreflang": "en",
         "rel": "service",
         "title": "get_conformance",
         "type": "application/json"
        },
        {
         "href": "http://127.0.0.1:8008/processes",
         "hreflang": "en",
         "rel": "service",
         "title": "get_processes",
         "type": "application/json"
        },
        {
         "href": "http://127.0.0.1:8008/processes/{processID}",
         "hreflang": "en",
         "rel": "service",
         "title": "get_process",
         "type": "application/json"
        },
        {
         "href": "http://127.0.0.1:8008/processes/{processID}/execution",
         "hreflang": "en",
         "rel": "service",
         "title": "execute_process",
         "type": "application/json"
        },
        {
         "href": "http://127.0.0.1:8008/jobs",
         "hreflang": "en",
         "rel": "service",
         "title": "get_jobs",
         "type": "application/json"
        },
        {
         "href": "http://127.0.0.1:8008/jobs/{jobId}",
         "hreflang": "en",
         "rel": "service",
         "title": "get_job",
         "type": "application/json"
        },
        {
         "href": "http://127.0.0.1:8008/jobs/{jobId}",
         "hreflang": "en",
         "rel": "service",
         "title": "dismiss_job",
         "type": "application/json"
        },
        {
         "href": "http://127.0.0.1:8008/jobs/{jobId}/results",
         "hreflang": "en",
         "rel": "service",
         "title": "get_job_results",
         "type": "application/json"
        }
       ],
       "title": "S2GOS API Server (local dummy for testing)"
      },
      "text/plain": [
       "Capabilities(title='S2GOS API Server (local dummy for testing)', description='Local test server implementing the OGC API - Processes 1.0 Standard', links=[Link(href='http://127.0.0.1:8008/', rel='self', type='application/json', hreflang='en', title='get_capabilities'), Link(href='http://127.0.0.1:8008/openapi.json', rel='service', type='application/json', hreflang='en', title='openapi'), Link(href='http://127.0.0.1:8008/docs', rel='service', type='text/html', hreflang='en', title='swagger_ui_html'), Link(href='http://127.0.0.1:8008/docs/oauth2-redirect', rel='service', type='text/html', hreflang='en', title='swagger_ui_redirect'), Link(href='http://127.0.0.1:8008/redoc', rel='service', type='text/html', hreflang='en', title='redoc_html'), Link(href='http://127.0.0.1:8008/', rel='service', type='application/json', hreflang='en', title='get_capabilities'), Link(href='http://127.0.0.1:8008/conformance', rel='service', type='application/json', hreflang='en', title='get_conformance'), Link(href='http://127.0.0.1:8008/processes', rel='service', type='application/json', hreflang='en', title='get_processes'), Link(href='http://127.0.0.1:8008/processes/{processID}', rel='service', type='application/json', hreflang='en', title='get_process'), Link(href='http://127.0.0.1:8008/processes/{processID}/execution', rel='service', type='application/json', hreflang='en', title='execute_process'), Link(href='http://127.0.0.1:8008/jobs', rel='service', type='application/json', hreflang='en', title='get_jobs'), Link(href='http://127.0.0.1:8008/jobs/{jobId}', rel='service', type='application/json', hreflang='en', title='get_job'), Link(href='http://127.0.0.1:8008/jobs/{jobId}', rel='service', type='application/json', hreflang='en', title='dismiss_job'), Link(href='http://127.0.0.1:8008/jobs/{jobId}/results', rel='service', type='application/json', hreflang='en', title='get_job_results')])"
      ]
     },
     "execution_count": 3,
     "metadata": {
      "application/json": {
       "root": "Capabilities object:"
      }
     },
     "output_type": "execute_result"
    }
   ],
   "source": [
    "client.get_capabilities()"
   ]
  },
  {
   "cell_type": "code",
   "execution_count": 4,
   "id": "ed699a45-ff53-4278-8023-ee131f225088",
   "metadata": {},
   "outputs": [
    {
     "data": {
      "application/json": {
       "conformsTo": [
        "http://www.opengis.net/spec/ogcapi-processes-1/1.0/conf/core",
        "http://www.opengis.net/spec/ogcapi-processes-1/1.0/conf/ogc-process-description",
        "http://www.opengis.net/spec/ogcapi-processes-1/1.0/conf/json",
        "http://www.opengis.net/spec/ogcapi-processes-1/1.0/conf/oas30",
        "http://www.opengis.net/spec/ogcapi-processes-1/1.0/conf/job-list",
        "http://www.opengis.net/spec/ogcapi-processes-1/1.0/conf/dismiss"
       ]
      },
      "text/plain": [
       "ConformanceDeclaration(conformsTo=['http://www.opengis.net/spec/ogcapi-processes-1/1.0/conf/core', 'http://www.opengis.net/spec/ogcapi-processes-1/1.0/conf/ogc-process-description', 'http://www.opengis.net/spec/ogcapi-processes-1/1.0/conf/json', 'http://www.opengis.net/spec/ogcapi-processes-1/1.0/conf/oas30', 'http://www.opengis.net/spec/ogcapi-processes-1/1.0/conf/job-list', 'http://www.opengis.net/spec/ogcapi-processes-1/1.0/conf/dismiss'])"
      ]
     },
     "execution_count": 4,
     "metadata": {
      "application/json": {
       "root": "ConformanceDeclaration object:"
      }
     },
     "output_type": "execute_result"
    }
   ],
   "source": [
    "client.get_conformance()"
   ]
  },
  {
   "cell_type": "code",
   "execution_count": 5,
   "id": "7154afcd-59a9-484f-8271-1b4773b8c636",
   "metadata": {},
   "outputs": [
    {
     "data": {
      "application/json": {
       "links": [
        {
         "href": "http://127.0.0.1:8008/processes",
         "hreflang": "en",
         "rel": "self",
         "title": "get_processes",
         "type": "application/json"
        }
       ],
       "processes": [
        {
         "description": "Sleeps for `duration` seconds. Fails on purpose if `fail` is `True`. Returns the effective amount of sleep in seconds.",
         "id": "sleep_a_while",
         "title": "Sleep Processor",
         "version": "0.0.0"
        },
        {
         "description": "Returns the list of prime numbers between a `min_val` and `max_val`. ",
         "id": "primes_between",
         "title": "Prime Processor",
         "version": "0.0.0"
        },
        {
         "description": "Simulate a set scene images slices for testing. Creates an xarray dataset with `periodicity` time slices and writes it as Zarr into a temporary location. Requires installed `dask`, `xarray`, and `zarr` packages.",
         "id": "simulate_scene",
         "title": "Generate scene for testing",
         "version": "0.0.0"
        }
       ]
      },
      "text/plain": [
       "ProcessList(processes=[ProcessSummary(title='Sleep Processor', description='Sleeps for `duration` seconds. Fails on purpose if `fail` is `True`. Returns the effective amount of sleep in seconds.', keywords=None, metadata=None, additionalParameters=None, id='sleep_a_while', version='0.0.0', jobControlOptions=None, outputTransmission=None, links=None), ProcessSummary(title='Prime Processor', description='Returns the list of prime numbers between a `min_val` and `max_val`. ', keywords=None, metadata=None, additionalParameters=None, id='primes_between', version='0.0.0', jobControlOptions=None, outputTransmission=None, links=None), ProcessSummary(title='Generate scene for testing', description='Simulate a set scene images slices for testing. Creates an xarray dataset with `periodicity` time slices and writes it as Zarr into a temporary location. Requires installed `dask`, `xarray`, and `zarr` packages.', keywords=None, metadata=None, additionalParameters=None, id='simulate_scene', version='0.0.0', jobControlOptions=None, outputTransmission=None, links=None)], links=[Link(href='http://127.0.0.1:8008/processes', rel='self', type='application/json', hreflang='en', title='get_processes')])"
      ]
     },
     "execution_count": 5,
     "metadata": {
      "application/json": {
       "root": "ProcessList object:"
      }
     },
     "output_type": "execute_result"
    }
   ],
   "source": [
    "client.get_processes()"
   ]
  },
  {
   "cell_type": "code",
   "execution_count": 6,
   "id": "a629ba21-e389-4131-ae84-2ce5c5fc7aa9",
   "metadata": {},
   "outputs": [
    {
     "data": {
      "application/json": {
       "description": "Simulate a set scene images slices for testing. Creates an xarray dataset with `periodicity` time slices and writes it as Zarr into a temporary location. Requires installed `dask`, `xarray`, and `zarr` packages.",
       "id": "simulate_scene",
       "inputs": {
        "bbox": {
         "description": "Bounding box in geographical coordinates.",
         "minOccurs": 0,
         "schema": {
          "default": [
           -180,
           -90,
           180,
           90
          ],
          "format": "bbox",
          "items": {
           "type": "number"
          },
          "maxItems": 4,
          "minItems": 4,
          "type": "array"
         },
         "title": "Bounding box"
        },
        "end_date": {
         "minOccurs": 0,
         "schema": {
          "default": "2025-02-01",
          "format": "date",
          "type": "string"
         },
         "title": "End date"
        },
        "output_path": {
         "description": "Local output path or URI.",
         "minOccurs": 0,
         "schema": {
          "nullable": true,
          "type": "string"
         },
         "title": "Output path"
        },
        "periodicity": {
         "description": "Size of time steps in days.",
         "minOccurs": 0,
         "schema": {
          "default": 1,
          "maximum": 10,
          "minimum": 1,
          "type": "integer"
         },
         "title": "Periodicity"
        },
        "resolution": {
         "description": "Spatial resolution in degree.",
         "minOccurs": 0,
         "schema": {
          "default": 0.5,
          "maximum": 1,
          "minimum": 0.01,
          "type": "number"
         },
         "title": "Spatial resolution"
        },
        "start_date": {
         "minOccurs": 0,
         "schema": {
          "default": "2025-01-01",
          "format": "date",
          "type": "string"
         },
         "title": "Start date"
        },
        "var_names": {
         "description": "Comma-separated list of variable names.",
         "minOccurs": 0,
         "schema": {
          "default": "a, b, c",
          "type": "string"
         },
         "title": "Variable names"
        }
       },
       "outputs": {
        "return_value": {
         "schema": {
          "properties": {
           "href": {
            "title": "Href",
            "type": "string"
           },
           "hreflang": {
            "examples": [
             "en"
            ],
            "nullable": true,
            "title": "Hreflang",
            "type": "string"
           },
           "rel": {
            "examples": [
             "service"
            ],
            "nullable": true,
            "title": "Rel",
            "type": "string"
           },
           "title": {
            "nullable": true,
            "title": "Title",
            "type": "string"
           },
           "type": {
            "examples": [
             "application/json"
            ],
            "nullable": true,
            "title": "Type",
            "type": "string"
           }
          },
          "required": [
           "href"
          ],
          "type": "object"
         },
         "title": "Link"
        }
       },
       "title": "Generate scene for testing",
       "version": "0.0.0"
      },
      "text/plain": [
       "ProcessDescription(title='Generate scene for testing', description='Simulate a set scene images slices for testing. Creates an xarray dataset with `periodicity` time slices and writes it as Zarr into a temporary location. Requires installed `dask`, `xarray`, and `zarr` packages.', keywords=None, metadata=None, additionalParameters=None, id='simulate_scene', version='0.0.0', jobControlOptions=None, outputTransmission=None, links=None, inputs={'var_names': InputDescription(title='Variable names', description='Comma-separated list of variable names.', keywords=None, metadata=None, additionalParameters=None, minOccurs=0, maxOccurs=None, schema_=Schema(field_ref=None, title=None, multipleOf=None, maximum=None, exclusiveMaximum=False, minimum=None, exclusiveMinimum=False, maxLength=None, minLength=0, pattern=None, maxItems=None, minItems=0, uniqueItems=False, maxProperties=None, minProperties=0, required=None, enum=None, type=<DataType.string: 'string'>, not_=None, allOf=None, oneOf=None, anyOf=None, items=None, properties=None, additionalProperties=True, description=None, format=None, default='a, b, c', nullable=False, readOnly=False, writeOnly=False, example=None, examples=None, deprecated=False, contentMediaType=None, contentEncoding=None, contentSchema=None)), 'bbox': InputDescription(title='Bounding box', description='Bounding box in geographical coordinates.', keywords=None, metadata=None, additionalParameters=None, minOccurs=0, maxOccurs=None, schema_=Schema(field_ref=None, title=None, multipleOf=None, maximum=None, exclusiveMaximum=False, minimum=None, exclusiveMinimum=False, maxLength=None, minLength=0, pattern=None, maxItems=4, minItems=4, uniqueItems=False, maxProperties=None, minProperties=0, required=None, enum=None, type=<DataType.array: 'array'>, not_=None, allOf=None, oneOf=None, anyOf=None, items=Schema(field_ref=None, title=None, multipleOf=None, maximum=None, exclusiveMaximum=False, minimum=None, exclusiveMinimum=False, maxLength=None, minLength=0, pattern=None, maxItems=None, minItems=0, uniqueItems=False, maxProperties=None, minProperties=0, required=None, enum=None, type=<DataType.number: 'number'>, not_=None, allOf=None, oneOf=None, anyOf=None, items=None, properties=None, additionalProperties=True, description=None, format=None, default=None, nullable=False, readOnly=False, writeOnly=False, example=None, examples=None, deprecated=False, contentMediaType=None, contentEncoding=None, contentSchema=None), properties=None, additionalProperties=True, description=None, format='bbox', default=[-180, -90, 180, 90], nullable=False, readOnly=False, writeOnly=False, example=None, examples=None, deprecated=False, contentMediaType=None, contentEncoding=None, contentSchema=None)), 'resolution': InputDescription(title='Spatial resolution', description='Spatial resolution in degree.', keywords=None, metadata=None, additionalParameters=None, minOccurs=0, maxOccurs=None, schema_=Schema(field_ref=None, title=None, multipleOf=None, maximum=1.0, exclusiveMaximum=False, minimum=0.01, exclusiveMinimum=False, maxLength=None, minLength=0, pattern=None, maxItems=None, minItems=0, uniqueItems=False, maxProperties=None, minProperties=0, required=None, enum=None, type=<DataType.number: 'number'>, not_=None, allOf=None, oneOf=None, anyOf=None, items=None, properties=None, additionalProperties=True, description=None, format=None, default=0.5, nullable=False, readOnly=False, writeOnly=False, example=None, examples=None, deprecated=False, contentMediaType=None, contentEncoding=None, contentSchema=None)), 'start_date': InputDescription(title='Start date', description=None, keywords=None, metadata=None, additionalParameters=None, minOccurs=0, maxOccurs=None, schema_=Schema(field_ref=None, title=None, multipleOf=None, maximum=None, exclusiveMaximum=False, minimum=None, exclusiveMinimum=False, maxLength=None, minLength=0, pattern=None, maxItems=None, minItems=0, uniqueItems=False, maxProperties=None, minProperties=0, required=None, enum=None, type=<DataType.string: 'string'>, not_=None, allOf=None, oneOf=None, anyOf=None, items=None, properties=None, additionalProperties=True, description=None, format='date', default='2025-01-01', nullable=False, readOnly=False, writeOnly=False, example=None, examples=None, deprecated=False, contentMediaType=None, contentEncoding=None, contentSchema=None)), 'end_date': InputDescription(title='End date', description=None, keywords=None, metadata=None, additionalParameters=None, minOccurs=0, maxOccurs=None, schema_=Schema(field_ref=None, title=None, multipleOf=None, maximum=None, exclusiveMaximum=False, minimum=None, exclusiveMinimum=False, maxLength=None, minLength=0, pattern=None, maxItems=None, minItems=0, uniqueItems=False, maxProperties=None, minProperties=0, required=None, enum=None, type=<DataType.string: 'string'>, not_=None, allOf=None, oneOf=None, anyOf=None, items=None, properties=None, additionalProperties=True, description=None, format='date', default='2025-02-01', nullable=False, readOnly=False, writeOnly=False, example=None, examples=None, deprecated=False, contentMediaType=None, contentEncoding=None, contentSchema=None)), 'periodicity': InputDescription(title='Periodicity', description='Size of time steps in days.', keywords=None, metadata=None, additionalParameters=None, minOccurs=0, maxOccurs=None, schema_=Schema(field_ref=None, title=None, multipleOf=None, maximum=10.0, exclusiveMaximum=False, minimum=1.0, exclusiveMinimum=False, maxLength=None, minLength=0, pattern=None, maxItems=None, minItems=0, uniqueItems=False, maxProperties=None, minProperties=0, required=None, enum=None, type=<DataType.integer: 'integer'>, not_=None, allOf=None, oneOf=None, anyOf=None, items=None, properties=None, additionalProperties=True, description=None, format=None, default=1, nullable=False, readOnly=False, writeOnly=False, example=None, examples=None, deprecated=False, contentMediaType=None, contentEncoding=None, contentSchema=None)), 'output_path': InputDescription(title='Output path', description='Local output path or URI.', keywords=None, metadata=None, additionalParameters=None, minOccurs=0, maxOccurs=None, schema_=Schema(field_ref=None, title=None, multipleOf=None, maximum=None, exclusiveMaximum=False, minimum=None, exclusiveMinimum=False, maxLength=None, minLength=0, pattern=None, maxItems=None, minItems=0, uniqueItems=False, maxProperties=None, minProperties=0, required=None, enum=None, type=<DataType.string: 'string'>, not_=None, allOf=None, oneOf=None, anyOf=None, items=None, properties=None, additionalProperties=True, description=None, format=None, default=None, nullable=True, readOnly=False, writeOnly=False, example=None, examples=None, deprecated=False, contentMediaType=None, contentEncoding=None, contentSchema=None))}, outputs={'return_value': OutputDescription(title='Link', description=None, keywords=None, metadata=None, additionalParameters=None, schema_=Schema(field_ref=None, title=None, multipleOf=None, maximum=None, exclusiveMaximum=False, minimum=None, exclusiveMinimum=False, maxLength=None, minLength=0, pattern=None, maxItems=None, minItems=0, uniqueItems=False, maxProperties=None, minProperties=0, required=['href'], enum=None, type=<DataType.object: 'object'>, not_=None, allOf=None, oneOf=None, anyOf=None, items=None, properties={'href': Schema(field_ref=None, title='Href', multipleOf=None, maximum=None, exclusiveMaximum=False, minimum=None, exclusiveMinimum=False, maxLength=None, minLength=0, pattern=None, maxItems=None, minItems=0, uniqueItems=False, maxProperties=None, minProperties=0, required=None, enum=None, type=<DataType.string: 'string'>, not_=None, allOf=None, oneOf=None, anyOf=None, items=None, properties=None, additionalProperties=True, description=None, format=None, default=None, nullable=False, readOnly=False, writeOnly=False, example=None, examples=None, deprecated=False, contentMediaType=None, contentEncoding=None, contentSchema=None), 'rel': Schema(field_ref=None, title='Rel', multipleOf=None, maximum=None, exclusiveMaximum=False, minimum=None, exclusiveMinimum=False, maxLength=None, minLength=0, pattern=None, maxItems=None, minItems=0, uniqueItems=False, maxProperties=None, minProperties=0, required=None, enum=None, type=<DataType.string: 'string'>, not_=None, allOf=None, oneOf=None, anyOf=None, items=None, properties=None, additionalProperties=True, description=None, format=None, default=None, nullable=True, readOnly=False, writeOnly=False, example=None, examples=['service'], deprecated=False, contentMediaType=None, contentEncoding=None, contentSchema=None), 'type': Schema(field_ref=None, title='Type', multipleOf=None, maximum=None, exclusiveMaximum=False, minimum=None, exclusiveMinimum=False, maxLength=None, minLength=0, pattern=None, maxItems=None, minItems=0, uniqueItems=False, maxProperties=None, minProperties=0, required=None, enum=None, type=<DataType.string: 'string'>, not_=None, allOf=None, oneOf=None, anyOf=None, items=None, properties=None, additionalProperties=True, description=None, format=None, default=None, nullable=True, readOnly=False, writeOnly=False, example=None, examples=['application/json'], deprecated=False, contentMediaType=None, contentEncoding=None, contentSchema=None), 'hreflang': Schema(field_ref=None, title='Hreflang', multipleOf=None, maximum=None, exclusiveMaximum=False, minimum=None, exclusiveMinimum=False, maxLength=None, minLength=0, pattern=None, maxItems=None, minItems=0, uniqueItems=False, maxProperties=None, minProperties=0, required=None, enum=None, type=<DataType.string: 'string'>, not_=None, allOf=None, oneOf=None, anyOf=None, items=None, properties=None, additionalProperties=True, description=None, format=None, default=None, nullable=True, readOnly=False, writeOnly=False, example=None, examples=['en'], deprecated=False, contentMediaType=None, contentEncoding=None, contentSchema=None), 'title': Schema(field_ref=None, title='Title', multipleOf=None, maximum=None, exclusiveMaximum=False, minimum=None, exclusiveMinimum=False, maxLength=None, minLength=0, pattern=None, maxItems=None, minItems=0, uniqueItems=False, maxProperties=None, minProperties=0, required=None, enum=None, type=<DataType.string: 'string'>, not_=None, allOf=None, oneOf=None, anyOf=None, items=None, properties=None, additionalProperties=True, description=None, format=None, default=None, nullable=True, readOnly=False, writeOnly=False, example=None, examples=None, deprecated=False, contentMediaType=None, contentEncoding=None, contentSchema=None)}, additionalProperties=True, description=None, format=None, default=None, nullable=False, readOnly=False, writeOnly=False, example=None, examples=None, deprecated=False, contentMediaType=None, contentEncoding=None, contentSchema=None))})"
      ]
     },
     "execution_count": 6,
     "metadata": {
      "application/json": {
       "root": "ProcessDescription object:"
      }
     },
     "output_type": "execute_result"
    }
   ],
   "source": [
    "client.get_process(process_id=\"simulate_scene\")"
   ]
  },
  {
   "cell_type": "code",
   "execution_count": 7,
   "id": "e4e20f28-0ed4-4e30-9fcd-23238a7d06a0",
   "metadata": {},
   "outputs": [
    {
     "data": {
      "application/json": {
       "jobs": [
        {
         "created": "2025-07-11T09:53:22.863721",
         "finished": "2025-07-11T09:53:27.068847",
         "jobID": "job_0",
         "processID": "simulate_scene",
         "started": "2025-07-11T09:53:22.864444",
         "status": "successful",
         "type": "process"
        }
       ],
       "links": [
        {
         "href": "http://127.0.0.1:8008/jobs",
         "hreflang": "en",
         "rel": "self",
         "title": "get_jobs",
         "type": "application/json"
        }
       ]
      },
      "text/plain": [
       "JobList(jobs=[JobInfo(processID='simulate_scene', type=<JobType.process: 'process'>, jobID='job_0', status=<JobStatus.successful: 'successful'>, message=None, created=datetime.datetime(2025, 7, 11, 9, 53, 22, 863721), started=datetime.datetime(2025, 7, 11, 9, 53, 22, 864444), finished=datetime.datetime(2025, 7, 11, 9, 53, 27, 68847), updated=None, progress=None, links=None, traceback=None)], links=[Link(href='http://127.0.0.1:8008/jobs', rel='self', type='application/json', hreflang='en', title='get_jobs')])"
      ]
     },
     "execution_count": 7,
     "metadata": {
      "application/json": {
       "root": "JobList object:"
      }
     },
     "output_type": "execute_result"
    }
   ],
   "source": [
    "client.get_jobs()"
   ]
  },
  {
   "cell_type": "code",
   "execution_count": 8,
   "id": "cc034916-02db-4ec2-8682-71710d54edf6",
   "metadata": {},
   "outputs": [
    {
     "data": {
      "application/json": {
       "created": "2025-07-11T09:55:50.573155",
       "jobID": "job_1",
       "processID": "sleep_a_while",
       "status": "accepted",
       "type": "process"
      },
      "text/plain": [
       "JobInfo(processID='sleep_a_while', type=<JobType.process: 'process'>, jobID='job_1', status=<JobStatus.accepted: 'accepted'>, message=None, created=datetime.datetime(2025, 7, 11, 9, 55, 50, 573155), started=None, finished=None, updated=None, progress=None, links=None, traceback=None)"
      ]
     },
     "execution_count": 8,
     "metadata": {
      "application/json": {
       "root": "JobInfo object:"
      }
     },
     "output_type": "execute_result"
    }
   ],
   "source": [
    "client.execute_process(process_id=\"sleep_a_while\", request=ProcessRequest())"
   ]
  },
  {
   "cell_type": "code",
   "execution_count": 9,
   "id": "4cd38b1d-5989-4991-9b62-d1981d33a46e",
   "metadata": {},
   "outputs": [
    {
     "data": {
      "application/json": {
       "created": "2025-07-11T09:55:50.598099",
       "jobID": "job_2",
       "processID": "sleep_a_while",
       "progress": 0,
       "started": "2025-07-11T09:55:50.599104",
       "status": "running",
       "type": "process",
       "updated": "2025-07-11T09:55:50.599187"
      },
      "text/plain": [
       "JobInfo(processID='sleep_a_while', type=<JobType.process: 'process'>, jobID='job_2', status=<JobStatus.running: 'running'>, message=None, created=datetime.datetime(2025, 7, 11, 9, 55, 50, 598099), started=datetime.datetime(2025, 7, 11, 9, 55, 50, 599104), finished=None, updated=datetime.datetime(2025, 7, 11, 9, 55, 50, 599187), progress=0, links=None, traceback=None)"
      ]
     },
     "execution_count": 9,
     "metadata": {
      "application/json": {
       "root": "JobInfo object:"
      }
     },
     "output_type": "execute_result"
    }
   ],
   "source": [
    "client.execute_process(process_id=\"sleep_a_while\", request={})"
   ]
  },
  {
   "cell_type": "code",
   "execution_count": 10,
   "id": "9cf5e867-d91e-45dd-91b3-a54bc2d087a7",
   "metadata": {},
   "outputs": [
    {
     "data": {
      "application/json": {
       "jobs": [
        {
         "created": "2025-07-11T09:53:22.863721",
         "finished": "2025-07-11T09:53:27.068847",
         "jobID": "job_0",
         "processID": "simulate_scene",
         "started": "2025-07-11T09:53:22.864444",
         "status": "successful",
         "type": "process"
        },
        {
         "created": "2025-07-11T09:55:50.573155",
         "jobID": "job_1",
         "processID": "sleep_a_while",
         "progress": 0,
         "started": "2025-07-11T09:55:50.574261",
         "status": "running",
         "type": "process",
         "updated": "2025-07-11T09:55:50.574387"
        },
        {
         "created": "2025-07-11T09:55:50.598099",
         "jobID": "job_2",
         "processID": "sleep_a_while",
         "progress": 0,
         "started": "2025-07-11T09:55:50.599104",
         "status": "running",
         "type": "process",
         "updated": "2025-07-11T09:55:50.599187"
        }
       ],
       "links": [
        {
         "href": "http://127.0.0.1:8008/jobs",
         "hreflang": "en",
         "rel": "self",
         "title": "get_jobs",
         "type": "application/json"
        }
       ]
      },
      "text/plain": [
       "JobList(jobs=[JobInfo(processID='simulate_scene', type=<JobType.process: 'process'>, jobID='job_0', status=<JobStatus.successful: 'successful'>, message=None, created=datetime.datetime(2025, 7, 11, 9, 53, 22, 863721), started=datetime.datetime(2025, 7, 11, 9, 53, 22, 864444), finished=datetime.datetime(2025, 7, 11, 9, 53, 27, 68847), updated=None, progress=None, links=None, traceback=None), JobInfo(processID='sleep_a_while', type=<JobType.process: 'process'>, jobID='job_1', status=<JobStatus.running: 'running'>, message=None, created=datetime.datetime(2025, 7, 11, 9, 55, 50, 573155), started=datetime.datetime(2025, 7, 11, 9, 55, 50, 574261), finished=None, updated=datetime.datetime(2025, 7, 11, 9, 55, 50, 574387), progress=0, links=None, traceback=None), JobInfo(processID='sleep_a_while', type=<JobType.process: 'process'>, jobID='job_2', status=<JobStatus.running: 'running'>, message=None, created=datetime.datetime(2025, 7, 11, 9, 55, 50, 598099), started=datetime.datetime(2025, 7, 11, 9, 55, 50, 599104), finished=None, updated=datetime.datetime(2025, 7, 11, 9, 55, 50, 599187), progress=0, links=None, traceback=None)], links=[Link(href='http://127.0.0.1:8008/jobs', rel='self', type='application/json', hreflang='en', title='get_jobs')])"
      ]
     },
     "execution_count": 10,
     "metadata": {
      "application/json": {
       "root": "JobList object:"
      }
     },
     "output_type": "execute_result"
    }
   ],
   "source": [
    "client.get_jobs()"
   ]
  },
  {
   "cell_type": "code",
   "execution_count": null,
   "id": "b7f99444-d724-4451-aeae-0c23e8245dd1",
   "metadata": {},
   "outputs": [],
   "source": [
    "# client.get_job_results(\"job_1\")"
   ]
  },
  {
   "cell_type": "code",
   "execution_count": 11,
   "id": "736d52d8-d91a-435b-8dfb-b016a5139201",
   "metadata": {},
   "outputs": [],
   "source": [
    "for job in client.get_jobs().jobs:\n",
    "    client.dismiss_job(job.jobID)"
   ]
  },
  {
   "cell_type": "code",
   "execution_count": 12,
   "id": "4636fdfc-3f61-40b4-889e-497c2dd50d91",
   "metadata": {},
   "outputs": [
    {
     "data": {
      "application/json": {
       "jobs": [
        {
         "created": "2025-07-11T09:55:50.573155",
         "finished": "2025-07-11T09:55:50.674812",
         "jobID": "job_1",
         "processID": "sleep_a_while",
         "progress": 0,
         "started": "2025-07-11T09:55:50.574261",
         "status": "dismissed",
         "type": "process",
         "updated": "2025-07-11T09:55:50.574387"
        },
        {
         "created": "2025-07-11T09:55:50.598099",
         "jobID": "job_2",
         "processID": "sleep_a_while",
         "progress": 0,
         "started": "2025-07-11T09:55:50.599104",
         "status": "running",
         "type": "process",
         "updated": "2025-07-11T09:55:50.599187"
        }
       ],
       "links": [
        {
         "href": "http://127.0.0.1:8008/jobs",
         "hreflang": "en",
         "rel": "self",
         "title": "get_jobs",
         "type": "application/json"
        }
       ]
      },
      "text/plain": [
       "JobList(jobs=[JobInfo(processID='sleep_a_while', type=<JobType.process: 'process'>, jobID='job_1', status=<JobStatus.dismissed: 'dismissed'>, message=None, created=datetime.datetime(2025, 7, 11, 9, 55, 50, 573155), started=datetime.datetime(2025, 7, 11, 9, 55, 50, 574261), finished=datetime.datetime(2025, 7, 11, 9, 55, 50, 674812), updated=datetime.datetime(2025, 7, 11, 9, 55, 50, 574387), progress=0, links=None, traceback=None), JobInfo(processID='sleep_a_while', type=<JobType.process: 'process'>, jobID='job_2', status=<JobStatus.running: 'running'>, message=None, created=datetime.datetime(2025, 7, 11, 9, 55, 50, 598099), started=datetime.datetime(2025, 7, 11, 9, 55, 50, 599104), finished=None, updated=datetime.datetime(2025, 7, 11, 9, 55, 50, 599187), progress=0, links=None, traceback=None)], links=[Link(href='http://127.0.0.1:8008/jobs', rel='self', type='application/json', hreflang='en', title='get_jobs')])"
      ]
     },
     "execution_count": 12,
     "metadata": {
      "application/json": {
       "root": "JobList object:"
      }
     },
     "output_type": "execute_result"
    }
   ],
   "source": [
    "client.get_jobs()"
   ]
  },
  {
   "cell_type": "code",
   "execution_count": null,
   "id": "f6f7b188-2124-480c-bb54-f7dabf22076a",
   "metadata": {},
   "outputs": [],
   "source": []
  },
  {
   "cell_type": "code",
   "execution_count": null,
   "id": "cd2d8bd5-1f52-4edf-868b-7730d8077602",
   "metadata": {},
   "outputs": [],
   "source": []
  }
 ],
 "metadata": {
  "kernelspec": {
   "display_name": "Python 3 (ipykernel)",
   "language": "python",
   "name": "python3"
  },
  "language_info": {
   "codemirror_mode": {
    "name": "ipython",
    "version": 3
   },
   "file_extension": ".py",
   "mimetype": "text/x-python",
   "name": "python",
   "nbconvert_exporter": "python",
   "pygments_lexer": "ipython3",
   "version": "3.13.5"
  }
 },
 "nbformat": 4,
 "nbformat_minor": 5
}
