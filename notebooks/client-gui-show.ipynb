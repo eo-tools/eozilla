{
 "cells": [
  {
   "cell_type": "markdown",
   "id": "503838a6-a213-4171-93db-c0f1b68edc48",
   "metadata": {},
   "source": [
    "Before running this notebook, please run\n",
    "\n",
    "```bash\n",
    "s2gos-server run --service=s2gos_server.services.local.testing:service\n",
    "```"
   ]
  },
  {
   "cell_type": "code",
   "execution_count": 6,
   "id": "8be0d24e-00ad-4ce0-8217-27a6747b5767",
   "metadata": {},
   "outputs": [],
   "source": [
    "from s2gos_client.gui import Client"
   ]
  },
  {
   "cell_type": "code",
   "execution_count": 7,
   "id": "6c90402f-b2a2-4e1e-873c-8ceca7780ed6",
   "metadata": {},
   "outputs": [
    {
     "data": {
      "application/json": {
       "access_token": "30948305",
       "server_url": "http://127.0.0.1:8008",
       "user_name": "forman"
      },
      "text/plain": [
       "<s2gos_client.gui.client.Client at 0x1e16624dd10>"
      ]
     },
     "execution_count": 7,
     "metadata": {
      "application/json": {
       "root": "Configuration:"
      }
     },
     "output_type": "execute_result"
    }
   ],
   "source": [
    "client = Client(debug=True)\n",
    "client"
   ]
  },
  {
   "cell_type": "code",
   "execution_count": 8,
   "id": "7154afcd-59a9-484f-8271-1b4773b8c636",
   "metadata": {},
   "outputs": [
    {
     "data": {
      "application/json": {
       "links": [
        {
         "href": "http://127.0.0.1:8008/processes",
         "hreflang": "en",
         "rel": "self",
         "title": "get_processes",
         "type": "application/json"
        }
       ],
       "processes": [
        {
         "description": "Sleeps for `duration` seconds. Fails on purpose if `fail` is `True`. Returns the effective amount of sleep in seconds.",
         "id": "sleep_a_while",
         "title": "Sleep Processor",
         "version": "0.0.0"
        },
        {
         "description": "Returns the list of prime numbers between a `min_val` and `max_val`. ",
         "id": "primes_between",
         "title": "Prime Processor",
         "version": "0.0.0"
        },
        {
         "description": "Simulate a set scene images slices for testing. Creates an xarray dataset with `periodicity` time slices and writes it as Zarr into a temporary location. Requires installed `dask`, `xarray`, and `zarr` packages.",
         "id": "simulate_scene",
         "title": "Generate scene for testing",
         "version": "0.0.0"
        },
        {
         "id": "return_base_model",
         "title": "BaseModel Test",
         "version": "0.0.0"
        }
       ]
      },
      "text/plain": [
       "ProcessList(processes=[ProcessSummary(title='Sleep Processor', description='Sleeps for `duration` seconds. Fails on purpose if `fail` is `True`. Returns the effective amount of sleep in seconds.', keywords=None, metadata=None, additionalParameters=None, id='sleep_a_while', version='0.0.0', jobControlOptions=None, outputTransmission=None, links=None), ProcessSummary(title='Prime Processor', description='Returns the list of prime numbers between a `min_val` and `max_val`. ', keywords=None, metadata=None, additionalParameters=None, id='primes_between', version='0.0.0', jobControlOptions=None, outputTransmission=None, links=None), ProcessSummary(title='Generate scene for testing', description='Simulate a set scene images slices for testing. Creates an xarray dataset with `periodicity` time slices and writes it as Zarr into a temporary location. Requires installed `dask`, `xarray`, and `zarr` packages.', keywords=None, metadata=None, additionalParameters=None, id='simulate_scene', version='0.0.0', jobControlOptions=None, outputTransmission=None, links=None), ProcessSummary(title='BaseModel Test', description=None, keywords=None, metadata=None, additionalParameters=None, id='return_base_model', version='0.0.0', jobControlOptions=None, outputTransmission=None, links=None)], links=[Link(href='http://127.0.0.1:8008/processes', rel='self', type='application/json', hreflang='en', title='get_processes')])"
      ]
     },
     "execution_count": 8,
     "metadata": {
      "application/json": {
       "root": "ProcessList object:"
      }
     },
     "output_type": "execute_result"
    }
   ],
   "source": [
    "client.get_processes()"
   ]
  },
  {
   "cell_type": "code",
   "execution_count": 9,
   "id": "67179e44-a969-4b5a-ab7a-03ba3b9c7054",
   "metadata": {},
   "outputs": [
    {
     "data": {
      "application/json": {
       "description": "Sleeps for `duration` seconds. Fails on purpose if `fail` is `True`. Returns the effective amount of sleep in seconds.",
       "id": "sleep_a_while",
       "inputs": {
        "duration": {
         "minOccurs": 0,
         "schema": {
          "default": 10,
          "type": "number"
         },
         "title": "Duration"
        },
        "fail": {
         "minOccurs": 0,
         "schema": {
          "default": false,
          "type": "boolean"
         },
         "title": "Fail"
        }
       },
       "outputs": {
        "return_value": {
         "schema": {
          "type": "number"
         },
         "title": "Return Value"
        }
       },
       "title": "Sleep Processor",
       "version": "0.0.0"
      },
      "text/plain": [
       "ProcessDescription(title='Sleep Processor', description='Sleeps for `duration` seconds. Fails on purpose if `fail` is `True`. Returns the effective amount of sleep in seconds.', keywords=None, metadata=None, additionalParameters=None, id='sleep_a_while', version='0.0.0', jobControlOptions=None, outputTransmission=None, links=None, inputs={'duration': InputDescription(title='Duration', description=None, keywords=None, metadata=None, additionalParameters=None, minOccurs=0, maxOccurs=None, schema_=Schema(field_ref=None, title=None, multipleOf=None, maximum=None, exclusiveMaximum=False, minimum=None, exclusiveMinimum=False, maxLength=None, minLength=0, pattern=None, maxItems=None, minItems=0, uniqueItems=False, maxProperties=None, minProperties=0, required=None, enum=None, type=<DataType.number: 'number'>, not_=None, allOf=None, oneOf=None, anyOf=None, items=None, properties=None, additionalProperties=True, description=None, format=None, default=10.0, nullable=False, readOnly=False, writeOnly=False, example=None, examples=None, deprecated=False, contentMediaType=None, contentEncoding=None, contentSchema=None)), 'fail': InputDescription(title='Fail', description=None, keywords=None, metadata=None, additionalParameters=None, minOccurs=0, maxOccurs=None, schema_=Schema(field_ref=None, title=None, multipleOf=None, maximum=None, exclusiveMaximum=False, minimum=None, exclusiveMinimum=False, maxLength=None, minLength=0, pattern=None, maxItems=None, minItems=0, uniqueItems=False, maxProperties=None, minProperties=0, required=None, enum=None, type=<DataType.boolean: 'boolean'>, not_=None, allOf=None, oneOf=None, anyOf=None, items=None, properties=None, additionalProperties=True, description=None, format=None, default=False, nullable=False, readOnly=False, writeOnly=False, example=None, examples=None, deprecated=False, contentMediaType=None, contentEncoding=None, contentSchema=None))}, outputs={'return_value': OutputDescription(title='Return Value', description=None, keywords=None, metadata=None, additionalParameters=None, schema_=Schema(field_ref=None, title=None, multipleOf=None, maximum=None, exclusiveMaximum=False, minimum=None, exclusiveMinimum=False, maxLength=None, minLength=0, pattern=None, maxItems=None, minItems=0, uniqueItems=False, maxProperties=None, minProperties=0, required=None, enum=None, type=<DataType.number: 'number'>, not_=None, allOf=None, oneOf=None, anyOf=None, items=None, properties=None, additionalProperties=True, description=None, format=None, default=None, nullable=False, readOnly=False, writeOnly=False, example=None, examples=None, deprecated=False, contentMediaType=None, contentEncoding=None, contentSchema=None))})"
      ]
     },
     "execution_count": 9,
     "metadata": {
      "application/json": {
       "root": "ProcessDescription object:"
      }
     },
     "output_type": "execute_result"
    }
   ],
   "source": [
    "client.get_process(\"sleep_a_while\")"
   ]
  },
  {
   "cell_type": "code",
   "execution_count": 10,
   "id": "cc034916-02db-4ec2-8682-71710d54edf6",
   "metadata": {},
   "outputs": [
    {
     "data": {},
     "metadata": {},
     "output_type": "display_data"
    },
    {
     "data": {
      "application/vnd.holoviews_exec.v0+json": "",
      "text/html": [
       "<div id='ba97a6db-512b-4880-9ace-2b423fb59520'>\n",
       "  <div id=\"e3fa0b1d-acbf-4d94-ae42-0f60785ff12e\" data-root-id=\"ba97a6db-512b-4880-9ace-2b423fb59520\" style=\"display: contents;\"></div>\n",
       "</div>\n",
       "<script type=\"application/javascript\">(function(root) {\n",
       "  var docs_json = {\"be9cb4cc-f590-4bad-bfa1-617e839aa2d1\":{\"version\":\"3.7.3\",\"title\":\"Bokeh Application\",\"roots\":[{\"type\":\"object\",\"name\":\"panel.models.layout.Column\",\"id\":\"ba97a6db-512b-4880-9ace-2b423fb59520\",\"attributes\":{\"name\":\"Column00475\",\"stylesheets\":[\"\\n:host(.pn-loading):before, .pn-loading:before {\\n  background-color: #c3c3c3;\\n  mask-size: auto calc(min(50%, 400px));\\n  -webkit-mask-size: auto calc(min(50%, 400px));\\n}\",{\"type\":\"object\",\"name\":\"ImportedStyleSheet\",\"id\":\"375266f2-8e68-4fda-9dac-71fdbf866ae0\",\"attributes\":{\"url\":\"https://cdn.holoviz.org/panel/1.7.1/dist/css/loading.css\"}},{\"type\":\"object\",\"name\":\"ImportedStyleSheet\",\"id\":\"8c9614fb-6097-4e44-b3d6-a4003adc69fb\",\"attributes\":{\"url\":\"https://cdn.holoviz.org/panel/1.7.1/dist/bundled/font-awesome/css/all.min.css\"}},{\"type\":\"object\",\"name\":\"ImportedStyleSheet\",\"id\":\"f6b8c200-4bd7-4682-838e-0883593468f9\",\"attributes\":{\"url\":\"https://cdn.holoviz.org/panel/1.7.1/dist/css/listpanel.css\"}},{\"type\":\"object\",\"name\":\"ImportedStyleSheet\",\"id\":\"f72fdfaa-372a-4bd8-b043-7ba72be318e1\",\"attributes\":{\"url\":\"https://cdn.holoviz.org/panel/1.7.1/dist/bundled/theme/default.css\"}},{\"type\":\"object\",\"name\":\"ImportedStyleSheet\",\"id\":\"4250a972-ec84-4664-a140-a967dc31da98\",\"attributes\":{\"url\":\"https://cdn.holoviz.org/panel/1.7.1/dist/bundled/theme/native.css\"}}],\"margin\":0,\"align\":\"start\",\"children\":[{\"type\":\"object\",\"name\":\"panel.models.layout.Column\",\"id\":\"f0ed4a51-6b7c-4518-b88a-8c2ae3683458\",\"attributes\":{\"name\":\"Column00462\",\"stylesheets\":[\"\\n:host(.pn-loading):before, .pn-loading:before {\\n  background-color: #c3c3c3;\\n  mask-size: auto calc(min(50%, 400px));\\n  -webkit-mask-size: auto calc(min(50%, 400px));\\n}\",{\"id\":\"375266f2-8e68-4fda-9dac-71fdbf866ae0\"},{\"id\":\"8c9614fb-6097-4e44-b3d6-a4003adc69fb\"},{\"id\":\"f6b8c200-4bd7-4682-838e-0883593468f9\"},{\"id\":\"f72fdfaa-372a-4bd8-b043-7ba72be318e1\"},{\"id\":\"4250a972-ec84-4664-a140-a967dc31da98\"}],\"margin\":0,\"align\":\"start\",\"children\":[{\"type\":\"object\",\"name\":\"panel.models.widgets.CustomSelect\",\"id\":\"31591138-14f3-48dc-9c13-c1bfc8eb4a39\",\"attributes\":{\"stylesheets\":[\"\\n:host(.pn-loading):before, .pn-loading:before {\\n  background-color: #c3c3c3;\\n  mask-size: auto calc(min(50%, 400px));\\n  -webkit-mask-size: auto calc(min(50%, 400px));\\n}\",{\"id\":\"375266f2-8e68-4fda-9dac-71fdbf866ae0\"},{\"id\":\"8c9614fb-6097-4e44-b3d6-a4003adc69fb\"},{\"type\":\"object\",\"name\":\"ImportedStyleSheet\",\"id\":\"d8c599e6-0250-4f45-a7ca-321651cf4457\",\"attributes\":{\"url\":\"https://cdn.holoviz.org/panel/1.7.1/dist/css/select.css\"}},{\"id\":\"f72fdfaa-372a-4bd8-b043-7ba72be318e1\"},{\"id\":\"4250a972-ec84-4664-a140-a967dc31da98\"}],\"width\":300,\"min_width\":300,\"margin\":[5,10],\"align\":\"start\",\"title\":\"Process\",\"options\":[\"sleep_a_while\",\"primes_between\",\"simulate_scene\",\"return_base_model\"],\"value\":\"sleep_a_while\"}},{\"type\":\"object\",\"name\":\"panel.models.markup.HTML\",\"id\":\"6fd6b393-085e-4612-b5b3-0bf4624ad886\",\"attributes\":{\"css_classes\":[\"markdown\"],\"stylesheets\":[\"\\n:host(.pn-loading):before, .pn-loading:before {\\n  background-color: #c3c3c3;\\n  mask-size: auto calc(min(50%, 400px));\\n  -webkit-mask-size: auto calc(min(50%, 400px));\\n}\",{\"id\":\"375266f2-8e68-4fda-9dac-71fdbf866ae0\"},{\"id\":\"8c9614fb-6097-4e44-b3d6-a4003adc69fb\"},{\"type\":\"object\",\"name\":\"ImportedStyleSheet\",\"id\":\"f5dbb702-0ff8-45c0-8c98-3428e14d363d\",\"attributes\":{\"url\":\"https://cdn.holoviz.org/panel/1.7.1/dist/css/markdown.css\"}},{\"id\":\"f72fdfaa-372a-4bd8-b043-7ba72be318e1\"},{\"id\":\"4250a972-ec84-4664-a140-a967dc31da98\"}],\"margin\":[5,10],\"align\":\"start\",\"text\":\"&lt;p&gt;&lt;strong&gt;Sleep Processor&lt;/strong&gt;&lt;/p&gt;\\n&lt;p&gt;Sleeps for &lt;code&gt;duration&lt;/code&gt; seconds. Fails on purpose if &lt;code&gt;fail&lt;/code&gt; is &lt;code&gt;True&lt;/code&gt;. Returns the effective amount of sleep in seconds.&lt;/p&gt;\\n\"}}]}},{\"type\":\"object\",\"name\":\"panel.models.layout.Column\",\"id\":\"d9813438-2647-4d4d-87c0-67eed6669d75\",\"attributes\":{\"name\":\"Column00469\",\"stylesheets\":[\"\\n:host(.pn-loading):before, .pn-loading:before {\\n  background-color: #c3c3c3;\\n  mask-size: auto calc(min(50%, 400px));\\n  -webkit-mask-size: auto calc(min(50%, 400px));\\n}\",{\"id\":\"375266f2-8e68-4fda-9dac-71fdbf866ae0\"},{\"id\":\"8c9614fb-6097-4e44-b3d6-a4003adc69fb\"},{\"id\":\"f6b8c200-4bd7-4682-838e-0883593468f9\"},{\"id\":\"f72fdfaa-372a-4bd8-b043-7ba72be318e1\"},{\"id\":\"4250a972-ec84-4664-a140-a967dc31da98\"}],\"margin\":0,\"align\":\"start\",\"children\":[{\"type\":\"object\",\"name\":\"Spinner\",\"id\":\"9646463c-a172-4a70-b20f-0f7a99855143\",\"attributes\":{\"stylesheets\":[\"\\n:host(.pn-loading):before, .pn-loading:before {\\n  background-color: #c3c3c3;\\n  mask-size: auto calc(min(50%, 400px));\\n  -webkit-mask-size: auto calc(min(50%, 400px));\\n}\",{\"id\":\"375266f2-8e68-4fda-9dac-71fdbf866ae0\"},{\"id\":\"8c9614fb-6097-4e44-b3d6-a4003adc69fb\"},{\"id\":\"f72fdfaa-372a-4bd8-b043-7ba72be318e1\"},{\"id\":\"4250a972-ec84-4664-a140-a967dc31da98\"}],\"width\":300,\"min_width\":300,\"margin\":[5,10],\"align\":\"start\",\"title\":\"Duration\",\"value\":10.0,\"step\":0.1}},{\"type\":\"object\",\"name\":\"Checkbox\",\"id\":\"5ebbf90f-ef5e-4380-bdb3-f34b089041b5\",\"attributes\":{\"stylesheets\":[\"\\n:host(.pn-loading):before, .pn-loading:before {\\n  background-color: #c3c3c3;\\n  mask-size: auto calc(min(50%, 400px));\\n  -webkit-mask-size: auto calc(min(50%, 400px));\\n}\",{\"id\":\"375266f2-8e68-4fda-9dac-71fdbf866ae0\"},{\"id\":\"8c9614fb-6097-4e44-b3d6-a4003adc69fb\"},{\"id\":\"f72fdfaa-372a-4bd8-b043-7ba72be318e1\"},{\"id\":\"4250a972-ec84-4664-a140-a967dc31da98\"}],\"margin\":[5,10],\"align\":\"start\",\"label\":\"Fail\"}}]}},{\"type\":\"object\",\"name\":\"panel.models.layout.Column\",\"id\":\"81deb7f3-b9b5-455e-8755-7ec7f4747c40\",\"attributes\":{\"name\":\"Column00470\",\"stylesheets\":[\"\\n:host(.pn-loading):before, .pn-loading:before {\\n  background-color: #c3c3c3;\\n  mask-size: auto calc(min(50%, 400px));\\n  -webkit-mask-size: auto calc(min(50%, 400px));\\n}\",{\"id\":\"375266f2-8e68-4fda-9dac-71fdbf866ae0\"},{\"id\":\"8c9614fb-6097-4e44-b3d6-a4003adc69fb\"},{\"id\":\"f6b8c200-4bd7-4682-838e-0883593468f9\"},{\"id\":\"f72fdfaa-372a-4bd8-b043-7ba72be318e1\"},{\"id\":\"4250a972-ec84-4664-a140-a967dc31da98\"}],\"margin\":0,\"align\":\"start\"}},{\"type\":\"object\",\"name\":\"Row\",\"id\":\"1375f1fd-7604-42b2-9302-7ee7d9b14922\",\"attributes\":{\"name\":\"Row00468\",\"stylesheets\":[\"\\n:host(.pn-loading):before, .pn-loading:before {\\n  background-color: #c3c3c3;\\n  mask-size: auto calc(min(50%, 400px));\\n  -webkit-mask-size: auto calc(min(50%, 400px));\\n}\",{\"id\":\"375266f2-8e68-4fda-9dac-71fdbf866ae0\"},{\"id\":\"8c9614fb-6097-4e44-b3d6-a4003adc69fb\"},{\"id\":\"f6b8c200-4bd7-4682-838e-0883593468f9\"},{\"id\":\"f72fdfaa-372a-4bd8-b043-7ba72be318e1\"},{\"id\":\"4250a972-ec84-4664-a140-a967dc31da98\"}],\"margin\":0,\"align\":\"start\",\"children\":[{\"type\":\"object\",\"name\":\"panel.models.widgets.Button\",\"id\":\"1d406211-e273-4361-8b50-ce0514c5658c\",\"attributes\":{\"button_type\":\"primary\",\"subscribed_events\":{\"type\":\"set\",\"entries\":[\"button_click\"]},\"css_classes\":[\"solid\"],\"stylesheets\":[\"\\n:host(.pn-loading):before, .pn-loading:before {\\n  background-color: #c3c3c3;\\n  mask-size: auto calc(min(50%, 400px));\\n  -webkit-mask-size: auto calc(min(50%, 400px));\\n}\",{\"id\":\"375266f2-8e68-4fda-9dac-71fdbf866ae0\"},{\"id\":\"8c9614fb-6097-4e44-b3d6-a4003adc69fb\"},{\"type\":\"object\",\"name\":\"ImportedStyleSheet\",\"id\":\"2e8d9828-3ff8-4672-bfbe-1d436af4a19e\",\"attributes\":{\"url\":\"https://cdn.holoviz.org/panel/1.7.1/dist/css/button.css\"}},{\"id\":\"f72fdfaa-372a-4bd8-b043-7ba72be318e1\"},{\"id\":\"4250a972-ec84-4664-a140-a967dc31da98\"}],\"margin\":[5,10],\"align\":\"start\",\"label\":\"Execute\"}},{\"type\":\"object\",\"name\":\"panel.models.widgets.Button\",\"id\":\"5fde0200-c1c8-443f-8d68-acdf5ba158ae\",\"attributes\":{\"subscribed_events\":{\"type\":\"set\",\"entries\":[\"button_click\"]},\"css_classes\":[\"solid\"],\"stylesheets\":[\"\\n:host(.pn-loading):before, .pn-loading:before {\\n  background-color: #c3c3c3;\\n  mask-size: auto calc(min(50%, 400px));\\n  -webkit-mask-size: auto calc(min(50%, 400px));\\n}\",{\"id\":\"375266f2-8e68-4fda-9dac-71fdbf866ae0\"},{\"id\":\"8c9614fb-6097-4e44-b3d6-a4003adc69fb\"},{\"id\":\"2e8d9828-3ff8-4672-bfbe-1d436af4a19e\"},{\"id\":\"f72fdfaa-372a-4bd8-b043-7ba72be318e1\"},{\"id\":\"4250a972-ec84-4664-a140-a967dc31da98\"}],\"disabled\":true,\"margin\":[5,10],\"align\":\"start\",\"label\":\"Open\"}},{\"type\":\"object\",\"name\":\"panel.models.widgets.Button\",\"id\":\"210f16be-d033-4a80-87bb-3054d040e97d\",\"attributes\":{\"subscribed_events\":{\"type\":\"set\",\"entries\":[\"button_click\"]},\"css_classes\":[\"solid\"],\"stylesheets\":[\"\\n:host(.pn-loading):before, .pn-loading:before {\\n  background-color: #c3c3c3;\\n  mask-size: auto calc(min(50%, 400px));\\n  -webkit-mask-size: auto calc(min(50%, 400px));\\n}\",{\"id\":\"375266f2-8e68-4fda-9dac-71fdbf866ae0\"},{\"id\":\"8c9614fb-6097-4e44-b3d6-a4003adc69fb\"},{\"id\":\"2e8d9828-3ff8-4672-bfbe-1d436af4a19e\"},{\"id\":\"f72fdfaa-372a-4bd8-b043-7ba72be318e1\"},{\"id\":\"4250a972-ec84-4664-a140-a967dc31da98\"}],\"disabled\":true,\"margin\":[5,10],\"align\":\"start\",\"label\":\"Save\"}},{\"type\":\"object\",\"name\":\"panel.models.widgets.Button\",\"id\":\"cf757b2c-2fb3-492f-9084-60d1ff95dc69\",\"attributes\":{\"subscribed_events\":{\"type\":\"set\",\"entries\":[\"button_click\"]},\"css_classes\":[\"solid\"],\"stylesheets\":[\"\\n:host(.pn-loading):before, .pn-loading:before {\\n  background-color: #c3c3c3;\\n  mask-size: auto calc(min(50%, 400px));\\n  -webkit-mask-size: auto calc(min(50%, 400px));\\n}\",{\"id\":\"375266f2-8e68-4fda-9dac-71fdbf866ae0\"},{\"id\":\"8c9614fb-6097-4e44-b3d6-a4003adc69fb\"},{\"id\":\"2e8d9828-3ff8-4672-bfbe-1d436af4a19e\"},{\"id\":\"f72fdfaa-372a-4bd8-b043-7ba72be318e1\"},{\"id\":\"4250a972-ec84-4664-a140-a967dc31da98\"}],\"disabled\":true,\"margin\":[5,10],\"align\":\"start\",\"label\":\"Save As...\"}},{\"type\":\"object\",\"name\":\"panel.models.widgets.Button\",\"id\":\"7a8d1604-4588-4b11-a71c-70f4a65e0742\",\"attributes\":{\"subscribed_events\":{\"type\":\"set\",\"entries\":[\"button_click\"]},\"css_classes\":[\"solid\"],\"stylesheets\":[\"\\n:host(.pn-loading):before, .pn-loading:before {\\n  background-color: #c3c3c3;\\n  mask-size: auto calc(min(50%, 400px));\\n  -webkit-mask-size: auto calc(min(50%, 400px));\\n}\",{\"id\":\"375266f2-8e68-4fda-9dac-71fdbf866ae0\"},{\"id\":\"8c9614fb-6097-4e44-b3d6-a4003adc69fb\"},{\"id\":\"2e8d9828-3ff8-4672-bfbe-1d436af4a19e\"},{\"id\":\"f72fdfaa-372a-4bd8-b043-7ba72be318e1\"},{\"id\":\"4250a972-ec84-4664-a140-a967dc31da98\"}],\"margin\":[5,10],\"align\":\"start\",\"label\":\"Get Request\"}}]}},{\"type\":\"object\",\"name\":\"panel.models.layout.Column\",\"id\":\"843ab7b7-d85c-42cf-9eff-16a3de555b20\",\"attributes\":{\"name\":\"Column00474\",\"stylesheets\":[\"\\n:host(.pn-loading):before, .pn-loading:before {\\n  background-color: #c3c3c3;\\n  mask-size: auto calc(min(50%, 400px));\\n  -webkit-mask-size: auto calc(min(50%, 400px));\\n}\",{\"id\":\"375266f2-8e68-4fda-9dac-71fdbf866ae0\"},{\"id\":\"8c9614fb-6097-4e44-b3d6-a4003adc69fb\"},{\"id\":\"f6b8c200-4bd7-4682-838e-0883593468f9\"},{\"id\":\"f72fdfaa-372a-4bd8-b043-7ba72be318e1\"},{\"id\":\"4250a972-ec84-4664-a140-a967dc31da98\"}],\"margin\":0,\"align\":\"start\",\"children\":[{\"type\":\"object\",\"name\":\"panel.models.markup.HTML\",\"id\":\"63cdec0f-6f1e-451e-95d6-77c52449540d\",\"attributes\":{\"css_classes\":[\"markdown\"],\"stylesheets\":[\"\\n:host(.pn-loading):before, .pn-loading:before {\\n  background-color: #c3c3c3;\\n  mask-size: auto calc(min(50%, 400px));\\n  -webkit-mask-size: auto calc(min(50%, 400px));\\n}\",{\"id\":\"375266f2-8e68-4fda-9dac-71fdbf866ae0\"},{\"id\":\"8c9614fb-6097-4e44-b3d6-a4003adc69fb\"},{\"id\":\"f5dbb702-0ff8-45c0-8c98-3428e14d363d\"},{\"id\":\"f72fdfaa-372a-4bd8-b043-7ba72be318e1\"},{\"id\":\"4250a972-ec84-4664-a140-a967dc31da98\"}],\"margin\":[5,10],\"align\":\"start\",\"text\":\"&lt;p&gt;\\u2139\\ufe0f No job selected.&lt;/p&gt;\\n\"}}]}}]}},{\"type\":\"object\",\"name\":\"panel.models.comm_manager.CommManager\",\"id\":\"1d772c0a-4fbe-4431-9ed7-5e3b47740048\",\"attributes\":{\"plot_id\":\"ba97a6db-512b-4880-9ace-2b423fb59520\",\"comm_id\":\"24d2fb518286420e87a09f008c65c556\",\"client_comm_id\":\"8fed0eb1bf2a47bb81a0261a3be11df9\"}}],\"defs\":[{\"type\":\"model\",\"name\":\"ReactiveHTML1\"},{\"type\":\"model\",\"name\":\"FlexBox1\",\"properties\":[{\"name\":\"align_content\",\"kind\":\"Any\",\"default\":\"flex-start\"},{\"name\":\"align_items\",\"kind\":\"Any\",\"default\":\"flex-start\"},{\"name\":\"flex_direction\",\"kind\":\"Any\",\"default\":\"row\"},{\"name\":\"flex_wrap\",\"kind\":\"Any\",\"default\":\"wrap\"},{\"name\":\"gap\",\"kind\":\"Any\",\"default\":\"\"},{\"name\":\"justify_content\",\"kind\":\"Any\",\"default\":\"flex-start\"}]},{\"type\":\"model\",\"name\":\"FloatPanel1\",\"properties\":[{\"name\":\"config\",\"kind\":\"Any\",\"default\":{\"type\":\"map\"}},{\"name\":\"contained\",\"kind\":\"Any\",\"default\":true},{\"name\":\"position\",\"kind\":\"Any\",\"default\":\"right-top\"},{\"name\":\"offsetx\",\"kind\":\"Any\",\"default\":null},{\"name\":\"offsety\",\"kind\":\"Any\",\"default\":null},{\"name\":\"theme\",\"kind\":\"Any\",\"default\":\"primary\"},{\"name\":\"status\",\"kind\":\"Any\",\"default\":\"normalized\"}]},{\"type\":\"model\",\"name\":\"GridStack1\",\"properties\":[{\"name\":\"ncols\",\"kind\":\"Any\",\"default\":null},{\"name\":\"nrows\",\"kind\":\"Any\",\"default\":null},{\"name\":\"allow_resize\",\"kind\":\"Any\",\"default\":true},{\"name\":\"allow_drag\",\"kind\":\"Any\",\"default\":true},{\"name\":\"state\",\"kind\":\"Any\",\"default\":[]}]},{\"type\":\"model\",\"name\":\"drag1\",\"properties\":[{\"name\":\"slider_width\",\"kind\":\"Any\",\"default\":5},{\"name\":\"slider_color\",\"kind\":\"Any\",\"default\":\"black\"},{\"name\":\"value\",\"kind\":\"Any\",\"default\":50}]},{\"type\":\"model\",\"name\":\"click1\",\"properties\":[{\"name\":\"terminal_output\",\"kind\":\"Any\",\"default\":\"\"},{\"name\":\"debug_name\",\"kind\":\"Any\",\"default\":\"\"},{\"name\":\"clears\",\"kind\":\"Any\",\"default\":0}]},{\"type\":\"model\",\"name\":\"FastWrapper1\",\"properties\":[{\"name\":\"object\",\"kind\":\"Any\",\"default\":null},{\"name\":\"style\",\"kind\":\"Any\",\"default\":null}]},{\"type\":\"model\",\"name\":\"NotificationArea1\",\"properties\":[{\"name\":\"js_events\",\"kind\":\"Any\",\"default\":{\"type\":\"map\"}},{\"name\":\"max_notifications\",\"kind\":\"Any\",\"default\":5},{\"name\":\"notifications\",\"kind\":\"Any\",\"default\":[]},{\"name\":\"position\",\"kind\":\"Any\",\"default\":\"bottom-right\"},{\"name\":\"_clear\",\"kind\":\"Any\",\"default\":0},{\"name\":\"types\",\"kind\":\"Any\",\"default\":[{\"type\":\"map\",\"entries\":[[\"type\",\"warning\"],[\"background\",\"#ffc107\"],[\"icon\",{\"type\":\"map\",\"entries\":[[\"className\",\"fas fa-exclamation-triangle\"],[\"tagName\",\"i\"],[\"color\",\"white\"]]}]]},{\"type\":\"map\",\"entries\":[[\"type\",\"info\"],[\"background\",\"#007bff\"],[\"icon\",{\"type\":\"map\",\"entries\":[[\"className\",\"fas fa-info-circle\"],[\"tagName\",\"i\"],[\"color\",\"white\"]]}]]}]}]},{\"type\":\"model\",\"name\":\"Notification\",\"properties\":[{\"name\":\"background\",\"kind\":\"Any\",\"default\":null},{\"name\":\"duration\",\"kind\":\"Any\",\"default\":3000},{\"name\":\"icon\",\"kind\":\"Any\",\"default\":null},{\"name\":\"message\",\"kind\":\"Any\",\"default\":\"\"},{\"name\":\"notification_type\",\"kind\":\"Any\",\"default\":null},{\"name\":\"_rendered\",\"kind\":\"Any\",\"default\":false},{\"name\":\"_destroyed\",\"kind\":\"Any\",\"default\":false}]},{\"type\":\"model\",\"name\":\"TemplateActions1\",\"properties\":[{\"name\":\"open_modal\",\"kind\":\"Any\",\"default\":0},{\"name\":\"close_modal\",\"kind\":\"Any\",\"default\":0}]},{\"type\":\"model\",\"name\":\"BootstrapTemplateActions1\",\"properties\":[{\"name\":\"open_modal\",\"kind\":\"Any\",\"default\":0},{\"name\":\"close_modal\",\"kind\":\"Any\",\"default\":0}]},{\"type\":\"model\",\"name\":\"TemplateEditor1\",\"properties\":[{\"name\":\"layout\",\"kind\":\"Any\",\"default\":[]}]},{\"type\":\"model\",\"name\":\"MaterialTemplateActions1\",\"properties\":[{\"name\":\"open_modal\",\"kind\":\"Any\",\"default\":0},{\"name\":\"close_modal\",\"kind\":\"Any\",\"default\":0}]},{\"type\":\"model\",\"name\":\"ReactiveESM1\",\"properties\":[{\"name\":\"esm_constants\",\"kind\":\"Any\",\"default\":{\"type\":\"map\"}}]},{\"type\":\"model\",\"name\":\"JSComponent1\",\"properties\":[{\"name\":\"esm_constants\",\"kind\":\"Any\",\"default\":{\"type\":\"map\"}}]},{\"type\":\"model\",\"name\":\"ReactComponent1\",\"properties\":[{\"name\":\"esm_constants\",\"kind\":\"Any\",\"default\":{\"type\":\"map\"}}]},{\"type\":\"model\",\"name\":\"AnyWidgetComponent1\",\"properties\":[{\"name\":\"esm_constants\",\"kind\":\"Any\",\"default\":{\"type\":\"map\"}}]},{\"type\":\"model\",\"name\":\"request_value1\",\"properties\":[{\"name\":\"fill\",\"kind\":\"Any\",\"default\":\"none\"},{\"name\":\"_synced\",\"kind\":\"Any\",\"default\":null},{\"name\":\"_request_sync\",\"kind\":\"Any\",\"default\":0}]}]}};\n",
       "  var render_items = [{\"docid\":\"be9cb4cc-f590-4bad-bfa1-617e839aa2d1\",\"roots\":{\"ba97a6db-512b-4880-9ace-2b423fb59520\":\"e3fa0b1d-acbf-4d94-ae42-0f60785ff12e\"},\"root_ids\":[\"ba97a6db-512b-4880-9ace-2b423fb59520\"]}];\n",
       "  var docs = Object.values(docs_json)\n",
       "  if (!docs) {\n",
       "    return\n",
       "  }\n",
       "  const py_version = docs[0].version.replace('rc', '-rc.').replace('.dev', '-dev.')\n",
       "  async function embed_document(root) {\n",
       "    var Bokeh = get_bokeh(root)\n",
       "    await Bokeh.embed.embed_items_notebook(docs_json, render_items);\n",
       "    for (const render_item of render_items) {\n",
       "      for (const root_id of render_item.root_ids) {\n",
       "\tconst id_el = document.getElementById(root_id)\n",
       "\tif (id_el.children.length && id_el.children[0].hasAttribute('data-root-id')) {\n",
       "\t  const root_el = id_el.children[0]\n",
       "\t  root_el.id = root_el.id + '-rendered'\n",
       "\t  for (const child of root_el.children) {\n",
       "            // Ensure JupyterLab does not capture keyboard shortcuts\n",
       "            // see: https://jupyterlab.readthedocs.io/en/4.1.x/extension/notebook.html#keyboard-interaction-model\n",
       "\t    child.setAttribute('data-lm-suppress-shortcuts', 'true')\n",
       "\t  }\n",
       "\t}\n",
       "      }\n",
       "    }\n",
       "  }\n",
       "  function get_bokeh(root) {\n",
       "    if (root.Bokeh === undefined) {\n",
       "      return null\n",
       "    } else if (root.Bokeh.version !== py_version) {\n",
       "      if (root.Bokeh.versions === undefined || !root.Bokeh.versions.has(py_version)) {\n",
       "\treturn null\n",
       "      }\n",
       "      return root.Bokeh.versions.get(py_version);\n",
       "    } else if (root.Bokeh.version === py_version) {\n",
       "      return root.Bokeh\n",
       "    }\n",
       "    return null\n",
       "  }\n",
       "  function is_loaded(root) {\n",
       "    var Bokeh = get_bokeh(root)\n",
       "    return (Bokeh != null && Bokeh.Panel !== undefined && ( root.Tabulator !== undefined) && ( root.Tabulator !== undefined))\n",
       "  }\n",
       "  if (is_loaded(root)) {\n",
       "    embed_document(root);\n",
       "  } else {\n",
       "    var attempts = 0;\n",
       "    var timer = setInterval(function(root) {\n",
       "      if (is_loaded(root)) {\n",
       "        clearInterval(timer);\n",
       "        embed_document(root);\n",
       "      } else if (document.readyState == \"complete\") {\n",
       "        attempts++;\n",
       "        if (attempts > 200) {\n",
       "          clearInterval(timer);\n",
       "\t  var Bokeh = get_bokeh(root)\n",
       "\t  if (Bokeh == null || Bokeh.Panel == null) {\n",
       "            console.warn(\"Panel: ERROR: Unable to run Panel code because Bokeh or Panel library is missing\");\n",
       "\t  } else {\n",
       "\t    console.warn(\"Panel: WARNING: Attempting to render but not all required libraries could be resolved.\")\n",
       "\t    embed_document(root)\n",
       "\t  }\n",
       "        }\n",
       "      }\n",
       "    }, 25, root)\n",
       "  }\n",
       "})(window);</script>"
      ],
      "text/plain": [
       "MainPanel(_processes=[ProcessSummary(title='Sleep Processor', description='Sleeps for `duration` seconds. Fails on purpose if `fail` is `True`. Returns the effective amount of sleep in seconds.', keywords=None, metadata=None, additionalParameters=None, id='sleep_a_while', version='0.0.0', jobControlOptions=None, outputTransmission=None, links=None), ProcessSummary(title='Prime Processor', description='Returns the list of prime numbers between a `min_val` and `max_val`. ', keywords=None, metadata=None, additionalParameters=None, id='primes_between', version='0.0.0', jobControlOptions=None, outputTransmission=None, links=None), ProcessSummary(title='Generate scene for testing', description='Simulate a set scene images slices for testing. Creates an xarray dataset with `periodicity` time slices and writes it as Zarr into a temporary location. Requires installed `dask`, `xarray`, and `zarr` packages.', keywords=None, metadata=None, additionalParameters=None, id='simulate_scene', version='0.0.0', jobControlOptions=None, outputTransmission=None, links=None), ProcessSummary(title='BaseModel Test', description=None, keywords=None, metadata=None, additionalParameters=None, id='return_base_model', version='0.0.0', jobControlOptions=None, outputTransmission=None, links=None)], _processes_dict={'sleep_a_while': ProcessDescription(title='Sleep Processor', description='Sleeps for `duration` seconds. Fails on purpose if `fail` is `True`. Returns the effective amount of sleep in seconds.', keywords=None, metadata=None, additionalParameters=None, id='sleep_a_while', version='0.0.0', jobControlOptions=None, outputTransmission=None, links=None, inputs={'duration': InputDescription(title='Duration', description=None, keywords=None, metadata=None, additionalParameters=None, minOccurs=0, maxOccurs=None, schema_=Schema(field_ref=None, title=None, multipleOf=None, maximum=None, exclusiveMaximum=False, minimum=None, exclusiveMinimum=False, maxLength=None, minLength=0, pattern=None, maxItems=None, minItems=0, uniqueItems=False, maxProperties=None, minProperties=0, required=None, enum=None, type=<DataType.number: 'number'>, not_=None, allOf=None, oneOf=None, anyOf=None, items=None, properties=None, additionalProperties=True, description=None, format=None, default=10.0, nullable=False, readOnly=False, writeOnly=False, example=None, examples=None, deprecated=False, contentMediaType=None, contentEncoding=None, contentSchema=None)), 'fail': InputDescription(title='Fail', description=None, keywords=None, metadata=None, additionalParameters=None, minOccurs=0, maxOccurs=None, schema_=Schema(field_ref=None, title=None, multipleOf=None, maximum=None, exclusiveMaximum=False, minimum=None, exclusiveMinimum=False, maxLength=None, minLength=0, pattern=None, maxItems=None, minItems=0, uniqueItems=False, maxProperties=None, minProperties=0, required=None, enum=None, type=<DataType.boolean: 'boolean'>, not_=None, allOf=None, oneOf=None, anyOf=None, items=None, properties=None, additionalProperties=True, description=None, format=None, default=False, nullable=False, readOnly=False, writeOnly=False, example=None, examples=None, deprecated=False, contentMediaType=None, contentEncoding=None, contentSchema=None))}, outputs={'return_value': OutputDescription(title='Return Value', description=None, keywords=None, metadata=None, additionalParameters=None, schema_=Schema(field_ref=None, title=None, multipleOf=None, maximum=None, exclusiveMaximum=False, minimum=None, exclusiveMinimum=False, maxLength=None, minLength=0, pattern=None, maxItems=None, minItems=0, uniqueItems=False, maxProperties=None, minProperties=0, required=None, enum=None, type=<DataType.number: 'number'>, not_=None, allOf=None, oneOf=None, anyOf=None, items=None, properties=None, additionalProperties=True, description=None, format=None, default=None, nullable=False, readOnly=False, writeOnly=False, example=None, examples=None, deprecated=False, contentMediaType=None, contentEncoding=None, contentSchema=None))})}, name='MainPanel00458')"
      ]
     },
     "execution_count": 10,
     "metadata": {
      "application/vnd.holoviews_exec.v0+json": {
       "id": "ba97a6db-512b-4880-9ace-2b423fb59520"
      }
     },
     "output_type": "execute_result"
    }
   ],
   "source": [
    "client.show()"
   ]
  },
  {
   "cell_type": "code",
   "execution_count": 11,
   "id": "736d52d8-d91a-435b-8dfb-b016a5139201",
   "metadata": {},
   "outputs": [
    {
     "data": {
      "application/json": {
       "inputs": {
        "bbox": [
         -15.91875,
         32.597544,
         10.448438,
         47.081191
        ],
        "end_date": "2025-02-01",
        "output_path": "test.zarr",
        "periodicity": 1,
        "resolution": 0.5,
        "start_date": "2025-01-01",
        "var_names": "a, b, c"
       },
       "outputs": {
        "return_value": {
         "format": {
          "encoding": "UTF-8",
          "mediaType": "application/json",
          "schema": {
           "properties": {
            "href": {
             "title": "Href",
             "type": "string"
            },
            "hreflang": {
             "examples": [
              "en"
             ],
             "nullable": true,
             "title": "Hreflang",
             "type": "string"
            },
            "rel": {
             "examples": [
              "service"
             ],
             "nullable": true,
             "title": "Rel",
             "type": "string"
            },
            "title": {
             "nullable": true,
             "title": "Title",
             "type": "string"
            },
            "type": {
             "examples": [
              "application/json"
             ],
             "nullable": true,
             "title": "Type",
             "type": "string"
            }
           },
           "required": [
            "href"
           ],
           "type": "object"
          }
         }
        }
       }
      },
      "text/plain": [
       "ProcessRequest(inputs={'var_names': 'a, b, c', 'bbox': [-15.91875, 32.597544, 10.448438, 47.081191], 'resolution': 0.5, 'start_date': '2025-01-01', 'end_date': '2025-02-01', 'periodicity': 1, 'output_path': 'test.zarr'}, outputs={'return_value': Output(format=Format(mediaType='application/json', encoding='UTF-8', schema_=Schema(field_ref=None, title=None, multipleOf=None, maximum=None, exclusiveMaximum=False, minimum=None, exclusiveMinimum=False, maxLength=None, minLength=0, pattern=None, maxItems=None, minItems=0, uniqueItems=False, maxProperties=None, minProperties=0, required=['href'], enum=None, type=<DataType.object: 'object'>, not_=None, allOf=None, oneOf=None, anyOf=None, items=None, properties={'href': Schema(field_ref=None, title='Href', multipleOf=None, maximum=None, exclusiveMaximum=False, minimum=None, exclusiveMinimum=False, maxLength=None, minLength=0, pattern=None, maxItems=None, minItems=0, uniqueItems=False, maxProperties=None, minProperties=0, required=None, enum=None, type=<DataType.string: 'string'>, not_=None, allOf=None, oneOf=None, anyOf=None, items=None, properties=None, additionalProperties=True, description=None, format=None, default=None, nullable=False, readOnly=False, writeOnly=False, example=None, examples=None, deprecated=False, contentMediaType=None, contentEncoding=None, contentSchema=None), 'rel': Schema(field_ref=None, title='Rel', multipleOf=None, maximum=None, exclusiveMaximum=False, minimum=None, exclusiveMinimum=False, maxLength=None, minLength=0, pattern=None, maxItems=None, minItems=0, uniqueItems=False, maxProperties=None, minProperties=0, required=None, enum=None, type=<DataType.string: 'string'>, not_=None, allOf=None, oneOf=None, anyOf=None, items=None, properties=None, additionalProperties=True, description=None, format=None, default=None, nullable=True, readOnly=False, writeOnly=False, example=None, examples=['service'], deprecated=False, contentMediaType=None, contentEncoding=None, contentSchema=None), 'type': Schema(field_ref=None, title='Type', multipleOf=None, maximum=None, exclusiveMaximum=False, minimum=None, exclusiveMinimum=False, maxLength=None, minLength=0, pattern=None, maxItems=None, minItems=0, uniqueItems=False, maxProperties=None, minProperties=0, required=None, enum=None, type=<DataType.string: 'string'>, not_=None, allOf=None, oneOf=None, anyOf=None, items=None, properties=None, additionalProperties=True, description=None, format=None, default=None, nullable=True, readOnly=False, writeOnly=False, example=None, examples=['application/json'], deprecated=False, contentMediaType=None, contentEncoding=None, contentSchema=None), 'hreflang': Schema(field_ref=None, title='Hreflang', multipleOf=None, maximum=None, exclusiveMaximum=False, minimum=None, exclusiveMinimum=False, maxLength=None, minLength=0, pattern=None, maxItems=None, minItems=0, uniqueItems=False, maxProperties=None, minProperties=0, required=None, enum=None, type=<DataType.string: 'string'>, not_=None, allOf=None, oneOf=None, anyOf=None, items=None, properties=None, additionalProperties=True, description=None, format=None, default=None, nullable=True, readOnly=False, writeOnly=False, example=None, examples=['en'], deprecated=False, contentMediaType=None, contentEncoding=None, contentSchema=None), 'title': Schema(field_ref=None, title='Title', multipleOf=None, maximum=None, exclusiveMaximum=False, minimum=None, exclusiveMinimum=False, maxLength=None, minLength=0, pattern=None, maxItems=None, minItems=0, uniqueItems=False, maxProperties=None, minProperties=0, required=None, enum=None, type=<DataType.string: 'string'>, not_=None, allOf=None, oneOf=None, anyOf=None, items=None, properties=None, additionalProperties=True, description=None, format=None, default=None, nullable=True, readOnly=False, writeOnly=False, example=None, examples=None, deprecated=False, contentMediaType=None, contentEncoding=None, contentSchema=None)}, additionalProperties=True, description=None, format=None, default=None, nullable=False, readOnly=False, writeOnly=False, example=None, examples=None, deprecated=False, contentMediaType=None, contentEncoding=None, contentSchema=None)), transmissionMode=<TransmissionMode.value: 'value'>)}, response=<ResponseType.raw: 'raw'>, subscriber=None)"
      ]
     },
     "execution_count": 11,
     "metadata": {
      "application/json": {
       "root": "ProcessRequest object:"
      }
     },
     "output_type": "execute_result"
    }
   ],
   "source": [
    "_request"
   ]
  },
  {
   "cell_type": "code",
   "execution_count": null,
   "id": "027d2bbc-1816-4c14-9616-8239b9210d1f",
   "metadata": {},
   "outputs": [],
   "source": [
    "# client.stop_updating()"
   ]
  },
  {
   "cell_type": "code",
   "execution_count": 12,
   "id": "8c52f9fb-300f-4de0-b64d-9f37fd028890",
   "metadata": {},
   "outputs": [
    {
     "data": {},
     "metadata": {},
     "output_type": "display_data"
    },
    {
     "data": {
      "application/vnd.holoviews_exec.v0+json": "",
      "text/html": [
       "<div id='5cdaaeb1-a5d7-48d0-9fc5-73282890f6f7'>\n",
       "  <div id=\"c75f12ea-ce57-4ad9-8b61-afd663b9c4fa\" data-root-id=\"5cdaaeb1-a5d7-48d0-9fc5-73282890f6f7\" style=\"display: contents;\"></div>\n",
       "</div>\n",
       "<script type=\"application/javascript\">(function(root) {\n",
       "  var docs_json = {\"d19f9613-8869-4dd6-ac23-f70009430c2f\":{\"version\":\"3.7.3\",\"title\":\"Bokeh Application\",\"roots\":[{\"type\":\"object\",\"name\":\"panel.models.layout.Column\",\"id\":\"5cdaaeb1-a5d7-48d0-9fc5-73282890f6f7\",\"attributes\":{\"name\":\"Column00864\",\"stylesheets\":[\"\\n:host(.pn-loading):before, .pn-loading:before {\\n  background-color: #c3c3c3;\\n  mask-size: auto calc(min(50%, 400px));\\n  -webkit-mask-size: auto calc(min(50%, 400px));\\n}\",{\"type\":\"object\",\"name\":\"ImportedStyleSheet\",\"id\":\"eefe0618-3969-4a8f-9c38-6385339ea6b9\",\"attributes\":{\"url\":\"https://cdn.holoviz.org/panel/1.7.1/dist/css/loading.css\"}},{\"type\":\"object\",\"name\":\"ImportedStyleSheet\",\"id\":\"25c2cb4e-e65a-4458-961c-9e2fd75ef476\",\"attributes\":{\"url\":\"https://cdn.holoviz.org/panel/1.7.1/dist/bundled/font-awesome/css/all.min.css\"}},{\"type\":\"object\",\"name\":\"ImportedStyleSheet\",\"id\":\"09557421-c2ff-4eb1-8904-d6fd67dc60e9\",\"attributes\":{\"url\":\"https://cdn.holoviz.org/panel/1.7.1/dist/css/listpanel.css\"}},{\"type\":\"object\",\"name\":\"ImportedStyleSheet\",\"id\":\"e68cb142-987a-436a-86b7-e40ff5eb915c\",\"attributes\":{\"url\":\"https://cdn.holoviz.org/panel/1.7.1/dist/bundled/theme/default.css\"}},{\"type\":\"object\",\"name\":\"ImportedStyleSheet\",\"id\":\"4fe26665-332e-428b-adf3-efd03362a254\",\"attributes\":{\"url\":\"https://cdn.holoviz.org/panel/1.7.1/dist/bundled/theme/native.css\"}}],\"margin\":0,\"align\":\"start\",\"children\":[{\"type\":\"object\",\"name\":\"panel.models.tabulator.DataTabulator\",\"id\":\"28fe1264-2f39-4ca8-af55-138b6634b709\",\"attributes\":{\"subscribed_events\":{\"type\":\"set\",\"entries\":[\"table-edit\",\"selection-change\",\"cell-click\"]},\"stylesheets\":[\"\\n:host(.pn-loading):before, .pn-loading:before {\\n  background-color: #c3c3c3;\\n  mask-size: auto calc(min(50%, 400px));\\n  -webkit-mask-size: auto calc(min(50%, 400px));\\n}\",{\"id\":\"eefe0618-3969-4a8f-9c38-6385339ea6b9\"},{\"id\":\"25c2cb4e-e65a-4458-961c-9e2fd75ef476\"},{\"id\":\"25c2cb4e-e65a-4458-961c-9e2fd75ef476\"},{\"id\":\"e68cb142-987a-436a-86b7-e40ff5eb915c\"},{\"id\":\"4fe26665-332e-428b-adf3-efd03362a254\"},{\"type\":\"object\",\"name\":\"ImportedStyleSheet\",\"id\":\"baf27eed-e964-4527-adbf-dbf2dddc21f3\",\"attributes\":{\"url\":\"https://cdn.holoviz.org/panel/1.7.1/dist/bundled/datatabulator/tabulator-tables@6.3.1/dist/css/tabulator.min.css\"}}],\"width\":600,\"height\":300,\"margin\":[5,10],\"sizing_mode\":\"fixed\",\"align\":\"start\",\"configuration\":{\"type\":\"map\",\"entries\":[[\"columns\",[]],[\"selectable\",true],[\"dataTree\",false],[\"height\",300]]},\"editable\":false,\"hidden_columns\":[\"index\"],\"source\":{\"type\":\"object\",\"name\":\"ColumnDataSource\",\"id\":\"2e754b40-9277-4fdb-979d-06f1a36b08ee\",\"attributes\":{\"selected\":{\"type\":\"object\",\"name\":\"Selection\",\"id\":\"b7dde51d-3baf-431a-a930-d4455ca3fcf2\",\"attributes\":{\"indices\":[],\"line_indices\":[]}},\"selection_policy\":{\"type\":\"object\",\"name\":\"UnionRenderers\",\"id\":\"2d0f54b8-7778-456a-8382-bb4a879d09df\"},\"data\":{\"type\":\"map\",\"entries\":[[\"index\",{\"type\":\"ndarray\",\"array\":{\"type\":\"bytes\",\"data\":\"\"},\"shape\":[0],\"dtype\":\"int32\",\"order\":\"little\"}]]}}},\"page\":1,\"select_mode\":true,\"selectable_rows\":null}},{\"type\":\"object\",\"name\":\"Row\",\"id\":\"a685bd90-3d5b-4c8b-9e2b-5d07300b20b1\",\"attributes\":{\"name\":\"Row00861\",\"stylesheets\":[\"\\n:host(.pn-loading):before, .pn-loading:before {\\n  background-color: #c3c3c3;\\n  mask-size: auto calc(min(50%, 400px));\\n  -webkit-mask-size: auto calc(min(50%, 400px));\\n}\",{\"id\":\"eefe0618-3969-4a8f-9c38-6385339ea6b9\"},{\"id\":\"25c2cb4e-e65a-4458-961c-9e2fd75ef476\"},{\"id\":\"09557421-c2ff-4eb1-8904-d6fd67dc60e9\"},{\"id\":\"e68cb142-987a-436a-86b7-e40ff5eb915c\"},{\"id\":\"4fe26665-332e-428b-adf3-efd03362a254\"}],\"margin\":0,\"align\":\"start\",\"children\":[{\"type\":\"object\",\"name\":\"panel.models.widgets.Button\",\"id\":\"c1f95886-b953-48d7-811e-05083245d23d\",\"attributes\":{\"button_type\":\"primary\",\"subscribed_events\":{\"type\":\"set\",\"entries\":[\"button_click\"]},\"css_classes\":[\"solid\"],\"stylesheets\":[\"\\n:host(.pn-loading):before, .pn-loading:before {\\n  background-color: #c3c3c3;\\n  mask-size: auto calc(min(50%, 400px));\\n  -webkit-mask-size: auto calc(min(50%, 400px));\\n}\",{\"id\":\"eefe0618-3969-4a8f-9c38-6385339ea6b9\"},{\"id\":\"25c2cb4e-e65a-4458-961c-9e2fd75ef476\"},{\"type\":\"object\",\"name\":\"ImportedStyleSheet\",\"id\":\"d17ab84f-73cb-43ad-8b8d-5215ea0cf637\",\"attributes\":{\"url\":\"https://cdn.holoviz.org/panel/1.7.1/dist/css/button.css\"}},{\"id\":\"e68cb142-987a-436a-86b7-e40ff5eb915c\"},{\"id\":\"4fe26665-332e-428b-adf3-efd03362a254\"}],\"disabled\":true,\"margin\":[5,10],\"align\":\"start\",\"label\":\"Cancel\"}},{\"type\":\"object\",\"name\":\"panel.models.widgets.Button\",\"id\":\"e59cb5d8-aa08-4b87-81a4-628b7406cd00\",\"attributes\":{\"button_type\":\"danger\",\"subscribed_events\":{\"type\":\"set\",\"entries\":[\"button_click\"]},\"css_classes\":[\"solid\"],\"stylesheets\":[\"\\n:host(.pn-loading):before, .pn-loading:before {\\n  background-color: #c3c3c3;\\n  mask-size: auto calc(min(50%, 400px));\\n  -webkit-mask-size: auto calc(min(50%, 400px));\\n}\",{\"id\":\"eefe0618-3969-4a8f-9c38-6385339ea6b9\"},{\"id\":\"25c2cb4e-e65a-4458-961c-9e2fd75ef476\"},{\"id\":\"d17ab84f-73cb-43ad-8b8d-5215ea0cf637\"},{\"id\":\"e68cb142-987a-436a-86b7-e40ff5eb915c\"},{\"id\":\"4fe26665-332e-428b-adf3-efd03362a254\"}],\"disabled\":true,\"margin\":[5,10],\"align\":\"start\",\"label\":\"Delete\"}},{\"type\":\"object\",\"name\":\"panel.models.widgets.Button\",\"id\":\"9d968fba-6d38-405f-a8b1-7d2a1a8f9efc\",\"attributes\":{\"button_type\":\"primary\",\"subscribed_events\":{\"type\":\"set\",\"entries\":[\"button_click\"]},\"css_classes\":[\"solid\"],\"stylesheets\":[\"\\n:host(.pn-loading):before, .pn-loading:before {\\n  background-color: #c3c3c3;\\n  mask-size: auto calc(min(50%, 400px));\\n  -webkit-mask-size: auto calc(min(50%, 400px));\\n}\",{\"id\":\"eefe0618-3969-4a8f-9c38-6385339ea6b9\"},{\"id\":\"25c2cb4e-e65a-4458-961c-9e2fd75ef476\"},{\"id\":\"d17ab84f-73cb-43ad-8b8d-5215ea0cf637\"},{\"id\":\"e68cb142-987a-436a-86b7-e40ff5eb915c\"},{\"id\":\"4fe26665-332e-428b-adf3-efd03362a254\"}],\"disabled\":true,\"margin\":[5,10],\"align\":\"start\",\"label\":\"Restart\"}},{\"type\":\"object\",\"name\":\"panel.models.widgets.Button\",\"id\":\"9cbf8186-dfe9-49de-b342-a9db34b7144e\",\"attributes\":{\"button_type\":\"primary\",\"subscribed_events\":{\"type\":\"set\",\"entries\":[\"button_click\"]},\"css_classes\":[\"solid\"],\"stylesheets\":[\"\\n:host(.pn-loading):before, .pn-loading:before {\\n  background-color: #c3c3c3;\\n  mask-size: auto calc(min(50%, 400px));\\n  -webkit-mask-size: auto calc(min(50%, 400px));\\n}\",{\"id\":\"eefe0618-3969-4a8f-9c38-6385339ea6b9\"},{\"id\":\"25c2cb4e-e65a-4458-961c-9e2fd75ef476\"},{\"id\":\"d17ab84f-73cb-43ad-8b8d-5215ea0cf637\"},{\"id\":\"e68cb142-987a-436a-86b7-e40ff5eb915c\"},{\"id\":\"4fe26665-332e-428b-adf3-efd03362a254\"}],\"disabled\":true,\"margin\":[5,10],\"align\":\"start\",\"label\":\"Get Results\"}}]}},{\"type\":\"object\",\"name\":\"panel.models.markup.HTML\",\"id\":\"79268696-fee0-4c3d-84b4-aa04c1af60ae\",\"attributes\":{\"css_classes\":[\"markdown\"],\"stylesheets\":[\"\\n:host(.pn-loading):before, .pn-loading:before {\\n  background-color: #c3c3c3;\\n  mask-size: auto calc(min(50%, 400px));\\n  -webkit-mask-size: auto calc(min(50%, 400px));\\n}\",{\"id\":\"eefe0618-3969-4a8f-9c38-6385339ea6b9\"},{\"id\":\"25c2cb4e-e65a-4458-961c-9e2fd75ef476\"},{\"type\":\"object\",\"name\":\"ImportedStyleSheet\",\"id\":\"c609ebad-0f3b-4a15-80a4-dae506f54c00\",\"attributes\":{\"url\":\"https://cdn.holoviz.org/panel/1.7.1/dist/css/markdown.css\"}},{\"id\":\"e68cb142-987a-436a-86b7-e40ff5eb915c\"},{\"id\":\"4fe26665-332e-428b-adf3-efd03362a254\"}],\"margin\":[5,10],\"align\":\"start\"}}]}},{\"type\":\"object\",\"name\":\"panel.models.comm_manager.CommManager\",\"id\":\"8f2431e0-d5af-47d5-bb0f-5634d1bedd31\",\"attributes\":{\"plot_id\":\"5cdaaeb1-a5d7-48d0-9fc5-73282890f6f7\",\"comm_id\":\"6350938e66e6471297ef1a150be6272a\",\"client_comm_id\":\"2ad0de3d48f04295bee56e3ec703cbe9\"}}],\"defs\":[{\"type\":\"model\",\"name\":\"ReactiveHTML1\"},{\"type\":\"model\",\"name\":\"FlexBox1\",\"properties\":[{\"name\":\"align_content\",\"kind\":\"Any\",\"default\":\"flex-start\"},{\"name\":\"align_items\",\"kind\":\"Any\",\"default\":\"flex-start\"},{\"name\":\"flex_direction\",\"kind\":\"Any\",\"default\":\"row\"},{\"name\":\"flex_wrap\",\"kind\":\"Any\",\"default\":\"wrap\"},{\"name\":\"gap\",\"kind\":\"Any\",\"default\":\"\"},{\"name\":\"justify_content\",\"kind\":\"Any\",\"default\":\"flex-start\"}]},{\"type\":\"model\",\"name\":\"FloatPanel1\",\"properties\":[{\"name\":\"config\",\"kind\":\"Any\",\"default\":{\"type\":\"map\"}},{\"name\":\"contained\",\"kind\":\"Any\",\"default\":true},{\"name\":\"position\",\"kind\":\"Any\",\"default\":\"right-top\"},{\"name\":\"offsetx\",\"kind\":\"Any\",\"default\":null},{\"name\":\"offsety\",\"kind\":\"Any\",\"default\":null},{\"name\":\"theme\",\"kind\":\"Any\",\"default\":\"primary\"},{\"name\":\"status\",\"kind\":\"Any\",\"default\":\"normalized\"}]},{\"type\":\"model\",\"name\":\"GridStack1\",\"properties\":[{\"name\":\"ncols\",\"kind\":\"Any\",\"default\":null},{\"name\":\"nrows\",\"kind\":\"Any\",\"default\":null},{\"name\":\"allow_resize\",\"kind\":\"Any\",\"default\":true},{\"name\":\"allow_drag\",\"kind\":\"Any\",\"default\":true},{\"name\":\"state\",\"kind\":\"Any\",\"default\":[]}]},{\"type\":\"model\",\"name\":\"drag1\",\"properties\":[{\"name\":\"slider_width\",\"kind\":\"Any\",\"default\":5},{\"name\":\"slider_color\",\"kind\":\"Any\",\"default\":\"black\"},{\"name\":\"value\",\"kind\":\"Any\",\"default\":50}]},{\"type\":\"model\",\"name\":\"click1\",\"properties\":[{\"name\":\"terminal_output\",\"kind\":\"Any\",\"default\":\"\"},{\"name\":\"debug_name\",\"kind\":\"Any\",\"default\":\"\"},{\"name\":\"clears\",\"kind\":\"Any\",\"default\":0}]},{\"type\":\"model\",\"name\":\"FastWrapper1\",\"properties\":[{\"name\":\"object\",\"kind\":\"Any\",\"default\":null},{\"name\":\"style\",\"kind\":\"Any\",\"default\":null}]},{\"type\":\"model\",\"name\":\"NotificationArea1\",\"properties\":[{\"name\":\"js_events\",\"kind\":\"Any\",\"default\":{\"type\":\"map\"}},{\"name\":\"max_notifications\",\"kind\":\"Any\",\"default\":5},{\"name\":\"notifications\",\"kind\":\"Any\",\"default\":[]},{\"name\":\"position\",\"kind\":\"Any\",\"default\":\"bottom-right\"},{\"name\":\"_clear\",\"kind\":\"Any\",\"default\":0},{\"name\":\"types\",\"kind\":\"Any\",\"default\":[{\"type\":\"map\",\"entries\":[[\"type\",\"warning\"],[\"background\",\"#ffc107\"],[\"icon\",{\"type\":\"map\",\"entries\":[[\"className\",\"fas fa-exclamation-triangle\"],[\"tagName\",\"i\"],[\"color\",\"white\"]]}]]},{\"type\":\"map\",\"entries\":[[\"type\",\"info\"],[\"background\",\"#007bff\"],[\"icon\",{\"type\":\"map\",\"entries\":[[\"className\",\"fas fa-info-circle\"],[\"tagName\",\"i\"],[\"color\",\"white\"]]}]]}]}]},{\"type\":\"model\",\"name\":\"Notification\",\"properties\":[{\"name\":\"background\",\"kind\":\"Any\",\"default\":null},{\"name\":\"duration\",\"kind\":\"Any\",\"default\":3000},{\"name\":\"icon\",\"kind\":\"Any\",\"default\":null},{\"name\":\"message\",\"kind\":\"Any\",\"default\":\"\"},{\"name\":\"notification_type\",\"kind\":\"Any\",\"default\":null},{\"name\":\"_rendered\",\"kind\":\"Any\",\"default\":false},{\"name\":\"_destroyed\",\"kind\":\"Any\",\"default\":false}]},{\"type\":\"model\",\"name\":\"TemplateActions1\",\"properties\":[{\"name\":\"open_modal\",\"kind\":\"Any\",\"default\":0},{\"name\":\"close_modal\",\"kind\":\"Any\",\"default\":0}]},{\"type\":\"model\",\"name\":\"BootstrapTemplateActions1\",\"properties\":[{\"name\":\"open_modal\",\"kind\":\"Any\",\"default\":0},{\"name\":\"close_modal\",\"kind\":\"Any\",\"default\":0}]},{\"type\":\"model\",\"name\":\"TemplateEditor1\",\"properties\":[{\"name\":\"layout\",\"kind\":\"Any\",\"default\":[]}]},{\"type\":\"model\",\"name\":\"MaterialTemplateActions1\",\"properties\":[{\"name\":\"open_modal\",\"kind\":\"Any\",\"default\":0},{\"name\":\"close_modal\",\"kind\":\"Any\",\"default\":0}]},{\"type\":\"model\",\"name\":\"ReactiveESM1\",\"properties\":[{\"name\":\"esm_constants\",\"kind\":\"Any\",\"default\":{\"type\":\"map\"}}]},{\"type\":\"model\",\"name\":\"JSComponent1\",\"properties\":[{\"name\":\"esm_constants\",\"kind\":\"Any\",\"default\":{\"type\":\"map\"}}]},{\"type\":\"model\",\"name\":\"ReactComponent1\",\"properties\":[{\"name\":\"esm_constants\",\"kind\":\"Any\",\"default\":{\"type\":\"map\"}}]},{\"type\":\"model\",\"name\":\"AnyWidgetComponent1\",\"properties\":[{\"name\":\"esm_constants\",\"kind\":\"Any\",\"default\":{\"type\":\"map\"}}]},{\"type\":\"model\",\"name\":\"request_value1\",\"properties\":[{\"name\":\"fill\",\"kind\":\"Any\",\"default\":\"none\"},{\"name\":\"_synced\",\"kind\":\"Any\",\"default\":null},{\"name\":\"_request_sync\",\"kind\":\"Any\",\"default\":0}]}]}};\n",
       "  var render_items = [{\"docid\":\"d19f9613-8869-4dd6-ac23-f70009430c2f\",\"roots\":{\"5cdaaeb1-a5d7-48d0-9fc5-73282890f6f7\":\"c75f12ea-ce57-4ad9-8b61-afd663b9c4fa\"},\"root_ids\":[\"5cdaaeb1-a5d7-48d0-9fc5-73282890f6f7\"]}];\n",
       "  var docs = Object.values(docs_json)\n",
       "  if (!docs) {\n",
       "    return\n",
       "  }\n",
       "  const py_version = docs[0].version.replace('rc', '-rc.').replace('.dev', '-dev.')\n",
       "  async function embed_document(root) {\n",
       "    var Bokeh = get_bokeh(root)\n",
       "    await Bokeh.embed.embed_items_notebook(docs_json, render_items);\n",
       "    for (const render_item of render_items) {\n",
       "      for (const root_id of render_item.root_ids) {\n",
       "\tconst id_el = document.getElementById(root_id)\n",
       "\tif (id_el.children.length && id_el.children[0].hasAttribute('data-root-id')) {\n",
       "\t  const root_el = id_el.children[0]\n",
       "\t  root_el.id = root_el.id + '-rendered'\n",
       "\t  for (const child of root_el.children) {\n",
       "            // Ensure JupyterLab does not capture keyboard shortcuts\n",
       "            // see: https://jupyterlab.readthedocs.io/en/4.1.x/extension/notebook.html#keyboard-interaction-model\n",
       "\t    child.setAttribute('data-lm-suppress-shortcuts', 'true')\n",
       "\t  }\n",
       "\t}\n",
       "      }\n",
       "    }\n",
       "  }\n",
       "  function get_bokeh(root) {\n",
       "    if (root.Bokeh === undefined) {\n",
       "      return null\n",
       "    } else if (root.Bokeh.version !== py_version) {\n",
       "      if (root.Bokeh.versions === undefined || !root.Bokeh.versions.has(py_version)) {\n",
       "\treturn null\n",
       "      }\n",
       "      return root.Bokeh.versions.get(py_version);\n",
       "    } else if (root.Bokeh.version === py_version) {\n",
       "      return root.Bokeh\n",
       "    }\n",
       "    return null\n",
       "  }\n",
       "  function is_loaded(root) {\n",
       "    var Bokeh = get_bokeh(root)\n",
       "    return (Bokeh != null && Bokeh.Panel !== undefined && ( root.Tabulator !== undefined) && ( root.Tabulator !== undefined))\n",
       "  }\n",
       "  if (is_loaded(root)) {\n",
       "    embed_document(root);\n",
       "  } else {\n",
       "    var attempts = 0;\n",
       "    var timer = setInterval(function(root) {\n",
       "      if (is_loaded(root)) {\n",
       "        clearInterval(timer);\n",
       "        embed_document(root);\n",
       "      } else if (document.readyState == \"complete\") {\n",
       "        attempts++;\n",
       "        if (attempts > 200) {\n",
       "          clearInterval(timer);\n",
       "\t  var Bokeh = get_bokeh(root)\n",
       "\t  if (Bokeh == null || Bokeh.Panel == null) {\n",
       "            console.warn(\"Panel: ERROR: Unable to run Panel code because Bokeh or Panel library is missing\");\n",
       "\t  } else {\n",
       "\t    console.warn(\"Panel: WARNING: Attempting to render but not all required libraries could be resolved.\")\n",
       "\t    embed_document(root)\n",
       "\t  }\n",
       "        }\n",
       "      }\n",
       "    }, 25, root)\n",
       "  }\n",
       "})(window);</script>"
      ],
      "text/plain": [
       "JobsPanel(name='JobsPanel00855')"
      ]
     },
     "execution_count": 12,
     "metadata": {
      "application/vnd.holoviews_exec.v0+json": {
       "id": "5cdaaeb1-a5d7-48d0-9fc5-73282890f6f7"
      }
     },
     "output_type": "execute_result"
    }
   ],
   "source": [
    "client.show_jobs()"
   ]
  },
  {
   "cell_type": "code",
   "execution_count": null,
   "id": "d3815528-3ba8-4328-b9e2-a97797bea532",
   "metadata": {},
   "outputs": [],
   "source": [
    "client.show_job(\"job_0\")"
   ]
  },
  {
   "cell_type": "code",
   "execution_count": 13,
   "id": "133234e0-e393-4384-972c-de5cbaa3d91c",
   "metadata": {},
   "outputs": [
    {
     "data": {
      "application/json": {
       "return_value": {
        "href": "file:///C:/Users/norma/Projects/s2gos-controller/notebooks/test.zarr",
        "hreflang": null,
        "rel": null,
        "title": null,
        "type": "application/zarr"
       }
      },
      "text/plain": [
       "{'return_value': {'href': 'file:///C:/Users/norma/Projects/s2gos-controller/notebooks/test.zarr',\n",
       "  'rel': None,\n",
       "  'type': 'application/zarr',\n",
       "  'hreflang': None,\n",
       "  'title': None}}"
      ]
     },
     "execution_count": 13,
     "metadata": {
      "application/json": {
       "root": "Results:"
      }
     },
     "output_type": "execute_result"
    }
   ],
   "source": [
    "_results"
   ]
  },
  {
   "cell_type": "code",
   "execution_count": 14,
   "id": "cea797e0-9977-4727-98df-b4d6a3cccf65",
   "metadata": {},
   "outputs": [
    {
     "data": {
      "text/html": [
       "<div><svg style=\"position: absolute; width: 0; height: 0; overflow: hidden\">\n",
       "<defs>\n",
       "<symbol id=\"icon-database\" viewBox=\"0 0 32 32\">\n",
       "<path d=\"M16 0c-8.837 0-16 2.239-16 5v4c0 2.761 7.163 5 16 5s16-2.239 16-5v-4c0-2.761-7.163-5-16-5z\"></path>\n",
       "<path d=\"M16 17c-8.837 0-16-2.239-16-5v6c0 2.761 7.163 5 16 5s16-2.239 16-5v-6c0 2.761-7.163 5-16 5z\"></path>\n",
       "<path d=\"M16 26c-8.837 0-16-2.239-16-5v6c0 2.761 7.163 5 16 5s16-2.239 16-5v-6c0 2.761-7.163 5-16 5z\"></path>\n",
       "</symbol>\n",
       "<symbol id=\"icon-file-text2\" viewBox=\"0 0 32 32\">\n",
       "<path d=\"M28.681 7.159c-0.694-0.947-1.662-2.053-2.724-3.116s-2.169-2.030-3.116-2.724c-1.612-1.182-2.393-1.319-2.841-1.319h-15.5c-1.378 0-2.5 1.121-2.5 2.5v27c0 1.378 1.122 2.5 2.5 2.5h23c1.378 0 2.5-1.122 2.5-2.5v-19.5c0-0.448-0.137-1.23-1.319-2.841zM24.543 5.457c0.959 0.959 1.712 1.825 2.268 2.543h-4.811v-4.811c0.718 0.556 1.584 1.309 2.543 2.268zM28 29.5c0 0.271-0.229 0.5-0.5 0.5h-23c-0.271 0-0.5-0.229-0.5-0.5v-27c0-0.271 0.229-0.5 0.5-0.5 0 0 15.499-0 15.5 0v7c0 0.552 0.448 1 1 1h7v19.5z\"></path>\n",
       "<path d=\"M23 26h-14c-0.552 0-1-0.448-1-1s0.448-1 1-1h14c0.552 0 1 0.448 1 1s-0.448 1-1 1z\"></path>\n",
       "<path d=\"M23 22h-14c-0.552 0-1-0.448-1-1s0.448-1 1-1h14c0.552 0 1 0.448 1 1s-0.448 1-1 1z\"></path>\n",
       "<path d=\"M23 18h-14c-0.552 0-1-0.448-1-1s0.448-1 1-1h14c0.552 0 1 0.448 1 1s-0.448 1-1 1z\"></path>\n",
       "</symbol>\n",
       "</defs>\n",
       "</svg>\n",
       "<style>/* CSS stylesheet for displaying xarray objects in jupyterlab.\n",
       " *\n",
       " */\n",
       "\n",
       ":root {\n",
       "  --xr-font-color0: var(\n",
       "    --jp-content-font-color0,\n",
       "    var(--pst-color-text-base rgba(0, 0, 0, 1))\n",
       "  );\n",
       "  --xr-font-color2: var(\n",
       "    --jp-content-font-color2,\n",
       "    var(--pst-color-text-base, rgba(0, 0, 0, 0.54))\n",
       "  );\n",
       "  --xr-font-color3: var(\n",
       "    --jp-content-font-color3,\n",
       "    var(--pst-color-text-base, rgba(0, 0, 0, 0.38))\n",
       "  );\n",
       "  --xr-border-color: var(\n",
       "    --jp-border-color2,\n",
       "    hsl(from var(--pst-color-on-background, white) h s calc(l - 10))\n",
       "  );\n",
       "  --xr-disabled-color: var(\n",
       "    --jp-layout-color3,\n",
       "    hsl(from var(--pst-color-on-background, white) h s calc(l - 40))\n",
       "  );\n",
       "  --xr-background-color: var(\n",
       "    --jp-layout-color0,\n",
       "    var(--pst-color-on-background, white)\n",
       "  );\n",
       "  --xr-background-color-row-even: var(\n",
       "    --jp-layout-color1,\n",
       "    hsl(from var(--pst-color-on-background, white) h s calc(l - 5))\n",
       "  );\n",
       "  --xr-background-color-row-odd: var(\n",
       "    --jp-layout-color2,\n",
       "    hsl(from var(--pst-color-on-background, white) h s calc(l - 15))\n",
       "  );\n",
       "}\n",
       "\n",
       "html[theme=\"dark\"],\n",
       "html[data-theme=\"dark\"],\n",
       "body[data-theme=\"dark\"],\n",
       "body.vscode-dark {\n",
       "  --xr-font-color0: var(\n",
       "    --jp-content-font-color0,\n",
       "    var(--pst-color-text-base, rgba(255, 255, 255, 1))\n",
       "  );\n",
       "  --xr-font-color2: var(\n",
       "    --jp-content-font-color2,\n",
       "    var(--pst-color-text-base, rgba(255, 255, 255, 0.54))\n",
       "  );\n",
       "  --xr-font-color3: var(\n",
       "    --jp-content-font-color3,\n",
       "    var(--pst-color-text-base, rgba(255, 255, 255, 0.38))\n",
       "  );\n",
       "  --xr-border-color: var(\n",
       "    --jp-border-color2,\n",
       "    hsl(from var(--pst-color-on-background, #111111) h s calc(l + 10))\n",
       "  );\n",
       "  --xr-disabled-color: var(\n",
       "    --jp-layout-color3,\n",
       "    hsl(from var(--pst-color-on-background, #111111) h s calc(l + 40))\n",
       "  );\n",
       "  --xr-background-color: var(\n",
       "    --jp-layout-color0,\n",
       "    var(--pst-color-on-background, #111111)\n",
       "  );\n",
       "  --xr-background-color-row-even: var(\n",
       "    --jp-layout-color1,\n",
       "    hsl(from var(--pst-color-on-background, #111111) h s calc(l + 5))\n",
       "  );\n",
       "  --xr-background-color-row-odd: var(\n",
       "    --jp-layout-color2,\n",
       "    hsl(from var(--pst-color-on-background, #111111) h s calc(l + 15))\n",
       "  );\n",
       "}\n",
       "\n",
       ".xr-wrap {\n",
       "  display: block !important;\n",
       "  min-width: 300px;\n",
       "  max-width: 700px;\n",
       "}\n",
       "\n",
       ".xr-text-repr-fallback {\n",
       "  /* fallback to plain text repr when CSS is not injected (untrusted notebook) */\n",
       "  display: none;\n",
       "}\n",
       "\n",
       ".xr-header {\n",
       "  padding-top: 6px;\n",
       "  padding-bottom: 6px;\n",
       "  margin-bottom: 4px;\n",
       "  border-bottom: solid 1px var(--xr-border-color);\n",
       "}\n",
       "\n",
       ".xr-header > div,\n",
       ".xr-header > ul {\n",
       "  display: inline;\n",
       "  margin-top: 0;\n",
       "  margin-bottom: 0;\n",
       "}\n",
       "\n",
       ".xr-obj-type,\n",
       ".xr-array-name {\n",
       "  margin-left: 2px;\n",
       "  margin-right: 10px;\n",
       "}\n",
       "\n",
       ".xr-obj-type {\n",
       "  color: var(--xr-font-color2);\n",
       "}\n",
       "\n",
       ".xr-sections {\n",
       "  padding-left: 0 !important;\n",
       "  display: grid;\n",
       "  grid-template-columns: 150px auto auto 1fr 0 20px 0 20px;\n",
       "}\n",
       "\n",
       ".xr-section-item {\n",
       "  display: contents;\n",
       "}\n",
       "\n",
       ".xr-section-item input {\n",
       "  display: inline-block;\n",
       "  opacity: 0;\n",
       "  height: 0;\n",
       "}\n",
       "\n",
       ".xr-section-item input + label {\n",
       "  color: var(--xr-disabled-color);\n",
       "  border: 2px solid transparent !important;\n",
       "}\n",
       "\n",
       ".xr-section-item input:enabled + label {\n",
       "  cursor: pointer;\n",
       "  color: var(--xr-font-color2);\n",
       "}\n",
       "\n",
       ".xr-section-item input:focus + label {\n",
       "  border: 2px solid var(--xr-font-color0) !important;\n",
       "}\n",
       "\n",
       ".xr-section-item input:enabled + label:hover {\n",
       "  color: var(--xr-font-color0);\n",
       "}\n",
       "\n",
       ".xr-section-summary {\n",
       "  grid-column: 1;\n",
       "  color: var(--xr-font-color2);\n",
       "  font-weight: 500;\n",
       "}\n",
       "\n",
       ".xr-section-summary > span {\n",
       "  display: inline-block;\n",
       "  padding-left: 0.5em;\n",
       "}\n",
       "\n",
       ".xr-section-summary-in:disabled + label {\n",
       "  color: var(--xr-font-color2);\n",
       "}\n",
       "\n",
       ".xr-section-summary-in + label:before {\n",
       "  display: inline-block;\n",
       "  content: \"►\";\n",
       "  font-size: 11px;\n",
       "  width: 15px;\n",
       "  text-align: center;\n",
       "}\n",
       "\n",
       ".xr-section-summary-in:disabled + label:before {\n",
       "  color: var(--xr-disabled-color);\n",
       "}\n",
       "\n",
       ".xr-section-summary-in:checked + label:before {\n",
       "  content: \"▼\";\n",
       "}\n",
       "\n",
       ".xr-section-summary-in:checked + label > span {\n",
       "  display: none;\n",
       "}\n",
       "\n",
       ".xr-section-summary,\n",
       ".xr-section-inline-details {\n",
       "  padding-top: 4px;\n",
       "  padding-bottom: 4px;\n",
       "}\n",
       "\n",
       ".xr-section-inline-details {\n",
       "  grid-column: 2 / -1;\n",
       "}\n",
       "\n",
       ".xr-section-details {\n",
       "  display: none;\n",
       "  grid-column: 1 / -1;\n",
       "  margin-bottom: 5px;\n",
       "}\n",
       "\n",
       ".xr-section-summary-in:checked ~ .xr-section-details {\n",
       "  display: contents;\n",
       "}\n",
       "\n",
       ".xr-array-wrap {\n",
       "  grid-column: 1 / -1;\n",
       "  display: grid;\n",
       "  grid-template-columns: 20px auto;\n",
       "}\n",
       "\n",
       ".xr-array-wrap > label {\n",
       "  grid-column: 1;\n",
       "  vertical-align: top;\n",
       "}\n",
       "\n",
       ".xr-preview {\n",
       "  color: var(--xr-font-color3);\n",
       "}\n",
       "\n",
       ".xr-array-preview,\n",
       ".xr-array-data {\n",
       "  padding: 0 5px !important;\n",
       "  grid-column: 2;\n",
       "}\n",
       "\n",
       ".xr-array-data,\n",
       ".xr-array-in:checked ~ .xr-array-preview {\n",
       "  display: none;\n",
       "}\n",
       "\n",
       ".xr-array-in:checked ~ .xr-array-data,\n",
       ".xr-array-preview {\n",
       "  display: inline-block;\n",
       "}\n",
       "\n",
       ".xr-dim-list {\n",
       "  display: inline-block !important;\n",
       "  list-style: none;\n",
       "  padding: 0 !important;\n",
       "  margin: 0;\n",
       "}\n",
       "\n",
       ".xr-dim-list li {\n",
       "  display: inline-block;\n",
       "  padding: 0;\n",
       "  margin: 0;\n",
       "}\n",
       "\n",
       ".xr-dim-list:before {\n",
       "  content: \"(\";\n",
       "}\n",
       "\n",
       ".xr-dim-list:after {\n",
       "  content: \")\";\n",
       "}\n",
       "\n",
       ".xr-dim-list li:not(:last-child):after {\n",
       "  content: \",\";\n",
       "  padding-right: 5px;\n",
       "}\n",
       "\n",
       ".xr-has-index {\n",
       "  font-weight: bold;\n",
       "}\n",
       "\n",
       ".xr-var-list,\n",
       ".xr-var-item {\n",
       "  display: contents;\n",
       "}\n",
       "\n",
       ".xr-var-item > div,\n",
       ".xr-var-item label,\n",
       ".xr-var-item > .xr-var-name span {\n",
       "  background-color: var(--xr-background-color-row-even);\n",
       "  border-color: var(--xr-background-color-row-odd);\n",
       "  margin-bottom: 0;\n",
       "  padding-top: 2px;\n",
       "}\n",
       "\n",
       ".xr-var-item > .xr-var-name:hover span {\n",
       "  padding-right: 5px;\n",
       "}\n",
       "\n",
       ".xr-var-list > li:nth-child(odd) > div,\n",
       ".xr-var-list > li:nth-child(odd) > label,\n",
       ".xr-var-list > li:nth-child(odd) > .xr-var-name span {\n",
       "  background-color: var(--xr-background-color-row-odd);\n",
       "  border-color: var(--xr-background-color-row-even);\n",
       "}\n",
       "\n",
       ".xr-var-name {\n",
       "  grid-column: 1;\n",
       "}\n",
       "\n",
       ".xr-var-dims {\n",
       "  grid-column: 2;\n",
       "}\n",
       "\n",
       ".xr-var-dtype {\n",
       "  grid-column: 3;\n",
       "  text-align: right;\n",
       "  color: var(--xr-font-color2);\n",
       "}\n",
       "\n",
       ".xr-var-preview {\n",
       "  grid-column: 4;\n",
       "}\n",
       "\n",
       ".xr-index-preview {\n",
       "  grid-column: 2 / 5;\n",
       "  color: var(--xr-font-color2);\n",
       "}\n",
       "\n",
       ".xr-var-name,\n",
       ".xr-var-dims,\n",
       ".xr-var-dtype,\n",
       ".xr-preview,\n",
       ".xr-attrs dt {\n",
       "  white-space: nowrap;\n",
       "  overflow: hidden;\n",
       "  text-overflow: ellipsis;\n",
       "  padding-right: 10px;\n",
       "}\n",
       "\n",
       ".xr-var-name:hover,\n",
       ".xr-var-dims:hover,\n",
       ".xr-var-dtype:hover,\n",
       ".xr-attrs dt:hover {\n",
       "  overflow: visible;\n",
       "  width: auto;\n",
       "  z-index: 1;\n",
       "}\n",
       "\n",
       ".xr-var-attrs,\n",
       ".xr-var-data,\n",
       ".xr-index-data {\n",
       "  display: none;\n",
       "  border-top: 2px dotted var(--xr-background-color);\n",
       "  padding-bottom: 20px !important;\n",
       "  padding-top: 10px !important;\n",
       "}\n",
       "\n",
       ".xr-var-attrs-in + label,\n",
       ".xr-var-data-in + label,\n",
       ".xr-index-data-in + label {\n",
       "  padding: 0 1px;\n",
       "}\n",
       "\n",
       ".xr-var-attrs-in:checked ~ .xr-var-attrs,\n",
       ".xr-var-data-in:checked ~ .xr-var-data,\n",
       ".xr-index-data-in:checked ~ .xr-index-data {\n",
       "  display: block;\n",
       "}\n",
       "\n",
       ".xr-var-data > table {\n",
       "  float: right;\n",
       "}\n",
       "\n",
       ".xr-var-data > pre,\n",
       ".xr-index-data > pre,\n",
       ".xr-var-data > table > tbody > tr {\n",
       "  background-color: transparent !important;\n",
       "}\n",
       "\n",
       ".xr-var-name span,\n",
       ".xr-var-data,\n",
       ".xr-index-name div,\n",
       ".xr-index-data,\n",
       ".xr-attrs {\n",
       "  padding-left: 25px !important;\n",
       "}\n",
       "\n",
       ".xr-attrs,\n",
       ".xr-var-attrs,\n",
       ".xr-var-data,\n",
       ".xr-index-data {\n",
       "  grid-column: 1 / -1;\n",
       "}\n",
       "\n",
       "dl.xr-attrs {\n",
       "  padding: 0;\n",
       "  margin: 0;\n",
       "  display: grid;\n",
       "  grid-template-columns: 125px auto;\n",
       "}\n",
       "\n",
       ".xr-attrs dt,\n",
       ".xr-attrs dd {\n",
       "  padding: 0;\n",
       "  margin: 0;\n",
       "  float: left;\n",
       "  padding-right: 10px;\n",
       "  width: auto;\n",
       "}\n",
       "\n",
       ".xr-attrs dt {\n",
       "  font-weight: normal;\n",
       "  grid-column: 1;\n",
       "}\n",
       "\n",
       ".xr-attrs dt:hover span {\n",
       "  display: inline-block;\n",
       "  background: var(--xr-background-color);\n",
       "  padding-right: 10px;\n",
       "}\n",
       "\n",
       ".xr-attrs dd {\n",
       "  grid-column: 2;\n",
       "  white-space: pre-wrap;\n",
       "  word-break: break-all;\n",
       "}\n",
       "\n",
       ".xr-icon-database,\n",
       ".xr-icon-file-text2,\n",
       ".xr-no-icon {\n",
       "  display: inline-block;\n",
       "  vertical-align: middle;\n",
       "  width: 1em;\n",
       "  height: 1.5em !important;\n",
       "  stroke-width: 0;\n",
       "  stroke: currentColor;\n",
       "  fill: currentColor;\n",
       "}\n",
       "\n",
       ".xr-var-attrs-in:checked + label > .xr-icon-file-text2,\n",
       ".xr-var-data-in:checked + label > .xr-icon-database,\n",
       ".xr-index-data-in:checked + label > .xr-icon-database {\n",
       "  color: var(--xr-font-color0);\n",
       "  filter: drop-shadow(1px 1px 5px var(--xr-font-color2));\n",
       "  stroke-width: 0.8px;\n",
       "}\n",
       "</style><pre class='xr-text-repr-fallback'>&lt;xarray.Dataset&gt; Size: 1MB\n",
       "Dimensions:  (time: 31, lat: 29, lon: 53)\n",
       "Coordinates:\n",
       "  * lat      (lat) float64 232B 32.85 33.35 33.85 34.35 ... 45.83 46.33 46.83\n",
       "  * lon      (lon) float64 424B -15.67 -15.17 -14.67 -14.18 ... 9.204 9.701 10.2\n",
       "  * time     (time) datetime64[ns] 248B 2025-01-01 2025-01-02 ... 2025-01-31\n",
       "Data variables:\n",
       "    a        (time, lat, lon) float64 381kB ...\n",
       "    c        (time, lat, lon) float64 381kB ...\n",
       "    b        (time, lat, lon) float64 381kB ...</pre><div class='xr-wrap' style='display:none'><div class='xr-header'><div class='xr-obj-type'>xarray.Dataset</div></div><ul class='xr-sections'><li class='xr-section-item'><input id='section-f088b68a-8523-4ca9-ade1-24cb6d4bd7ae' class='xr-section-summary-in' type='checkbox' disabled ><label for='section-f088b68a-8523-4ca9-ade1-24cb6d4bd7ae' class='xr-section-summary'  title='Expand/collapse section'>Dimensions:</label><div class='xr-section-inline-details'><ul class='xr-dim-list'><li><span class='xr-has-index'>time</span>: 31</li><li><span class='xr-has-index'>lat</span>: 29</li><li><span class='xr-has-index'>lon</span>: 53</li></ul></div><div class='xr-section-details'></div></li><li class='xr-section-item'><input id='section-be69236a-0723-4776-82db-eb0335b1acbd' class='xr-section-summary-in' type='checkbox'  checked><label for='section-be69236a-0723-4776-82db-eb0335b1acbd' class='xr-section-summary' >Coordinates: <span>(3)</span></label><div class='xr-section-inline-details'></div><div class='xr-section-details'><ul class='xr-var-list'><li class='xr-var-item'><div class='xr-var-name'><span class='xr-has-index'>lat</span></div><div class='xr-var-dims'>(lat)</div><div class='xr-var-dtype'>float64</div><div class='xr-var-preview xr-preview'>32.85 33.35 33.85 ... 46.33 46.83</div><input id='attrs-a599fd0e-0796-4b39-abfa-cf0b4a164ef9' class='xr-var-attrs-in' type='checkbox' disabled><label for='attrs-a599fd0e-0796-4b39-abfa-cf0b4a164ef9' title='Show/Hide attributes'><svg class='icon xr-icon-file-text2'><use xlink:href='#icon-file-text2'></use></svg></label><input id='data-f2bde541-62a7-4f3d-a0b6-34550ecd6a1b' class='xr-var-data-in' type='checkbox'><label for='data-f2bde541-62a7-4f3d-a0b6-34550ecd6a1b' title='Show/Hide data repr'><svg class='icon xr-icon-database'><use xlink:href='#icon-database'></use></svg></label><div class='xr-var-attrs'><dl class='xr-attrs'></dl></div><div class='xr-var-data'><pre>array([32.847544, 33.34696 , 33.846376, 34.345792, 34.845208, 35.344624,\n",
       "       35.84404 , 36.343456, 36.842872, 37.342288, 37.841704, 38.34112 ,\n",
       "       38.840536, 39.339952, 39.839367, 40.338783, 40.838199, 41.337615,\n",
       "       41.837031, 42.336447, 42.835863, 43.335279, 43.834695, 44.334111,\n",
       "       44.833527, 45.332943, 45.832359, 46.331775, 46.831191])</pre></div></li><li class='xr-var-item'><div class='xr-var-name'><span class='xr-has-index'>lon</span></div><div class='xr-var-dims'>(lon)</div><div class='xr-var-dtype'>float64</div><div class='xr-var-preview xr-preview'>-15.67 -15.17 -14.67 ... 9.701 10.2</div><input id='attrs-2745dc09-595e-4270-a5e8-afdbab669ec7' class='xr-var-attrs-in' type='checkbox' disabled><label for='attrs-2745dc09-595e-4270-a5e8-afdbab669ec7' title='Show/Hide attributes'><svg class='icon xr-icon-file-text2'><use xlink:href='#icon-file-text2'></use></svg></label><input id='data-f5c7f444-0f60-4353-9b38-b542597859bf' class='xr-var-data-in' type='checkbox'><label for='data-f5c7f444-0f60-4353-9b38-b542597859bf' title='Show/Hide data repr'><svg class='icon xr-icon-database'><use xlink:href='#icon-database'></use></svg></label><div class='xr-var-attrs'><dl class='xr-attrs'></dl></div><div class='xr-var-data'><pre>array([-15.66875 , -15.171304, -14.673858, -14.176412, -13.678966, -13.18152 ,\n",
       "       -12.684074, -12.186629, -11.689183, -11.191737, -10.694291, -10.196845,\n",
       "        -9.699399,  -9.201953,  -8.704507,  -8.207061,  -7.709615,  -7.212169,\n",
       "        -6.714723,  -6.217277,  -5.719832,  -5.222386,  -4.72494 ,  -4.227494,\n",
       "        -3.730048,  -3.232602,  -2.735156,  -2.23771 ,  -1.740264,  -1.242818,\n",
       "        -0.745372,  -0.247926,   0.24952 ,   0.746965,   1.244411,   1.741857,\n",
       "         2.239303,   2.736749,   3.234195,   3.731641,   4.229087,   4.726533,\n",
       "         5.223979,   5.721425,   6.218871,   6.716317,   7.213762,   7.711208,\n",
       "         8.208654,   8.7061  ,   9.203546,   9.700992,  10.198438])</pre></div></li><li class='xr-var-item'><div class='xr-var-name'><span class='xr-has-index'>time</span></div><div class='xr-var-dims'>(time)</div><div class='xr-var-dtype'>datetime64[ns]</div><div class='xr-var-preview xr-preview'>2025-01-01 ... 2025-01-31</div><input id='attrs-0525d28f-78e4-4670-8dc9-872019cfd7f4' class='xr-var-attrs-in' type='checkbox' disabled><label for='attrs-0525d28f-78e4-4670-8dc9-872019cfd7f4' title='Show/Hide attributes'><svg class='icon xr-icon-file-text2'><use xlink:href='#icon-file-text2'></use></svg></label><input id='data-d640e232-dd97-4f5d-a433-81c3c471731e' class='xr-var-data-in' type='checkbox'><label for='data-d640e232-dd97-4f5d-a433-81c3c471731e' title='Show/Hide data repr'><svg class='icon xr-icon-database'><use xlink:href='#icon-database'></use></svg></label><div class='xr-var-attrs'><dl class='xr-attrs'></dl></div><div class='xr-var-data'><pre>array([&#x27;2025-01-01T00:00:00.000000000&#x27;, &#x27;2025-01-02T00:00:00.000000000&#x27;,\n",
       "       &#x27;2025-01-03T00:00:00.000000000&#x27;, &#x27;2025-01-04T00:00:00.000000000&#x27;,\n",
       "       &#x27;2025-01-05T00:00:00.000000000&#x27;, &#x27;2025-01-06T00:00:00.000000000&#x27;,\n",
       "       &#x27;2025-01-07T00:00:00.000000000&#x27;, &#x27;2025-01-08T00:00:00.000000000&#x27;,\n",
       "       &#x27;2025-01-09T00:00:00.000000000&#x27;, &#x27;2025-01-10T00:00:00.000000000&#x27;,\n",
       "       &#x27;2025-01-11T00:00:00.000000000&#x27;, &#x27;2025-01-12T00:00:00.000000000&#x27;,\n",
       "       &#x27;2025-01-13T00:00:00.000000000&#x27;, &#x27;2025-01-14T00:00:00.000000000&#x27;,\n",
       "       &#x27;2025-01-15T00:00:00.000000000&#x27;, &#x27;2025-01-16T00:00:00.000000000&#x27;,\n",
       "       &#x27;2025-01-17T00:00:00.000000000&#x27;, &#x27;2025-01-18T00:00:00.000000000&#x27;,\n",
       "       &#x27;2025-01-19T00:00:00.000000000&#x27;, &#x27;2025-01-20T00:00:00.000000000&#x27;,\n",
       "       &#x27;2025-01-21T00:00:00.000000000&#x27;, &#x27;2025-01-22T00:00:00.000000000&#x27;,\n",
       "       &#x27;2025-01-23T00:00:00.000000000&#x27;, &#x27;2025-01-24T00:00:00.000000000&#x27;,\n",
       "       &#x27;2025-01-25T00:00:00.000000000&#x27;, &#x27;2025-01-26T00:00:00.000000000&#x27;,\n",
       "       &#x27;2025-01-27T00:00:00.000000000&#x27;, &#x27;2025-01-28T00:00:00.000000000&#x27;,\n",
       "       &#x27;2025-01-29T00:00:00.000000000&#x27;, &#x27;2025-01-30T00:00:00.000000000&#x27;,\n",
       "       &#x27;2025-01-31T00:00:00.000000000&#x27;], dtype=&#x27;datetime64[ns]&#x27;)</pre></div></li></ul></div></li><li class='xr-section-item'><input id='section-3eee2c6a-9aae-4b04-b0f6-542d8c09592a' class='xr-section-summary-in' type='checkbox'  checked><label for='section-3eee2c6a-9aae-4b04-b0f6-542d8c09592a' class='xr-section-summary' >Data variables: <span>(3)</span></label><div class='xr-section-inline-details'></div><div class='xr-section-details'><ul class='xr-var-list'><li class='xr-var-item'><div class='xr-var-name'><span>a</span></div><div class='xr-var-dims'>(time, lat, lon)</div><div class='xr-var-dtype'>float64</div><div class='xr-var-preview xr-preview'>...</div><input id='attrs-89b159bd-3d83-4c39-8e0d-3684e9ffacf9' class='xr-var-attrs-in' type='checkbox' disabled><label for='attrs-89b159bd-3d83-4c39-8e0d-3684e9ffacf9' title='Show/Hide attributes'><svg class='icon xr-icon-file-text2'><use xlink:href='#icon-file-text2'></use></svg></label><input id='data-fd8dac0a-a7ee-4547-8e6a-d789d4e3c89c' class='xr-var-data-in' type='checkbox'><label for='data-fd8dac0a-a7ee-4547-8e6a-d789d4e3c89c' title='Show/Hide data repr'><svg class='icon xr-icon-database'><use xlink:href='#icon-database'></use></svg></label><div class='xr-var-attrs'><dl class='xr-attrs'></dl></div><div class='xr-var-data'><pre>[47647 values with dtype=float64]</pre></div></li><li class='xr-var-item'><div class='xr-var-name'><span>c</span></div><div class='xr-var-dims'>(time, lat, lon)</div><div class='xr-var-dtype'>float64</div><div class='xr-var-preview xr-preview'>...</div><input id='attrs-497c2d16-d273-46ad-97df-99cfe35eda5d' class='xr-var-attrs-in' type='checkbox' disabled><label for='attrs-497c2d16-d273-46ad-97df-99cfe35eda5d' title='Show/Hide attributes'><svg class='icon xr-icon-file-text2'><use xlink:href='#icon-file-text2'></use></svg></label><input id='data-3309f665-a849-41c3-bcc9-c7e6a46bcaff' class='xr-var-data-in' type='checkbox'><label for='data-3309f665-a849-41c3-bcc9-c7e6a46bcaff' title='Show/Hide data repr'><svg class='icon xr-icon-database'><use xlink:href='#icon-database'></use></svg></label><div class='xr-var-attrs'><dl class='xr-attrs'></dl></div><div class='xr-var-data'><pre>[47647 values with dtype=float64]</pre></div></li><li class='xr-var-item'><div class='xr-var-name'><span>b</span></div><div class='xr-var-dims'>(time, lat, lon)</div><div class='xr-var-dtype'>float64</div><div class='xr-var-preview xr-preview'>...</div><input id='attrs-aaf0e0ef-a8a6-4514-85fa-3f6cbf0b7334' class='xr-var-attrs-in' type='checkbox' disabled><label for='attrs-aaf0e0ef-a8a6-4514-85fa-3f6cbf0b7334' title='Show/Hide attributes'><svg class='icon xr-icon-file-text2'><use xlink:href='#icon-file-text2'></use></svg></label><input id='data-4d6ef747-d0a7-4436-bc1f-38933c35a724' class='xr-var-data-in' type='checkbox'><label for='data-4d6ef747-d0a7-4436-bc1f-38933c35a724' title='Show/Hide data repr'><svg class='icon xr-icon-database'><use xlink:href='#icon-database'></use></svg></label><div class='xr-var-attrs'><dl class='xr-attrs'></dl></div><div class='xr-var-data'><pre>[47647 values with dtype=float64]</pre></div></li></ul></div></li><li class='xr-section-item'><input id='section-49eb0783-8fa7-4b27-b955-4978fb6dafca' class='xr-section-summary-in' type='checkbox'  ><label for='section-49eb0783-8fa7-4b27-b955-4978fb6dafca' class='xr-section-summary' >Indexes: <span>(3)</span></label><div class='xr-section-inline-details'></div><div class='xr-section-details'><ul class='xr-var-list'><li class='xr-var-item'><div class='xr-index-name'><div>lat</div></div><div class='xr-index-preview'>PandasIndex</div><input type='checkbox' disabled/><label></label><input id='index-525ffb42-9257-4104-930f-7a2c9756688b' class='xr-index-data-in' type='checkbox'/><label for='index-525ffb42-9257-4104-930f-7a2c9756688b' title='Show/Hide index repr'><svg class='icon xr-icon-database'><use xlink:href='#icon-database'></use></svg></label><div class='xr-index-data'><pre>PandasIndex(Index([         32.847544, 33.346959964285716, 33.846375928571426,\n",
       "        34.34579189285714,  34.84520785714285,  35.34462382142857,\n",
       "        35.84403978571429,        36.34345575, 36.842871714285714,\n",
       "       37.342287678571424,  37.84170364285714,  38.34111960714286,\n",
       "        38.84053557142857, 39.339951535714285, 39.839367499999994,\n",
       "        40.33878346428571,  40.83819942857143,  41.33761539285714,\n",
       "       41.837031357142855, 42.336447321428565,  42.83586328571428,\n",
       "              43.33527925, 43.834695214285716, 44.334111178571426,\n",
       "       44.833527142857136,  45.33294310714285,  45.83235907142857,\n",
       "        46.33177503571429,          46.831191],\n",
       "      dtype=&#x27;float64&#x27;, name=&#x27;lat&#x27;))</pre></div></li><li class='xr-var-item'><div class='xr-index-name'><div>lon</div></div><div class='xr-index-preview'>PandasIndex</div><input type='checkbox' disabled/><label></label><input id='index-92bc0970-db0f-4ba6-a7d5-b449d302adb5' class='xr-index-data-in' type='checkbox'/><label for='index-92bc0970-db0f-4ba6-a7d5-b449d302adb5' title='Show/Hide index repr'><svg class='icon xr-icon-database'><use xlink:href='#icon-database'></use></svg></label><div class='xr-index-data'><pre>PandasIndex(Index([           -15.66875,  -15.171304076923077,  -14.673858153846153,\n",
       "         -14.17641223076923,  -13.678966307692306,  -13.181520384615384,\n",
       "        -12.684074461538462,  -12.186628538461537,  -11.689182615384615,\n",
       "        -11.191736692307693,  -10.694290769230768,  -10.196844846153846,\n",
       "         -9.699398923076924,            -9.201953,   -8.704507076923077,\n",
       "         -8.207061153846155,   -7.709615230769231,   -7.212169307692308,\n",
       "         -6.714723384615384,   -6.217277461538462,   -5.719831538461538,\n",
       "         -5.222385615384615,   -4.724939692307693,   -4.227493769230769,\n",
       "        -3.7300478461538464,   -3.232601923076924,            -2.735156,\n",
       "        -2.2377100769230776,  -1.7402641538461552,   -1.242818230769231,\n",
       "        -0.7453723076923087, -0.24792638461538452,  0.24951953846153785,\n",
       "          0.746965461538462,   1.2444113846153826,   1.7418573076923067,\n",
       "          2.239303230769231,   2.7367491538461515,   3.2341950769230756,\n",
       "         3.7316409999999998,    4.229086923076924,   4.7265328461538445,\n",
       "          5.223978769230769,    5.721424692307693,    6.218870615384613,\n",
       "         6.7163165384615375,    7.213762461538462,    7.711208384615382,\n",
       "          8.208654307692306,     8.70610023076923,    9.203546153846151,\n",
       "          9.700992076923075,            10.198438],\n",
       "      dtype=&#x27;float64&#x27;, name=&#x27;lon&#x27;))</pre></div></li><li class='xr-var-item'><div class='xr-index-name'><div>time</div></div><div class='xr-index-preview'>PandasIndex</div><input type='checkbox' disabled/><label></label><input id='index-59566ca9-52d2-4bb3-9c1a-405134d533b5' class='xr-index-data-in' type='checkbox'/><label for='index-59566ca9-52d2-4bb3-9c1a-405134d533b5' title='Show/Hide index repr'><svg class='icon xr-icon-database'><use xlink:href='#icon-database'></use></svg></label><div class='xr-index-data'><pre>PandasIndex(DatetimeIndex([&#x27;2025-01-01&#x27;, &#x27;2025-01-02&#x27;, &#x27;2025-01-03&#x27;, &#x27;2025-01-04&#x27;,\n",
       "               &#x27;2025-01-05&#x27;, &#x27;2025-01-06&#x27;, &#x27;2025-01-07&#x27;, &#x27;2025-01-08&#x27;,\n",
       "               &#x27;2025-01-09&#x27;, &#x27;2025-01-10&#x27;, &#x27;2025-01-11&#x27;, &#x27;2025-01-12&#x27;,\n",
       "               &#x27;2025-01-13&#x27;, &#x27;2025-01-14&#x27;, &#x27;2025-01-15&#x27;, &#x27;2025-01-16&#x27;,\n",
       "               &#x27;2025-01-17&#x27;, &#x27;2025-01-18&#x27;, &#x27;2025-01-19&#x27;, &#x27;2025-01-20&#x27;,\n",
       "               &#x27;2025-01-21&#x27;, &#x27;2025-01-22&#x27;, &#x27;2025-01-23&#x27;, &#x27;2025-01-24&#x27;,\n",
       "               &#x27;2025-01-25&#x27;, &#x27;2025-01-26&#x27;, &#x27;2025-01-27&#x27;, &#x27;2025-01-28&#x27;,\n",
       "               &#x27;2025-01-29&#x27;, &#x27;2025-01-30&#x27;, &#x27;2025-01-31&#x27;],\n",
       "              dtype=&#x27;datetime64[ns]&#x27;, name=&#x27;time&#x27;, freq=None))</pre></div></li></ul></div></li><li class='xr-section-item'><input id='section-b06ef204-f905-4fc4-a020-030ce53c5a85' class='xr-section-summary-in' type='checkbox' disabled ><label for='section-b06ef204-f905-4fc4-a020-030ce53c5a85' class='xr-section-summary'  title='Expand/collapse section'>Attributes: <span>(0)</span></label><div class='xr-section-inline-details'></div><div class='xr-section-details'><dl class='xr-attrs'></dl></div></li></ul></div></div>"
      ],
      "text/plain": [
       "<xarray.Dataset> Size: 1MB\n",
       "Dimensions:  (time: 31, lat: 29, lon: 53)\n",
       "Coordinates:\n",
       "  * lat      (lat) float64 232B 32.85 33.35 33.85 34.35 ... 45.83 46.33 46.83\n",
       "  * lon      (lon) float64 424B -15.67 -15.17 -14.67 -14.18 ... 9.204 9.701 10.2\n",
       "  * time     (time) datetime64[ns] 248B 2025-01-01 2025-01-02 ... 2025-01-31\n",
       "Data variables:\n",
       "    a        (time, lat, lon) float64 381kB ...\n",
       "    c        (time, lat, lon) float64 381kB ...\n",
       "    b        (time, lat, lon) float64 381kB ..."
      ]
     },
     "execution_count": 14,
     "metadata": {},
     "output_type": "execute_result"
    }
   ],
   "source": [
    "import xarray as xr\n",
    "xr.open_dataset(_results[\"return_value\"][\"href\"])"
   ]
  },
  {
   "cell_type": "code",
   "execution_count": null,
   "id": "c94037de-d6ea-4c4c-a8b8-a40d653aac09",
   "metadata": {},
   "outputs": [],
   "source": [
    "#client.get_process(\"create_datacube\")"
   ]
  },
  {
   "cell_type": "code",
   "execution_count": null,
   "id": "70d50fbf-a6cb-48d6-907b-770e38647af1",
   "metadata": {},
   "outputs": [],
   "source": []
  }
 ],
 "metadata": {
  "kernelspec": {
   "display_name": "Python 3 (ipykernel)",
   "language": "python",
   "name": "python3"
  },
  "language_info": {
   "codemirror_mode": {
    "name": "ipython",
    "version": 3
   },
   "file_extension": ".py",
   "mimetype": "text/x-python",
   "name": "python",
   "nbconvert_exporter": "python",
   "pygments_lexer": "ipython3",
   "version": "3.13.5"
  }
 },
 "nbformat": 4,
 "nbformat_minor": 5
}
