{
 "cells": [
  {
   "cell_type": "markdown",
   "id": "503838a6-a213-4171-93db-c0f1b68edc48",
   "metadata": {},
   "source": [
    "Before running this notebook, please run\n",
    "\n",
    "```bash\n",
    "s2gos-server run --service=s2gos_server.services.local.testing:service\n",
    "```"
   ]
  },
  {
   "cell_type": "code",
   "execution_count": null,
   "id": "8be0d24e-00ad-4ce0-8217-27a6747b5767",
   "metadata": {},
   "outputs": [],
   "source": [
    "from s2gos_client.gui import Client"
   ]
  },
  {
   "cell_type": "code",
   "execution_count": null,
   "id": "6c90402f-b2a2-4e1e-873c-8ceca7780ed6",
   "metadata": {},
   "outputs": [],
   "source": [
    "client = Client(debug=True)\n",
    "client"
   ]
  },
  {
   "cell_type": "code",
   "execution_count": null,
   "id": "7154afcd-59a9-484f-8271-1b4773b8c636",
   "metadata": {},
   "outputs": [],
   "source": [
    "# client.get_processes()"
   ]
  },
  {
   "cell_type": "code",
   "execution_count": null,
   "id": "67179e44-a969-4b5a-ab7a-03ba3b9c7054",
   "metadata": {},
   "outputs": [],
   "source": [
    "# client.get_process(\"sleep_a_while\")"
   ]
  },
  {
   "cell_type": "code",
   "execution_count": null,
   "id": "cc034916-02db-4ec2-8682-71710d54edf6",
   "metadata": {},
   "outputs": [],
   "source": [
    "client.show()"
   ]
  },
  {
   "cell_type": "code",
   "execution_count": null,
   "id": "736d52d8-d91a-435b-8dfb-b016a5139201",
   "metadata": {},
   "outputs": [],
   "source": [
    "_request"
   ]
  },
  {
   "cell_type": "code",
   "execution_count": null,
   "id": "027d2bbc-1816-4c14-9616-8239b9210d1f",
   "metadata": {},
   "outputs": [],
   "source": [
    "# client.stop_updating()"
   ]
  },
  {
   "cell_type": "code",
   "execution_count": null,
   "id": "8c52f9fb-300f-4de0-b64d-9f37fd028890",
   "metadata": {},
   "outputs": [],
   "source": [
    "client.show_jobs()"
   ]
  },
  {
   "cell_type": "code",
   "execution_count": null,
   "id": "d3815528-3ba8-4328-b9e2-a97797bea532",
   "metadata": {},
   "outputs": [],
   "source": [
    "client.show_job(\"job_8\")"
   ]
  },
  {
   "cell_type": "code",
   "execution_count": null,
   "id": "133234e0-e393-4384-972c-de5cbaa3d91c",
   "metadata": {},
   "outputs": [],
   "source": [
    "_results"
   ]
  },
  {
   "cell_type": "code",
   "execution_count": null,
   "id": "cea797e0-9977-4727-98df-b4d6a3cccf65",
   "metadata": {},
   "outputs": [],
   "source": [
    "import xarray as xr\n",
    "xr.open_dataset(_results[\"result\"][\"href\"])"
   ]
  },
  {
   "cell_type": "code",
   "execution_count": null,
   "id": "c94037de-d6ea-4c4c-a8b8-a40d653aac09",
   "metadata": {},
   "outputs": [],
   "source": []
  }
 ],
 "metadata": {
  "kernelspec": {
   "display_name": "Python 3 (ipykernel)",
   "language": "python",
   "name": "python3"
  },
  "language_info": {
   "codemirror_mode": {
    "name": "ipython",
    "version": 3
   },
   "file_extension": ".py",
   "mimetype": "text/x-python",
   "name": "python",
   "nbconvert_exporter": "python",
   "pygments_lexer": "ipython3",
   "version": "3.13.5"
  }
 },
 "nbformat": 4,
 "nbformat_minor": 5
}
