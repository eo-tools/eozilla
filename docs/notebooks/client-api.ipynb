{
 "cells": [
  {
   "cell_type": "markdown",
   "id": "ed01d1e5-12e4-4fe8-9e1a-e57f0bb7a7da",
   "metadata": {},
   "source": [
    "# Client API\n",
    "\n",
    "Before running this notebook, please run\n",
    "\n",
    "```bash\n",
    "s2gos-server run -- s2gos_server.services.local.testing:service\n",
    "```"
   ]
  },
  {
   "cell_type": "code",
   "execution_count": 1,
   "id": "8be0d24e-00ad-4ce0-8217-27a6747b5767",
   "metadata": {},
   "outputs": [],
   "source": [
    "from s2gos_client import Client\n",
    "from s2gos_common.models import ProcessRequest"
   ]
  },
  {
   "cell_type": "code",
   "execution_count": 2,
   "id": "6c90402f-b2a2-4e1e-873c-8ceca7780ed6",
   "metadata": {},
   "outputs": [
    {
     "data": {
      "application/json": {
       "access_token": "ip245",
       "server_url": "http://127.0.0.1:8008",
       "user_name": "bibo"
      },
      "text/html": [
       "<pre><code class='text-json'>{\n",
       "  &quot;access_token&quot;: &quot;ip245&quot;,\n",
       "  &quot;server_url&quot;: &quot;http://127.0.0.1:8008&quot;,\n",
       "  &quot;user_name&quot;: &quot;bibo&quot;\n",
       "}</code></pre>"
      ],
      "text/plain": [
       "<s2gos_client.api.client.Client at 0x152bc63d550>"
      ]
     },
     "execution_count": 2,
     "metadata": {
      "application/json": {
       "root": "Client configuration:"
      }
     },
     "output_type": "execute_result"
    }
   ],
   "source": [
    "client = Client()\n",
    "client"
   ]
  },
  {
   "cell_type": "code",
   "execution_count": 3,
   "id": "18cd3a18-73ee-411d-b6bb-8a63a9c2d95c",
   "metadata": {},
   "outputs": [
    {
     "data": {
      "application/json": {
       "description": "Local test server implementing the OGC API - Processes 1.0 Standard",
       "links": [
        {
         "href": "http://127.0.0.1:8008/",
         "hreflang": "en",
         "rel": "self",
         "title": "get_capabilities",
         "type": "application/json"
        },
        {
         "href": "http://127.0.0.1:8008/openapi.json",
         "hreflang": "en",
         "rel": "service",
         "title": "openapi",
         "type": "application/json"
        },
        {
         "href": "http://127.0.0.1:8008/docs",
         "hreflang": "en",
         "rel": "service",
         "title": "swagger_ui_html",
         "type": "text/html"
        },
        {
         "href": "http://127.0.0.1:8008/docs/oauth2-redirect",
         "hreflang": "en",
         "rel": "service",
         "title": "swagger_ui_redirect",
         "type": "text/html"
        },
        {
         "href": "http://127.0.0.1:8008/redoc",
         "hreflang": "en",
         "rel": "service",
         "title": "redoc_html",
         "type": "text/html"
        },
        {
         "href": "http://127.0.0.1:8008/",
         "hreflang": "en",
         "rel": "service",
         "title": "get_capabilities",
         "type": "application/json"
        },
        {
         "href": "http://127.0.0.1:8008/conformance",
         "hreflang": "en",
         "rel": "service",
         "title": "get_conformance",
         "type": "application/json"
        },
        {
         "href": "http://127.0.0.1:8008/processes",
         "hreflang": "en",
         "rel": "service",
         "title": "get_processes",
         "type": "application/json"
        },
        {
         "href": "http://127.0.0.1:8008/processes/{processID}",
         "hreflang": "en",
         "rel": "service",
         "title": "get_process",
         "type": "application/json"
        },
        {
         "href": "http://127.0.0.1:8008/processes/{processID}/execution",
         "hreflang": "en",
         "rel": "service",
         "title": "execute_process",
         "type": "application/json"
        },
        {
         "href": "http://127.0.0.1:8008/jobs",
         "hreflang": "en",
         "rel": "service",
         "title": "get_jobs",
         "type": "application/json"
        },
        {
         "href": "http://127.0.0.1:8008/jobs/{jobId}",
         "hreflang": "en",
         "rel": "service",
         "title": "get_job",
         "type": "application/json"
        },
        {
         "href": "http://127.0.0.1:8008/jobs/{jobId}",
         "hreflang": "en",
         "rel": "service",
         "title": "dismiss_job",
         "type": "application/json"
        },
        {
         "href": "http://127.0.0.1:8008/jobs/{jobId}/results",
         "hreflang": "en",
         "rel": "service",
         "title": "get_job_results",
         "type": "application/json"
        }
       ],
       "title": "S2GOS API Server (local dummy for testing)"
      },
      "text/html": [
       "<pre><code class='text-json'>{\n",
       "  &quot;description&quot;: &quot;Local test server implementing the OGC API - Processes 1.0 Standard&quot;,\n",
       "  &quot;links&quot;: [\n",
       "    {\n",
       "      &quot;href&quot;: &quot;http://127.0.0.1:8008/&quot;,\n",
       "      &quot;hreflang&quot;: &quot;en&quot;,\n",
       "      &quot;rel&quot;: &quot;self&quot;,\n",
       "      &quot;title&quot;: &quot;get_capabilities&quot;,\n",
       "      &quot;type&quot;: &quot;application/json&quot;\n",
       "    },\n",
       "    {\n",
       "      &quot;href&quot;: &quot;http://127.0.0.1:8008/openapi.json&quot;,\n",
       "      &quot;hreflang&quot;: &quot;en&quot;,\n",
       "      &quot;rel&quot;: &quot;service&quot;,\n",
       "      &quot;title&quot;: &quot;openapi&quot;,\n",
       "      &quot;type&quot;: &quot;application/json&quot;\n",
       "    },\n",
       "    {\n",
       "      &quot;href&quot;: &quot;http://127.0.0.1:8008/docs&quot;,\n",
       "      &quot;hreflang&quot;: &quot;en&quot;,\n",
       "      &quot;rel&quot;: &quot;service&quot;,\n",
       "      &quot;title&quot;: &quot;swagger_ui_html&quot;,\n",
       "      &quot;type&quot;: &quot;text/html&quot;\n",
       "    },\n",
       "    {\n",
       "      &quot;href&quot;: &quot;http://127.0.0.1:8008/docs/oauth2-redirect&quot;,\n",
       "      &quot;hreflang&quot;: &quot;en&quot;,\n",
       "      &quot;rel&quot;: &quot;service&quot;,\n",
       "      &quot;title&quot;: &quot;swagger_ui_redirect&quot;,\n",
       "      &quot;type&quot;: &quot;text/html&quot;\n",
       "    },\n",
       "    {\n",
       "      &quot;href&quot;: &quot;http://127.0.0.1:8008/redoc&quot;,\n",
       "      &quot;hreflang&quot;: &quot;en&quot;,\n",
       "      &quot;rel&quot;: &quot;service&quot;,\n",
       "      &quot;title&quot;: &quot;redoc_html&quot;,\n",
       "      &quot;type&quot;: &quot;text/html&quot;\n",
       "    },\n",
       "    {\n",
       "      &quot;href&quot;: &quot;http://127.0.0.1:8008/&quot;,\n",
       "      &quot;hreflang&quot;: &quot;en&quot;,\n",
       "      &quot;rel&quot;: &quot;service&quot;,\n",
       "      &quot;title&quot;: &quot;get_capabilities&quot;,\n",
       "      &quot;type&quot;: &quot;application/json&quot;\n",
       "    },\n",
       "    {\n",
       "      &quot;href&quot;: &quot;http://127.0.0.1:8008/conformance&quot;,\n",
       "      &quot;hreflang&quot;: &quot;en&quot;,\n",
       "      &quot;rel&quot;: &quot;service&quot;,\n",
       "      &quot;title&quot;: &quot;get_conformance&quot;,\n",
       "      &quot;type&quot;: &quot;application/json&quot;\n",
       "    },\n",
       "    {\n",
       "      &quot;href&quot;: &quot;http://127.0.0.1:8008/processes&quot;,\n",
       "      &quot;hreflang&quot;: &quot;en&quot;,\n",
       "      &quot;rel&quot;: &quot;service&quot;,\n",
       "      &quot;title&quot;: &quot;get_processes&quot;,\n",
       "      &quot;type&quot;: &quot;application/json&quot;\n",
       "    },\n",
       "    {\n",
       "      &quot;href&quot;: &quot;http://127.0.0.1:8008/processes/{processID}&quot;,\n",
       "      &quot;hreflang&quot;: &quot;en&quot;,\n",
       "      &quot;rel&quot;: &quot;service&quot;,\n",
       "      &quot;title&quot;: &quot;get_process&quot;,\n",
       "      &quot;type&quot;: &quot;application/json&quot;\n",
       "    },\n",
       "    {\n",
       "      &quot;href&quot;: &quot;http://127.0.0.1:8008/processes/{processID}/execution&quot;,\n",
       "      &quot;hreflang&quot;: &quot;en&quot;,\n",
       "      &quot;rel&quot;: &quot;service&quot;,\n",
       "      &quot;title&quot;: &quot;execute_process&quot;,\n",
       "      &quot;type&quot;: &quot;application/json&quot;\n",
       "    },\n",
       "    {\n",
       "      &quot;href&quot;: &quot;http://127.0.0.1:8008/jobs&quot;,\n",
       "      &quot;hreflang&quot;: &quot;en&quot;,\n",
       "      &quot;rel&quot;: &quot;service&quot;,\n",
       "      &quot;title&quot;: &quot;get_jobs&quot;,\n",
       "      &quot;type&quot;: &quot;application/json&quot;\n",
       "    },\n",
       "    {\n",
       "      &quot;href&quot;: &quot;http://127.0.0.1:8008/jobs/{jobId}&quot;,\n",
       "      &quot;hreflang&quot;: &quot;en&quot;,\n",
       "      &quot;rel&quot;: &quot;service&quot;,\n",
       "      &quot;title&quot;: &quot;get_job&quot;,\n",
       "      &quot;type&quot;: &quot;application/json&quot;\n",
       "    },\n",
       "    {\n",
       "      &quot;href&quot;: &quot;http://127.0.0.1:8008/jobs/{jobId}&quot;,\n",
       "      &quot;hreflang&quot;: &quot;en&quot;,\n",
       "      &quot;rel&quot;: &quot;service&quot;,\n",
       "      &quot;title&quot;: &quot;dismiss_job&quot;,\n",
       "      &quot;type&quot;: &quot;application/json&quot;\n",
       "    },\n",
       "    {\n",
       "      &quot;href&quot;: &quot;http://127.0.0.1:8008/jobs/{jobId}/results&quot;,\n",
       "      &quot;hreflang&quot;: &quot;en&quot;,\n",
       "      &quot;rel&quot;: &quot;service&quot;,\n",
       "      &quot;title&quot;: &quot;get_job_results&quot;,\n",
       "      &quot;type&quot;: &quot;application/json&quot;\n",
       "    }\n",
       "  ],\n",
       "  &quot;title&quot;: &quot;S2GOS API Server (local dummy for testing)&quot;\n",
       "}</code></pre>"
      ],
      "text/plain": [
       "Capabilities(title='S2GOS API Server (local dummy for testing)', description='Local test server implementing the OGC API - Processes 1.0 Standard', links=[Link(href='http://127.0.0.1:8008/', rel='self', type='application/json', hreflang='en', title='get_capabilities'), Link(href='http://127.0.0.1:8008/openapi.json', rel='service', type='application/json', hreflang='en', title='openapi'), Link(href='http://127.0.0.1:8008/docs', rel='service', type='text/html', hreflang='en', title='swagger_ui_html'), Link(href='http://127.0.0.1:8008/docs/oauth2-redirect', rel='service', type='text/html', hreflang='en', title='swagger_ui_redirect'), Link(href='http://127.0.0.1:8008/redoc', rel='service', type='text/html', hreflang='en', title='redoc_html'), Link(href='http://127.0.0.1:8008/', rel='service', type='application/json', hreflang='en', title='get_capabilities'), Link(href='http://127.0.0.1:8008/conformance', rel='service', type='application/json', hreflang='en', title='get_conformance'), Link(href='http://127.0.0.1:8008/processes', rel='service', type='application/json', hreflang='en', title='get_processes'), Link(href='http://127.0.0.1:8008/processes/{processID}', rel='service', type='application/json', hreflang='en', title='get_process'), Link(href='http://127.0.0.1:8008/processes/{processID}/execution', rel='service', type='application/json', hreflang='en', title='execute_process'), Link(href='http://127.0.0.1:8008/jobs', rel='service', type='application/json', hreflang='en', title='get_jobs'), Link(href='http://127.0.0.1:8008/jobs/{jobId}', rel='service', type='application/json', hreflang='en', title='get_job'), Link(href='http://127.0.0.1:8008/jobs/{jobId}', rel='service', type='application/json', hreflang='en', title='dismiss_job'), Link(href='http://127.0.0.1:8008/jobs/{jobId}/results', rel='service', type='application/json', hreflang='en', title='get_job_results')])"
      ]
     },
     "execution_count": 3,
     "metadata": {
      "application/json": {
       "root": "Capabilities object:"
      }
     },
     "output_type": "execute_result"
    }
   ],
   "source": [
    "client.get_capabilities()"
   ]
  },
  {
   "cell_type": "code",
   "execution_count": 4,
   "id": "ed699a45-ff53-4278-8023-ee131f225088",
   "metadata": {},
   "outputs": [
    {
     "data": {
      "application/json": {
       "conformsTo": [
        "http://www.opengis.net/spec/ogcapi-processes-1/1.0/conf/core",
        "http://www.opengis.net/spec/ogcapi-processes-1/1.0/conf/ogc-process-description",
        "http://www.opengis.net/spec/ogcapi-processes-1/1.0/conf/json",
        "http://www.opengis.net/spec/ogcapi-processes-1/1.0/conf/oas30",
        "http://www.opengis.net/spec/ogcapi-processes-1/1.0/conf/job-list",
        "http://www.opengis.net/spec/ogcapi-processes-1/1.0/conf/dismiss"
       ]
      },
      "text/html": [
       "<pre><code class='text-json'>{\n",
       "  &quot;conformsTo&quot;: [\n",
       "    &quot;http://www.opengis.net/spec/ogcapi-processes-1/1.0/conf/core&quot;,\n",
       "    &quot;http://www.opengis.net/spec/ogcapi-processes-1/1.0/conf/ogc-process-description&quot;,\n",
       "    &quot;http://www.opengis.net/spec/ogcapi-processes-1/1.0/conf/json&quot;,\n",
       "    &quot;http://www.opengis.net/spec/ogcapi-processes-1/1.0/conf/oas30&quot;,\n",
       "    &quot;http://www.opengis.net/spec/ogcapi-processes-1/1.0/conf/job-list&quot;,\n",
       "    &quot;http://www.opengis.net/spec/ogcapi-processes-1/1.0/conf/dismiss&quot;\n",
       "  ]\n",
       "}</code></pre>"
      ],
      "text/plain": [
       "ConformanceDeclaration(conformsTo=['http://www.opengis.net/spec/ogcapi-processes-1/1.0/conf/core', 'http://www.opengis.net/spec/ogcapi-processes-1/1.0/conf/ogc-process-description', 'http://www.opengis.net/spec/ogcapi-processes-1/1.0/conf/json', 'http://www.opengis.net/spec/ogcapi-processes-1/1.0/conf/oas30', 'http://www.opengis.net/spec/ogcapi-processes-1/1.0/conf/job-list', 'http://www.opengis.net/spec/ogcapi-processes-1/1.0/conf/dismiss'])"
      ]
     },
     "execution_count": 4,
     "metadata": {
      "application/json": {
       "root": "ConformanceDeclaration object:"
      }
     },
     "output_type": "execute_result"
    }
   ],
   "source": [
    "client.get_conformance()"
   ]
  },
  {
   "cell_type": "code",
   "execution_count": 5,
   "id": "7154afcd-59a9-484f-8271-1b4773b8c636",
   "metadata": {},
   "outputs": [
    {
     "data": {
      "application/json": {
       "links": [
        {
         "href": "http://127.0.0.1:8008/processes",
         "hreflang": "en",
         "rel": "self",
         "title": "get_processes",
         "type": "application/json"
        }
       ],
       "processes": [
        {
         "description": "Sleeps for `duration` seconds. Fails on purpose if `fail` is `True`. Returns the effective amount of sleep in seconds.",
         "id": "sleep_a_while",
         "title": "Sleep Processor",
         "version": "0.0.0"
        },
        {
         "description": "Returns the list of prime numbers between a `min_val` and `max_val`.",
         "id": "primes_between",
         "title": "Prime Processor",
         "version": "0.0.0"
        },
        {
         "description": "Simulate a set scene images slices for testing. Creates an xarray dataset with `periodicity` time slices and writes it as Zarr into a temporary location. Requires installed `dask`, `xarray`, and `zarr` packages.",
         "id": "simulate_scene",
         "title": "Generate scene for testing",
         "version": "0.0.0"
        },
        {
         "id": "return_base_model",
         "title": "BaseModel Test",
         "version": "0.0.0"
        }
       ]
      },
      "text/html": [
       "<pre><code class='text-json'>{\n",
       "  &quot;links&quot;: [\n",
       "    {\n",
       "      &quot;href&quot;: &quot;http://127.0.0.1:8008/processes&quot;,\n",
       "      &quot;hreflang&quot;: &quot;en&quot;,\n",
       "      &quot;rel&quot;: &quot;self&quot;,\n",
       "      &quot;title&quot;: &quot;get_processes&quot;,\n",
       "      &quot;type&quot;: &quot;application/json&quot;\n",
       "    }\n",
       "  ],\n",
       "  &quot;processes&quot;: [\n",
       "    {\n",
       "      &quot;description&quot;: &quot;Sleeps for `duration` seconds. Fails on purpose if `fail` is `True`. Returns the effective amount of sleep in seconds.&quot;,\n",
       "      &quot;id&quot;: &quot;sleep_a_while&quot;,\n",
       "      &quot;title&quot;: &quot;Sleep Processor&quot;,\n",
       "      &quot;version&quot;: &quot;0.0.0&quot;\n",
       "    },\n",
       "    {\n",
       "      &quot;description&quot;: &quot;Returns the list of prime numbers between a `min_val` and `max_val`.&quot;,\n",
       "      &quot;id&quot;: &quot;primes_between&quot;,\n",
       "      &quot;title&quot;: &quot;Prime Processor&quot;,\n",
       "      &quot;version&quot;: &quot;0.0.0&quot;\n",
       "    },\n",
       "    {\n",
       "      &quot;description&quot;: &quot;Simulate a set scene images slices for testing. Creates an xarray dataset with `periodicity` time slices and writes it as Zarr into a temporary location. Requires installed `dask`, `xarray`, and `zarr` packages.&quot;,\n",
       "      &quot;id&quot;: &quot;simulate_scene&quot;,\n",
       "      &quot;title&quot;: &quot;Generate scene for testing&quot;,\n",
       "      &quot;version&quot;: &quot;0.0.0&quot;\n",
       "    },\n",
       "    {\n",
       "      &quot;id&quot;: &quot;return_base_model&quot;,\n",
       "      &quot;title&quot;: &quot;BaseModel Test&quot;,\n",
       "      &quot;version&quot;: &quot;0.0.0&quot;\n",
       "    }\n",
       "  ]\n",
       "}</code></pre>"
      ],
      "text/plain": [
       "ProcessList(processes=[ProcessSummary(title='Sleep Processor', description='Sleeps for `duration` seconds. Fails on purpose if `fail` is `True`. Returns the effective amount of sleep in seconds.', keywords=None, metadata=None, additionalParameters=None, id='sleep_a_while', version='0.0.0', jobControlOptions=None, outputTransmission=None, links=None), ProcessSummary(title='Prime Processor', description='Returns the list of prime numbers between a `min_val` and `max_val`.', keywords=None, metadata=None, additionalParameters=None, id='primes_between', version='0.0.0', jobControlOptions=None, outputTransmission=None, links=None), ProcessSummary(title='Generate scene for testing', description='Simulate a set scene images slices for testing. Creates an xarray dataset with `periodicity` time slices and writes it as Zarr into a temporary location. Requires installed `dask`, `xarray`, and `zarr` packages.', keywords=None, metadata=None, additionalParameters=None, id='simulate_scene', version='0.0.0', jobControlOptions=None, outputTransmission=None, links=None), ProcessSummary(title='BaseModel Test', description=None, keywords=None, metadata=None, additionalParameters=None, id='return_base_model', version='0.0.0', jobControlOptions=None, outputTransmission=None, links=None)], links=[Link(href='http://127.0.0.1:8008/processes', rel='self', type='application/json', hreflang='en', title='get_processes')])"
      ]
     },
     "execution_count": 5,
     "metadata": {
      "application/json": {
       "root": "ProcessList object:"
      }
     },
     "output_type": "execute_result"
    }
   ],
   "source": [
    "client.get_processes()"
   ]
  },
  {
   "cell_type": "code",
   "execution_count": 6,
   "id": "a629ba21-e389-4131-ae84-2ce5c5fc7aa9",
   "metadata": {},
   "outputs": [
    {
     "data": {
      "application/json": {
       "description": "Sleeps for `duration` seconds. Fails on purpose if `fail` is `True`. Returns the effective amount of sleep in seconds.",
       "id": "sleep_a_while",
       "inputs": {
        "duration": {
         "minOccurs": 0,
         "schema": {
          "default": 10,
          "type": "number"
         },
         "title": "Duration"
        },
        "fail": {
         "minOccurs": 0,
         "schema": {
          "default": false,
          "type": "boolean"
         },
         "title": "Fail"
        }
       },
       "outputs": {
        "return_value": {
         "schema": {
          "type": "number"
         },
         "title": "Return Value"
        }
       },
       "title": "Sleep Processor",
       "version": "0.0.0"
      },
      "text/html": [
       "<pre><code class='text-json'>{\n",
       "  &quot;description&quot;: &quot;Sleeps for `duration` seconds. Fails on purpose if `fail` is `True`. Returns the effective amount of sleep in seconds.&quot;,\n",
       "  &quot;id&quot;: &quot;sleep_a_while&quot;,\n",
       "  &quot;inputs&quot;: {\n",
       "    &quot;duration&quot;: {\n",
       "      &quot;minOccurs&quot;: 0,\n",
       "      &quot;schema&quot;: {\n",
       "        &quot;default&quot;: 10,\n",
       "        &quot;type&quot;: &quot;number&quot;\n",
       "      },\n",
       "      &quot;title&quot;: &quot;Duration&quot;\n",
       "    },\n",
       "    &quot;fail&quot;: {\n",
       "      &quot;minOccurs&quot;: 0,\n",
       "      &quot;schema&quot;: {\n",
       "        &quot;default&quot;: false,\n",
       "        &quot;type&quot;: &quot;boolean&quot;\n",
       "      },\n",
       "      &quot;title&quot;: &quot;Fail&quot;\n",
       "    }\n",
       "  },\n",
       "  &quot;outputs&quot;: {\n",
       "    &quot;return_value&quot;: {\n",
       "      &quot;schema&quot;: {\n",
       "        &quot;type&quot;: &quot;number&quot;\n",
       "      },\n",
       "      &quot;title&quot;: &quot;Return Value&quot;\n",
       "    }\n",
       "  },\n",
       "  &quot;title&quot;: &quot;Sleep Processor&quot;,\n",
       "  &quot;version&quot;: &quot;0.0.0&quot;\n",
       "}</code></pre>"
      ],
      "text/plain": [
       "ProcessDescription(title='Sleep Processor', description='Sleeps for `duration` seconds. Fails on purpose if `fail` is `True`. Returns the effective amount of sleep in seconds.', keywords=None, metadata=None, additionalParameters=None, id='sleep_a_while', version='0.0.0', jobControlOptions=None, outputTransmission=None, links=None, inputs={'duration': InputDescription(title='Duration', description=None, keywords=None, metadata=None, additionalParameters=None, minOccurs=0, maxOccurs=None, schema_=Schema(field_ref=None, title=None, multipleOf=None, maximum=None, exclusiveMaximum=False, minimum=None, exclusiveMinimum=False, maxLength=None, minLength=0, pattern=None, maxItems=None, minItems=0, uniqueItems=False, maxProperties=None, minProperties=0, required=None, enum=None, type=<DataType.number: 'number'>, not_=None, allOf=None, oneOf=None, anyOf=None, items=None, properties=None, additionalProperties=True, description=None, format=None, default=10.0, nullable=False, readOnly=False, writeOnly=False, example=None, examples=None, deprecated=False, contentMediaType=None, contentEncoding=None, contentSchema=None)), 'fail': InputDescription(title='Fail', description=None, keywords=None, metadata=None, additionalParameters=None, minOccurs=0, maxOccurs=None, schema_=Schema(field_ref=None, title=None, multipleOf=None, maximum=None, exclusiveMaximum=False, minimum=None, exclusiveMinimum=False, maxLength=None, minLength=0, pattern=None, maxItems=None, minItems=0, uniqueItems=False, maxProperties=None, minProperties=0, required=None, enum=None, type=<DataType.boolean: 'boolean'>, not_=None, allOf=None, oneOf=None, anyOf=None, items=None, properties=None, additionalProperties=True, description=None, format=None, default=False, nullable=False, readOnly=False, writeOnly=False, example=None, examples=None, deprecated=False, contentMediaType=None, contentEncoding=None, contentSchema=None))}, outputs={'return_value': OutputDescription(title='Return Value', description=None, keywords=None, metadata=None, additionalParameters=None, schema_=Schema(field_ref=None, title=None, multipleOf=None, maximum=None, exclusiveMaximum=False, minimum=None, exclusiveMinimum=False, maxLength=None, minLength=0, pattern=None, maxItems=None, minItems=0, uniqueItems=False, maxProperties=None, minProperties=0, required=None, enum=None, type=<DataType.number: 'number'>, not_=None, allOf=None, oneOf=None, anyOf=None, items=None, properties=None, additionalProperties=True, description=None, format=None, default=None, nullable=False, readOnly=False, writeOnly=False, example=None, examples=None, deprecated=False, contentMediaType=None, contentEncoding=None, contentSchema=None))})"
      ]
     },
     "execution_count": 6,
     "metadata": {
      "application/json": {
       "root": "ProcessDescription object:"
      }
     },
     "output_type": "execute_result"
    }
   ],
   "source": [
    "client.get_process(process_id=\"sleep_a_while\")"
   ]
  },
  {
   "cell_type": "code",
   "execution_count": 7,
   "id": "e4e20f28-0ed4-4e30-9fcd-23238a7d06a0",
   "metadata": {},
   "outputs": [
    {
     "data": {
      "application/json": {
       "jobs": [],
       "links": [
        {
         "href": "http://127.0.0.1:8008/jobs",
         "hreflang": "en",
         "rel": "self",
         "title": "get_jobs",
         "type": "application/json"
        }
       ]
      },
      "text/html": [
       "<pre><code class='text-json'>{\n",
       "  &quot;jobs&quot;: [],\n",
       "  &quot;links&quot;: [\n",
       "    {\n",
       "      &quot;href&quot;: &quot;http://127.0.0.1:8008/jobs&quot;,\n",
       "      &quot;hreflang&quot;: &quot;en&quot;,\n",
       "      &quot;rel&quot;: &quot;self&quot;,\n",
       "      &quot;title&quot;: &quot;get_jobs&quot;,\n",
       "      &quot;type&quot;: &quot;application/json&quot;\n",
       "    }\n",
       "  ]\n",
       "}</code></pre>"
      ],
      "text/plain": [
       "JobList(jobs=[], links=[Link(href='http://127.0.0.1:8008/jobs', rel='self', type='application/json', hreflang='en', title='get_jobs')])"
      ]
     },
     "execution_count": 7,
     "metadata": {
      "application/json": {
       "root": "JobList object:"
      }
     },
     "output_type": "execute_result"
    }
   ],
   "source": [
    "client.get_jobs()"
   ]
  },
  {
   "cell_type": "code",
   "execution_count": 8,
   "id": "cc034916-02db-4ec2-8682-71710d54edf6",
   "metadata": {},
   "outputs": [
    {
     "data": {
      "application/json": {
       "created": "2025-08-14T15:34:19.681471Z",
       "jobID": "job_0",
       "processID": "sleep_a_while",
       "progress": 0,
       "started": "2025-08-14T15:34:19.684071Z",
       "status": "running",
       "type": "process",
       "updated": "2025-08-14T15:34:19.684583Z"
      },
      "text/html": [
       "<pre><code class='text-json'>{\n",
       "  &quot;created&quot;: &quot;2025-08-14T15:34:19.681471Z&quot;,\n",
       "  &quot;jobID&quot;: &quot;job_0&quot;,\n",
       "  &quot;processID&quot;: &quot;sleep_a_while&quot;,\n",
       "  &quot;progress&quot;: 0,\n",
       "  &quot;started&quot;: &quot;2025-08-14T15:34:19.684071Z&quot;,\n",
       "  &quot;status&quot;: &quot;running&quot;,\n",
       "  &quot;type&quot;: &quot;process&quot;,\n",
       "  &quot;updated&quot;: &quot;2025-08-14T15:34:19.684583Z&quot;\n",
       "}</code></pre>"
      ],
      "text/plain": [
       "JobInfo(processID='sleep_a_while', type=<JobType.process: 'process'>, jobID='job_0', status=<JobStatus.running: 'running'>, message=None, created=datetime.datetime(2025, 8, 14, 15, 34, 19, 681471, tzinfo=TzInfo(UTC)), started=datetime.datetime(2025, 8, 14, 15, 34, 19, 684071, tzinfo=TzInfo(UTC)), finished=None, updated=datetime.datetime(2025, 8, 14, 15, 34, 19, 684583, tzinfo=TzInfo(UTC)), progress=0, links=None, traceback=None)"
      ]
     },
     "execution_count": 8,
     "metadata": {
      "application/json": {
       "root": "JobInfo object:"
      }
     },
     "output_type": "execute_result"
    }
   ],
   "source": [
    "client.execute_process(process_id=\"sleep_a_while\", request=ProcessRequest())"
   ]
  },
  {
   "cell_type": "code",
   "execution_count": 9,
   "id": "4cd38b1d-5989-4991-9b62-d1981d33a46e",
   "metadata": {},
   "outputs": [
    {
     "data": {
      "application/json": {
       "created": "2025-08-14T15:34:19.713209Z",
       "jobID": "job_1",
       "processID": "sleep_a_while",
       "progress": 0,
       "started": "2025-08-14T15:34:19.715112Z",
       "status": "running",
       "type": "process",
       "updated": "2025-08-14T15:34:19.715612Z"
      },
      "text/html": [
       "<pre><code class='text-json'>{\n",
       "  &quot;created&quot;: &quot;2025-08-14T15:34:19.713209Z&quot;,\n",
       "  &quot;jobID&quot;: &quot;job_1&quot;,\n",
       "  &quot;processID&quot;: &quot;sleep_a_while&quot;,\n",
       "  &quot;progress&quot;: 0,\n",
       "  &quot;started&quot;: &quot;2025-08-14T15:34:19.715112Z&quot;,\n",
       "  &quot;status&quot;: &quot;running&quot;,\n",
       "  &quot;type&quot;: &quot;process&quot;,\n",
       "  &quot;updated&quot;: &quot;2025-08-14T15:34:19.715612Z&quot;\n",
       "}</code></pre>"
      ],
      "text/plain": [
       "JobInfo(processID='sleep_a_while', type=<JobType.process: 'process'>, jobID='job_1', status=<JobStatus.running: 'running'>, message=None, created=datetime.datetime(2025, 8, 14, 15, 34, 19, 713209, tzinfo=TzInfo(UTC)), started=datetime.datetime(2025, 8, 14, 15, 34, 19, 715112, tzinfo=TzInfo(UTC)), finished=None, updated=datetime.datetime(2025, 8, 14, 15, 34, 19, 715612, tzinfo=TzInfo(UTC)), progress=0, links=None, traceback=None)"
      ]
     },
     "execution_count": 9,
     "metadata": {
      "application/json": {
       "root": "JobInfo object:"
      }
     },
     "output_type": "execute_result"
    }
   ],
   "source": [
    "client.execute_process(process_id=\"sleep_a_while\", request={})"
   ]
  },
  {
   "cell_type": "code",
   "execution_count": 10,
   "id": "21b94f40-5a1b-408f-a3a7-52de97b05b82",
   "metadata": {},
   "outputs": [
    {
     "data": {
      "application/json": {
       "created": "2025-08-14T15:34:19.758584Z",
       "finished": "2025-08-14T15:34:19.760769Z",
       "jobID": "job_2",
       "message": "Done",
       "processID": "primes_between",
       "started": "2025-08-14T15:34:19.760379Z",
       "status": "successful",
       "type": "process",
       "updated": "2025-08-14T15:34:19.760724Z"
      },
      "text/html": [
       "<pre><code class='text-json'>{\n",
       "  &quot;created&quot;: &quot;2025-08-14T15:34:19.758584Z&quot;,\n",
       "  &quot;finished&quot;: &quot;2025-08-14T15:34:19.760769Z&quot;,\n",
       "  &quot;jobID&quot;: &quot;job_2&quot;,\n",
       "  &quot;message&quot;: &quot;Done&quot;,\n",
       "  &quot;processID&quot;: &quot;primes_between&quot;,\n",
       "  &quot;started&quot;: &quot;2025-08-14T15:34:19.760379Z&quot;,\n",
       "  &quot;status&quot;: &quot;successful&quot;,\n",
       "  &quot;type&quot;: &quot;process&quot;,\n",
       "  &quot;updated&quot;: &quot;2025-08-14T15:34:19.760724Z&quot;\n",
       "}</code></pre>"
      ],
      "text/plain": [
       "JobInfo(processID='primes_between', type=<JobType.process: 'process'>, jobID='job_2', status=<JobStatus.successful: 'successful'>, message='Done', created=datetime.datetime(2025, 8, 14, 15, 34, 19, 758584, tzinfo=TzInfo(UTC)), started=datetime.datetime(2025, 8, 14, 15, 34, 19, 760379, tzinfo=TzInfo(UTC)), finished=datetime.datetime(2025, 8, 14, 15, 34, 19, 760769, tzinfo=TzInfo(UTC)), updated=datetime.datetime(2025, 8, 14, 15, 34, 19, 760724, tzinfo=TzInfo(UTC)), progress=None, links=None, traceback=None)"
      ]
     },
     "execution_count": 10,
     "metadata": {
      "application/json": {
       "root": "JobInfo object:"
      }
     },
     "output_type": "execute_result"
    }
   ],
   "source": [
    "client.execute_process(process_id=\"primes_between\", request={})"
   ]
  },
  {
   "cell_type": "code",
   "execution_count": 11,
   "id": "9cf5e867-d91e-45dd-91b3-a54bc2d087a7",
   "metadata": {},
   "outputs": [
    {
     "data": {
      "application/json": {
       "jobs": [
        {
         "created": "2025-08-14T15:34:19.681471Z",
         "jobID": "job_0",
         "processID": "sleep_a_while",
         "progress": 1,
         "started": "2025-08-14T15:34:19.684071Z",
         "status": "running",
         "type": "process",
         "updated": "2025-08-14T15:34:19.784887Z"
        },
        {
         "created": "2025-08-14T15:34:19.713209Z",
         "jobID": "job_1",
         "processID": "sleep_a_while",
         "progress": 0,
         "started": "2025-08-14T15:34:19.715112Z",
         "status": "running",
         "type": "process",
         "updated": "2025-08-14T15:34:19.715612Z"
        },
        {
         "created": "2025-08-14T15:34:19.758584Z",
         "finished": "2025-08-14T15:34:19.760769Z",
         "jobID": "job_2",
         "message": "Done",
         "processID": "primes_between",
         "started": "2025-08-14T15:34:19.760379Z",
         "status": "successful",
         "type": "process",
         "updated": "2025-08-14T15:34:19.760724Z"
        }
       ],
       "links": [
        {
         "href": "http://127.0.0.1:8008/jobs",
         "hreflang": "en",
         "rel": "self",
         "title": "get_jobs",
         "type": "application/json"
        }
       ]
      },
      "text/html": [
       "<pre><code class='text-json'>{\n",
       "  &quot;jobs&quot;: [\n",
       "    {\n",
       "      &quot;created&quot;: &quot;2025-08-14T15:34:19.681471Z&quot;,\n",
       "      &quot;jobID&quot;: &quot;job_0&quot;,\n",
       "      &quot;processID&quot;: &quot;sleep_a_while&quot;,\n",
       "      &quot;progress&quot;: 1,\n",
       "      &quot;started&quot;: &quot;2025-08-14T15:34:19.684071Z&quot;,\n",
       "      &quot;status&quot;: &quot;running&quot;,\n",
       "      &quot;type&quot;: &quot;process&quot;,\n",
       "      &quot;updated&quot;: &quot;2025-08-14T15:34:19.784887Z&quot;\n",
       "    },\n",
       "    {\n",
       "      &quot;created&quot;: &quot;2025-08-14T15:34:19.713209Z&quot;,\n",
       "      &quot;jobID&quot;: &quot;job_1&quot;,\n",
       "      &quot;processID&quot;: &quot;sleep_a_while&quot;,\n",
       "      &quot;progress&quot;: 0,\n",
       "      &quot;started&quot;: &quot;2025-08-14T15:34:19.715112Z&quot;,\n",
       "      &quot;status&quot;: &quot;running&quot;,\n",
       "      &quot;type&quot;: &quot;process&quot;,\n",
       "      &quot;updated&quot;: &quot;2025-08-14T15:34:19.715612Z&quot;\n",
       "    },\n",
       "    {\n",
       "      &quot;created&quot;: &quot;2025-08-14T15:34:19.758584Z&quot;,\n",
       "      &quot;finished&quot;: &quot;2025-08-14T15:34:19.760769Z&quot;,\n",
       "      &quot;jobID&quot;: &quot;job_2&quot;,\n",
       "      &quot;message&quot;: &quot;Done&quot;,\n",
       "      &quot;processID&quot;: &quot;primes_between&quot;,\n",
       "      &quot;started&quot;: &quot;2025-08-14T15:34:19.760379Z&quot;,\n",
       "      &quot;status&quot;: &quot;successful&quot;,\n",
       "      &quot;type&quot;: &quot;process&quot;,\n",
       "      &quot;updated&quot;: &quot;2025-08-14T15:34:19.760724Z&quot;\n",
       "    }\n",
       "  ],\n",
       "  &quot;links&quot;: [\n",
       "    {\n",
       "      &quot;href&quot;: &quot;http://127.0.0.1:8008/jobs&quot;,\n",
       "      &quot;hreflang&quot;: &quot;en&quot;,\n",
       "      &quot;rel&quot;: &quot;self&quot;,\n",
       "      &quot;title&quot;: &quot;get_jobs&quot;,\n",
       "      &quot;type&quot;: &quot;application/json&quot;\n",
       "    }\n",
       "  ]\n",
       "}</code></pre>"
      ],
      "text/plain": [
       "JobList(jobs=[JobInfo(processID='sleep_a_while', type=<JobType.process: 'process'>, jobID='job_0', status=<JobStatus.running: 'running'>, message=None, created=datetime.datetime(2025, 8, 14, 15, 34, 19, 681471, tzinfo=TzInfo(UTC)), started=datetime.datetime(2025, 8, 14, 15, 34, 19, 684071, tzinfo=TzInfo(UTC)), finished=None, updated=datetime.datetime(2025, 8, 14, 15, 34, 19, 784887, tzinfo=TzInfo(UTC)), progress=1, links=None, traceback=None), JobInfo(processID='sleep_a_while', type=<JobType.process: 'process'>, jobID='job_1', status=<JobStatus.running: 'running'>, message=None, created=datetime.datetime(2025, 8, 14, 15, 34, 19, 713209, tzinfo=TzInfo(UTC)), started=datetime.datetime(2025, 8, 14, 15, 34, 19, 715112, tzinfo=TzInfo(UTC)), finished=None, updated=datetime.datetime(2025, 8, 14, 15, 34, 19, 715612, tzinfo=TzInfo(UTC)), progress=0, links=None, traceback=None), JobInfo(processID='primes_between', type=<JobType.process: 'process'>, jobID='job_2', status=<JobStatus.successful: 'successful'>, message='Done', created=datetime.datetime(2025, 8, 14, 15, 34, 19, 758584, tzinfo=TzInfo(UTC)), started=datetime.datetime(2025, 8, 14, 15, 34, 19, 760379, tzinfo=TzInfo(UTC)), finished=datetime.datetime(2025, 8, 14, 15, 34, 19, 760769, tzinfo=TzInfo(UTC)), updated=datetime.datetime(2025, 8, 14, 15, 34, 19, 760724, tzinfo=TzInfo(UTC)), progress=None, links=None, traceback=None)], links=[Link(href='http://127.0.0.1:8008/jobs', rel='self', type='application/json', hreflang='en', title='get_jobs')])"
      ]
     },
     "execution_count": 11,
     "metadata": {
      "application/json": {
       "root": "JobList object:"
      }
     },
     "output_type": "execute_result"
    }
   ],
   "source": [
    "client.get_jobs()"
   ]
  },
  {
   "cell_type": "code",
   "execution_count": 12,
   "id": "b7f99444-d724-4451-aeae-0c23e8245dd1",
   "metadata": {},
   "outputs": [],
   "source": [
    "# client.get_job_results(\"job_1\")"
   ]
  },
  {
   "cell_type": "code",
   "execution_count": 13,
   "id": "736d52d8-d91a-435b-8dfb-b016a5139201",
   "metadata": {},
   "outputs": [],
   "source": [
    "for job in client.get_jobs().jobs:\n",
    "    client.dismiss_job(job.jobID)"
   ]
  },
  {
   "cell_type": "code",
   "execution_count": 14,
   "id": "4636fdfc-3f61-40b4-889e-497c2dd50d91",
   "metadata": {},
   "outputs": [
    {
     "data": {
      "application/json": {
       "jobs": [
        {
         "created": "2025-08-14T15:34:19.681471Z",
         "finished": "2025-08-14T15:34:19.888753Z",
         "jobID": "job_0",
         "processID": "sleep_a_while",
         "progress": 1,
         "started": "2025-08-14T15:34:19.684071Z",
         "status": "dismissed",
         "type": "process",
         "updated": "2025-08-14T15:34:19.784887Z"
        },
        {
         "created": "2025-08-14T15:34:19.713209Z",
         "jobID": "job_1",
         "processID": "sleep_a_while",
         "progress": 1,
         "started": "2025-08-14T15:34:19.715112Z",
         "status": "running",
         "type": "process",
         "updated": "2025-08-14T15:34:19.816266Z"
        }
       ],
       "links": [
        {
         "href": "http://127.0.0.1:8008/jobs",
         "hreflang": "en",
         "rel": "self",
         "title": "get_jobs",
         "type": "application/json"
        }
       ]
      },
      "text/html": [
       "<pre><code class='text-json'>{\n",
       "  &quot;jobs&quot;: [\n",
       "    {\n",
       "      &quot;created&quot;: &quot;2025-08-14T15:34:19.681471Z&quot;,\n",
       "      &quot;finished&quot;: &quot;2025-08-14T15:34:19.888753Z&quot;,\n",
       "      &quot;jobID&quot;: &quot;job_0&quot;,\n",
       "      &quot;processID&quot;: &quot;sleep_a_while&quot;,\n",
       "      &quot;progress&quot;: 1,\n",
       "      &quot;started&quot;: &quot;2025-08-14T15:34:19.684071Z&quot;,\n",
       "      &quot;status&quot;: &quot;dismissed&quot;,\n",
       "      &quot;type&quot;: &quot;process&quot;,\n",
       "      &quot;updated&quot;: &quot;2025-08-14T15:34:19.784887Z&quot;\n",
       "    },\n",
       "    {\n",
       "      &quot;created&quot;: &quot;2025-08-14T15:34:19.713209Z&quot;,\n",
       "      &quot;jobID&quot;: &quot;job_1&quot;,\n",
       "      &quot;processID&quot;: &quot;sleep_a_while&quot;,\n",
       "      &quot;progress&quot;: 1,\n",
       "      &quot;started&quot;: &quot;2025-08-14T15:34:19.715112Z&quot;,\n",
       "      &quot;status&quot;: &quot;running&quot;,\n",
       "      &quot;type&quot;: &quot;process&quot;,\n",
       "      &quot;updated&quot;: &quot;2025-08-14T15:34:19.816266Z&quot;\n",
       "    }\n",
       "  ],\n",
       "  &quot;links&quot;: [\n",
       "    {\n",
       "      &quot;href&quot;: &quot;http://127.0.0.1:8008/jobs&quot;,\n",
       "      &quot;hreflang&quot;: &quot;en&quot;,\n",
       "      &quot;rel&quot;: &quot;self&quot;,\n",
       "      &quot;title&quot;: &quot;get_jobs&quot;,\n",
       "      &quot;type&quot;: &quot;application/json&quot;\n",
       "    }\n",
       "  ]\n",
       "}</code></pre>"
      ],
      "text/plain": [
       "JobList(jobs=[JobInfo(processID='sleep_a_while', type=<JobType.process: 'process'>, jobID='job_0', status=<JobStatus.dismissed: 'dismissed'>, message=None, created=datetime.datetime(2025, 8, 14, 15, 34, 19, 681471, tzinfo=TzInfo(UTC)), started=datetime.datetime(2025, 8, 14, 15, 34, 19, 684071, tzinfo=TzInfo(UTC)), finished=datetime.datetime(2025, 8, 14, 15, 34, 19, 888753, tzinfo=TzInfo(UTC)), updated=datetime.datetime(2025, 8, 14, 15, 34, 19, 784887, tzinfo=TzInfo(UTC)), progress=1, links=None, traceback=None), JobInfo(processID='sleep_a_while', type=<JobType.process: 'process'>, jobID='job_1', status=<JobStatus.running: 'running'>, message=None, created=datetime.datetime(2025, 8, 14, 15, 34, 19, 713209, tzinfo=TzInfo(UTC)), started=datetime.datetime(2025, 8, 14, 15, 34, 19, 715112, tzinfo=TzInfo(UTC)), finished=None, updated=datetime.datetime(2025, 8, 14, 15, 34, 19, 816266, tzinfo=TzInfo(UTC)), progress=1, links=None, traceback=None)], links=[Link(href='http://127.0.0.1:8008/jobs', rel='self', type='application/json', hreflang='en', title='get_jobs')])"
      ]
     },
     "execution_count": 14,
     "metadata": {
      "application/json": {
       "root": "JobList object:"
      }
     },
     "output_type": "execute_result"
    }
   ],
   "source": [
    "client.get_jobs()"
   ]
  },
  {
   "cell_type": "code",
   "execution_count": null,
   "id": "f6f7b188-2124-480c-bb54-f7dabf22076a",
   "metadata": {},
   "outputs": [],
   "source": []
  },
  {
   "cell_type": "code",
   "execution_count": null,
   "id": "cd2d8bd5-1f52-4edf-868b-7730d8077602",
   "metadata": {},
   "outputs": [],
   "source": []
  }
 ],
 "metadata": {
  "kernelspec": {
   "display_name": "Python 3 (ipykernel)",
   "language": "python",
   "name": "python3"
  },
  "language_info": {
   "codemirror_mode": {
    "name": "ipython",
    "version": 3
   },
   "file_extension": ".py",
   "mimetype": "text/x-python",
   "name": "python",
   "nbconvert_exporter": "python",
   "pygments_lexer": "ipython3",
   "version": "3.13.5"
  }
 },
 "nbformat": 4,
 "nbformat_minor": 5
}
