{
 "cells": [
  {
   "cell_type": "code",
   "execution_count": 4,
   "id": "3f75681f-bc08-491e-81f6-5d1dcc88b7f3",
   "metadata": {},
   "outputs": [
    {
     "ename": "ModuleNotFoundError",
     "evalue": "No module named 'airflow_client'",
     "output_type": "error",
     "traceback": [
      "\u001b[31m---------------------------------------------------------------------------\u001b[39m",
      "\u001b[31mModuleNotFoundError\u001b[39m                       Traceback (most recent call last)",
      "\u001b[36mCell\u001b[39m\u001b[36m \u001b[39m\u001b[32mIn[4]\u001b[39m\u001b[32m, line 4\u001b[39m\n\u001b[32m      1\u001b[39m \u001b[38;5;28;01mimport\u001b[39;00m\u001b[38;5;250m \u001b[39m\u001b[34;01mos\u001b[39;00m\n\u001b[32m      2\u001b[39m \u001b[38;5;28;01mfrom\u001b[39;00m\u001b[38;5;250m \u001b[39m\u001b[34;01mpprint\u001b[39;00m\u001b[38;5;250m \u001b[39m\u001b[38;5;28;01mimport\u001b[39;00m pprint\n\u001b[32m----> \u001b[39m\u001b[32m4\u001b[39m \u001b[38;5;28;01mfrom\u001b[39;00m\u001b[38;5;250m \u001b[39m\u001b[34;01mairflow_client\u001b[39;00m\u001b[34;01m.\u001b[39;00m\u001b[34;01mconfig\u001b[39;00m\u001b[38;5;250m \u001b[39m\u001b[38;5;28;01mimport\u001b[39;00m ApiClient, Configuration\n\u001b[32m      5\u001b[39m \u001b[38;5;28;01mfrom\u001b[39;00m\u001b[38;5;250m \u001b[39m\u001b[34;01mairflow_client\u001b[39;00m\u001b[34;01m.\u001b[39;00m\u001b[34;01mclient\u001b[39;00m\u001b[34;01m.\u001b[39;00m\u001b[34;01mapi\u001b[39;00m\u001b[38;5;250m \u001b[39m\u001b[38;5;28;01mimport\u001b[39;00m dag_api, auth_api\n\u001b[32m      6\u001b[39m \u001b[38;5;28;01mfrom\u001b[39;00m\u001b[38;5;250m \u001b[39m\u001b[34;01mairflow_client\u001b[39;00m\u001b[34;01m.\u001b[39;00m\u001b[34;01mclient\u001b[39;00m\u001b[34;01m.\u001b[39;00m\u001b[34;01mmodel\u001b[39;00m\u001b[34;01m.\u001b[39;00m\u001b[34;01mlogin_form\u001b[39;00m\u001b[38;5;250m \u001b[39m\u001b[38;5;28;01mimport\u001b[39;00m LoginForm\n",
      "\u001b[31mModuleNotFoundError\u001b[39m: No module named 'airflow_client'"
     ]
    }
   ],
   "source": [
    "import os\n",
    "from pprint import pprint\n",
    "\n",
    "from airflow_client.config import ApiClient, Configuration\n",
    "from airflow_client.client.api import dag_api, auth_api\n",
    "from airflow_client.client.model.login_form import LoginForm"
   ]
  },
  {
   "cell_type": "code",
   "execution_count": 5,
   "id": "4d26cca6-f01e-4e9b-ac9c-77ba7abe823a",
   "metadata": {},
   "outputs": [],
   "source": [
    "# --- Configuration ---\n",
    "AIRFLOW_API_BASE_URL = os.getenv(\"AIRFLOW_API_BASE_URL\", \"http://localhost:8080/api/v2\")\n",
    "AIRFLOW_USERNAME = os.getenv(\"AIRFLOW_USERNAME\", \"admin\")\n",
    "AIRFLOW_PASSWORD = os.getenv(\"AIRFLOW_PASSWORD\", \"gWD2q2pFt9k7fZUF\")"
   ]
  },
  {
   "cell_type": "code",
   "execution_count": 4,
   "id": "7a1c3d7f-09ec-4f24-bdf9-6f5d178e631e",
   "metadata": {},
   "outputs": [],
   "source": [
    "# --- Authentication (JWT Token) ---\n",
    "def get_airflow_jwt_token(host, username, password):\n",
    "    # This assumes the /auth/token endpoint is at the base URL, not /api/v2\n",
    "    # Adjust if your setup places it differently.\n",
    "    config = Configuration(host=host)\n",
    "    with ApiClient(config) as api_client:\n",
    "        auth_instance = auth_api.AuthApi(api_client)\n",
    "        login_form = LoginForm(username=username, password=password)\n",
    "        try:\n",
    "            auth_response = auth_instance.login(login_form=login_form)\n",
    "            return auth_response.access_token\n",
    "        except Exception as e:\n",
    "            print(f\"Error obtaining JWT token: {e}\")\n",
    "            raise"
   ]
  },
  {
   "cell_type": "code",
   "execution_count": 5,
   "id": "3bb109fb-02b5-421c-a4ad-d44a24bb6958",
   "metadata": {},
   "outputs": [
    {
     "name": "stdout",
     "output_type": "stream",
     "text": [
      "Could not get JWT token. Ensure Airflow is running and credentials are correct. Error: name 'Configuration' is not defined\n"
     ]
    }
   ],
   "source": [
    "try:\n",
    "    # Get the token from the base URL (without /api/v2)\n",
    "    jwt_token = get_airflow_jwt_token(AIRFLOW_API_BASE_URL.replace(\"/api/v2\", \"\"), AIRFLOW_USERNAME, AIRFLOW_PASSWORD)\n",
    "    configuration = Configuration(\n",
    "        host=AIRFLOW_API_BASE_URL,\n",
    "        access_token=jwt_token\n",
    "    )\n",
    "except Exception as e:\n",
    "    print(f\"Could not get JWT token. Ensure Airflow is running and credentials are correct. Error: {e}\")\n"
   ]
  },
  {
   "cell_type": "code",
   "execution_count": null,
   "id": "8e59e1f3-10a4-4a00-946a-294df378ab4c",
   "metadata": {},
   "outputs": [],
   "source": [
    "\n",
    "# --- Airflow API Interactions ---\n",
    "with ApiClient(configuration) as api_client:\n",
    "    # Create an instance of the DAGApi\n",
    "    dags_api_instance = dag_api.DAGApi(api_client)\n",
    "\n",
    "    # --- 1. Get all DAGs ---\n",
    "    print(\"\\n--- Getting all active DAGs ---\")\n",
    "    try:\n",
    "        # You can use parameters like 'only_active=True' to filter results\n",
    "        # 'limit' and 'offset' for pagination if you have many DAGs\n",
    "        list_dags_response = dags_api_instance.get_dags(only_active=True)\n",
    "        \n",
    "        if list_dags_response and list_dags_response.dags:\n",
    "            print(f\"Found {len(list_dags_response.dags)} active DAGs:\")\n",
    "            for dag in list_dags_response.dags:\n",
    "                print(f\"  - DAG ID: {dag.dag_id}, Is Paused: {dag.is_paused}, File Location: {dag.fileloc}\")\n",
    "                # For a more complete view of what's available:\n",
    "                # pprint(dag.to_dict()) # Uncomment to see full dictionary for each DAG\n",
    "        else:\n",
    "            print(\"No active DAGs found.\")\n",
    "\n",
    "    except Exception as e:\n",
    "        print(f\"Error getting all DAGs: {e}\")\n",
    "\n",
    "    # --- 2. Get details for a given DAG ---\n",
    "    # Replace with a DAG_ID that exists in your Airflow instance\n",
    "    target_dag_id = \"example_bash_operator\" # Or one of the IDs from the list above\n",
    "\n",
    "    print(f\"\\n--- Getting details for DAG: '{target_dag_id}' ---\")\n",
    "    try:\n",
    "        dag_details = dags_api_instance.get_dag(dag_id=target_dag_id)\n",
    "        \n",
    "        print(f\"Details for DAG ID: {dag_details.dag_id}\")\n",
    "        print(f\"  Description: {dag_details.description}\")\n",
    "        print(f\"  File Location: {dag_details.fileloc}\")\n",
    "        print(f\"  Is Paused: {dag_details.is_paused}\")\n",
    "        print(f\"  Schedule Interval: {dag_details.schedule_interval.to_dict() if dag_details.schedule_interval else 'None'}\")\n",
    "        \n",
    "        # Accessing parameters (new in Airflow 3.x - if defined in the DAG)\n",
    "        if dag_details.params:\n",
    "            print(\"  Defined Parameters (params):\")\n",
    "            for param_key, param_value in dag_details.params.items():\n",
    "                print(f\"    - {param_key}:\")\n",
    "                # 'param_value' will be an instance of 'Param' model\n",
    "                print(f\"      Type: {param_value.type}, Default: {param_value.default}, Description: {param_value.description}\")\n",
    "        else:\n",
    "            print(\"  No parameters (params) defined for this DAG.\")\n",
    "\n",
    "        print(\"\\nFull DAG details (as dictionary):\")\n",
    "        pprint(dag_details.to_dict())\n",
    "\n",
    "    except Exception as e:\n",
    "        print(f\"Error getting details for DAG '{target_dag_id}': {e}\")\n",
    "        print(\"Please ensure the DAG ID is correct and it exists in your Airflow instance.\")"
   ]
  }
 ],
 "metadata": {
  "kernelspec": {
   "display_name": "Python 3 (ipykernel)",
   "language": "python",
   "name": "python3"
  },
  "language_info": {
   "codemirror_mode": {
    "name": "ipython",
    "version": 3
   },
   "file_extension": ".py",
   "mimetype": "text/x-python",
   "name": "python",
   "nbconvert_exporter": "python",
   "pygments_lexer": "ipython3",
   "version": "3.13.5"
  }
 },
 "nbformat": 4,
 "nbformat_minor": 5
}
